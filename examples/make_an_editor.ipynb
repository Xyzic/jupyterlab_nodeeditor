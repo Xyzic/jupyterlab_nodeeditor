{
 "cells": [
  {
   "cell_type": "code",
   "execution_count": 1,
   "id": "c04f3bd5-7fe6-432d-8330-7f781ef6a151",
   "metadata": {},
   "outputs": [],
   "source": [
    "import ipywidgets\n",
    "import traitlets\n",
    "import jupyterlab_nodeeditor as jlne\n",
    "import time"
   ]
  },
  {
   "cell_type": "code",
   "execution_count": 2,
   "id": "d054b75e-a20c-423c-b52b-333633d16a6d",
   "metadata": {},
   "outputs": [
    {
     "data": {
      "application/vnd.jupyter.widget-view+json": {
       "model_id": "ed40536cb44a4936a08a65ae5eacfce2",
       "version_major": 2,
       "version_minor": 0
      },
      "text/plain": [
       "VBox(children=(Label(value=''), NodeEditorModel(selected_node=None)))"
      ]
     },
     "metadata": {},
     "output_type": "display_data"
    }
   ],
   "source": [
    "ne = jlne.NodeEditor()\n",
    "label = ipywidgets.Label()\n",
    "def update_label(change):\n",
    "    label.value = f\"Selected {change['new'].title} at {time.time()}\"\n",
    "ne.node_editor.observe(update_label, ['selected_node'])\n",
    "\n",
    "display(ipywidgets.VBox([label, ne.node_editor]))"
   ]
  },
  {
   "cell_type": "code",
   "execution_count": null,
   "id": "ad9cafbb-f8d7-4517-830e-2b73013ae7ff",
   "metadata": {},
   "outputs": [],
   "source": []
  }
 ],
 "metadata": {
  "kernelspec": {
   "display_name": "py39",
   "language": "python",
   "name": "py39"
  },
  "language_info": {
   "codemirror_mode": {
    "name": "ipython",
    "version": 3
   },
   "file_extension": ".py",
   "mimetype": "text/x-python",
   "name": "python",
   "nbconvert_exporter": "python",
   "pygments_lexer": "ipython3",
   "version": "3.9.7"
  }
 },
 "nbformat": 4,
 "nbformat_minor": 5
}
