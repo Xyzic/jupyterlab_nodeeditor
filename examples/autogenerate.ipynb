{
 "cells": [
  {
   "cell_type": "code",
   "execution_count": 4,
   "id": "f7731c5b-be7d-44ac-9a6f-407bf360d08c",
   "metadata": {},
   "outputs": [],
   "source": [
    "import jupyterlab_nodeeditor as jlne\n",
    "from yggdrasil import yamlfile"
   ]
  },
  {
   "cell_type": "code",
   "execution_count": 5,
   "id": "7c3d30bc-dfcf-457f-9b36-58c15bc5208a",
   "metadata": {},
   "outputs": [],
   "source": [
    "filename = \"X:\\College\\Grad School\\Research\\jupyterlab_nodeeditor\\examples\\model_example.yml\"\n",
    "model_set = yamlfile.parse_yaml(filename, model_only=True)\n",
    "\n",
    "schema = yamlfile.get_schema()\n",
    "socket_types = tuple(schema.form_schema['definitions']['schema']['definitions']['simpleTypes']['enum'])\n",
    "\n",
    "ne = jlne.NodeEditor(socket_types = socket_types)"
   ]
  },
  {
   "cell_type": "code",
   "execution_count": 6,
   "id": "8210daa5-c592-4662-9e8a-95100895dcd8",
   "metadata": {},
   "outputs": [
    {
     "data": {
      "application/vnd.jupyter.widget-view+json": {
       "model_id": "e7dc7c5ead1c4582b2c451356fe9e820",
       "version_major": 2,
       "version_minor": 0
      },
      "text/plain": [
       "HBox(children=(NodeEditorModel(selected_node=None), Tab()))"
      ]
     },
     "metadata": {},
     "output_type": "display_data"
    }
   ],
   "source": [
    "ne"
   ]
  },
  {
   "cell_type": "code",
   "execution_count": 9,
   "id": "150005ed-c743-469e-b0e9-4d0504c0123c",
   "metadata": {},
   "outputs": [
    {
     "data": {
      "text/plain": [
       "'Empty Title'"
      ]
     },
     "execution_count": 9,
     "metadata": {},
     "output_type": "execute_result"
    }
   ],
   "source": [
    "ne.node_editor.nodes[0].display_element.children[0].value"
   ]
  },
  {
   "cell_type": "code",
   "execution_count": 10,
   "id": "d2e1e844-67b7-4a3f-8d66-c14e3bbc2d93",
   "metadata": {},
   "outputs": [],
   "source": [
    "from yggdrasil.runner import YggRunner"
   ]
  },
  {
   "cell_type": "code",
   "execution_count": 11,
   "id": "b21035ec-8c99-4685-9ff9-0340b520a767",
   "metadata": {},
   "outputs": [],
   "source": [
    "runner = YggRunner(\"gs_lesson4/gs_lesson4_python.yml\")"
   ]
  },
  {
   "cell_type": "code",
   "execution_count": 12,
   "id": "55f47088-74af-4835-9654-3bec926a5807",
   "metadata": {},
   "outputs": [],
   "source": [
    "# runner.drivers"
   ]
  },
  {
   "cell_type": "code",
   "execution_count": 13,
   "id": "8de5f2eb-03ed-4f89-8581-b1803be1472c",
   "metadata": {},
   "outputs": [],
   "source": [
    "# Updating a label in realtime\n",
    "# This will be used to update data on the front-end and have the backend automatically adjust it\n",
    "\n",
    "class Something:\n",
    "    val = 0\n",
    "    def update_label(self, *args, **kwargs):\n",
    "        ne.node_editor.nodes[0].display_element.children[0].value = f\"Hello {self.val}\"\n",
    "        self.val += 1\n",
    "s = Something()"
   ]
  },
  {
   "cell_type": "code",
   "execution_count": 20,
   "id": "dc19857f-e7db-4b58-bda7-2a009dc43159",
   "metadata": {},
   "outputs": [
    {
     "data": {
      "text/plain": [
       "{'python_modelA:outputA_to_python_modelB:inputB': {'inputs': [{'name': 'python_modelA:outputA',\n",
       "    'commtype': 'default',\n",
       "    'datatype': {'type': 'bytes'},\n",
       "    'model_driver': ['python_modelA'],\n",
       "    'partner_model': 'python_modelA',\n",
       "    'partner_language': 'python'}],\n",
       "  'outputs': [{'name': 'python_modelB:inputB',\n",
       "    'commtype': 'default',\n",
       "    'datatype': {'type': 'bytes'},\n",
       "    'model_driver': ['python_modelB'],\n",
       "    'partner_model': 'python_modelB',\n",
       "    'partner_language': 'python'}],\n",
       "  'src_models': ['python_modelA'],\n",
       "  'dst_models': ['python_modelB'],\n",
       "  'driver': 'ConnectionDriver',\n",
       "  'name': 'python_modelA:outputA_to_python_modelB:inputB',\n",
       "  'callbacks': [<bound method Something.update_label of <__main__.Something object at 0x000001EBF6CCD700>>],\n",
       "  'task_method': 'thread',\n",
       "  'instance': <yggdrasil.drivers.ConnectionDriver.ConnectionDriver at 0x1ebf6c99070>},\n",
       " 'python_modelA:inputA': {'inputs': [{'name': './Input/input.txt',\n",
       "    'working_dir': 'X:\\\\College\\\\Grad School\\\\Research\\\\jupyterlab_nodeeditor\\\\examples\\\\gs_lesson4',\n",
       "    'filetype': 'binary',\n",
       "    'serializer': {'seritype': 'direct'},\n",
       "    'address': 'X:\\\\College\\\\Grad School\\\\Research\\\\jupyterlab_nodeeditor\\\\examples\\\\gs_lesson4\\\\Input\\\\input.txt'}],\n",
       "  'outputs': [{'name': 'python_modelA:inputA',\n",
       "    'commtype': 'default',\n",
       "    'datatype': {'type': 'bytes'},\n",
       "    'model_driver': ['python_modelA'],\n",
       "    'partner_model': 'python_modelA',\n",
       "    'partner_language': 'python'}],\n",
       "  'src_models': [],\n",
       "  'dst_models': ['python_modelA'],\n",
       "  'driver': 'ConnectionDriver',\n",
       "  'name': 'python_modelA:inputA',\n",
       "  'task_method': 'thread',\n",
       "  'instance': <yggdrasil.drivers.ConnectionDriver.ConnectionDriver at 0x1ebf6bea8b0>},\n",
       " 'python_modelB:outputB': {'inputs': [{'name': 'python_modelB:outputB',\n",
       "    'commtype': 'default',\n",
       "    'datatype': {'type': 'bytes'},\n",
       "    'model_driver': ['python_modelB'],\n",
       "    'partner_model': 'python_modelB',\n",
       "    'partner_language': 'python'}],\n",
       "  'outputs': [{'name': './output.txt',\n",
       "    'working_dir': 'X:\\\\College\\\\Grad School\\\\Research\\\\jupyterlab_nodeeditor\\\\examples\\\\gs_lesson4',\n",
       "    'filetype': 'binary',\n",
       "    'serializer': {'seritype': 'direct'},\n",
       "    'address': 'X:\\\\College\\\\Grad School\\\\Research\\\\jupyterlab_nodeeditor\\\\examples\\\\gs_lesson4\\\\output.txt'}],\n",
       "  'src_models': ['python_modelB'],\n",
       "  'dst_models': [],\n",
       "  'driver': 'ConnectionDriver',\n",
       "  'name': 'python_modelB:outputB',\n",
       "  'task_method': 'thread',\n",
       "  'instance': <yggdrasil.drivers.ConnectionDriver.ConnectionDriver at 0x1ebf7197940>}}"
      ]
     },
     "execution_count": 20,
     "metadata": {},
     "output_type": "execute_result"
    }
   ],
   "source": [
    "runner.connectiondrivers"
   ]
  },
  {
   "cell_type": "code",
   "execution_count": 15,
   "id": "13e88e4b-bb72-452f-a5dc-b55b2a567cbf",
   "metadata": {},
   "outputs": [],
   "source": [
    "# Add in a callbacks key that just updates the label of the runner\n",
    "# This basically allows us to modify the \n",
    "\n",
    "runner.connectiondrivers['python_modelA:outputA_to_python_modelB:inputB']['callbacks'] = [s.update_label]"
   ]
  },
  {
   "cell_type": "code",
   "execution_count": 16,
   "id": "a321f83c-b15d-4084-87c4-b8dd324777ba",
   "metadata": {},
   "outputs": [
    {
     "name": "stdout",
     "output_type": "stream",
     "text": [
      "INFO:24280:FortranModelDriver.before_registration[417]:The MSVC compiler could not be located. The Python C API assumes the MSVC CRT will be used on windows so there may be errors when accessing some behavior of the Python C API. In particular, segfaults are known to occur when trying to call display_python due to differences in the internal structure of FILE* objects between MSVC and other standards.\n",
      "INFO:24280:runner.startDrivers[800]:YggRunner(runner): Starting I/O drivers and models on system None in namespace yggdrasil with rank 0\n",
      "X:\\anaconda3\\envs\\yggJLNE\\python.exe X:\\College\\Grad School\\Research\\jupyterlab_nodeeditor\\examples\\gs_lesson4\\src\\gs_lesson4_modelA.py\n",
      "X:\\anaconda3\\envs\\yggJLNE\\python.exe X:\\College\\Grad School\\Research\\jupyterlab_nodeeditor\\examples\\gs_lesson4\\src\\gs_lesson4_modelB.py\n",
      "- b'Hello!\\n'\n",
      "+ b''\n",
      "- b'Hello!\\n'\n",
      "+ b''\n",
      "- b'Hello!\\n'\n",
      "+ b''\n",
      "- b'EOF!!!'\n",
      "+ b''\n",
      "- b'EOF!!!'\n",
      "+ b''\n",
      "+ b''\n",
      "- (b'YGG_MSG_HEAD{\"datatype\":{\"precision\":56,\"type\":\"bytes\",\"units\":\"\"},\"id\":\"f5a'\n",
      "-  b'50274-578b-465c-8b34-53bd520d65cd\",\"model\":\"python_modelA\",\"seritype\":\"defau'\n",
      "-  b'lt\",\"size\":16,\"typedef_base\":{\"type\":\"bytes\"},\"zmq_reply\":\"tcp://127.0.0.1:6'\n",
      "-  b'4940\"}YGG_MSG_HEAD\"SGVsbG8hCg==\\\\n\"')\n",
      "- b'Hello!\\n'\n",
      "+ b''\n",
      "- b'Hello!\\n'\n",
      "+ b''\n",
      "+ b''\n",
      "- (b'YGG_MSG_HEAD{\"datatype\":{\"precision\":56,\"type\":\"bytes\",\"units\":\"\"},\"id\":\"046'\n",
      "-  b'33edd-0948-4682-8cac-53cdf55d55ff\",\"seritype\":\"default\",\"size\":16,\"typedef_b'\n",
      "-  b'ase\":{\"type\":\"bytes\"},\"zmq_reply\":\"tcp://127.0.0.1:64910\"}YGG_MSG_HEAD\"SGVsb'\n",
      "-  b'G8hCg==\\\\n\"')\n",
      "- b'Hello!\\n'\n",
      "+ b''\n",
      "Model A: b'Hello!\\n'\n",
      "+ b''\n",
      "- (b'YGG_MSG_HEAD{\"id\":\"daeb0aa0-3874-4159-a1e3-2bd2ed50fa66\",\"raw\":true,\"serityp'\n",
      "-  b'e\":\"default\",\"size\":6,\"typedef_base\":{\"type\":\"bytes\"},\"zmq_reply\":\"tcp://127'\n",
      "-  b'.0.0.1:64910\"}YGG_MSG_HEADEOF!!!')\n",
      "Model A: No more input.\n",
      "+ b''\n",
      "- (b'YGG_MSG_HEAD{\"id\":\"0b35cd9b-7d63-444e-86de-e27ae56cba2d\",\"model\":\"python_mod'\n",
      "-  b'elA\",\"raw\":true,\"seritype\":\"default\",\"size\":6,\"typedef_base\":{\"type\":\"bytes\"'\n",
      "-  b'},\"zmq_reply\":\"tcp://127.0.0.1:64940\"}YGG_MSG_HEADEOF!!!')\n",
      "+ b''\n",
      "- (b'YGG_MSG_HEAD{\"datatype\":{\"precision\":56,\"type\":\"bytes\",\"units\":\"\"},\"id\":\"28e'\n",
      "-  b'a4c90-dbe4-4832-ade0-2eae4518c6b2\",\"model\":\"python_modelB\",\"seritype\":\"defau'\n",
      "-  b'lt\",\"size\":16,\"typedef_base\":{\"type\":\"bytes\"},\"zmq_reply\":\"tcp://127.0.0.1:6'\n",
      "-  b'4958\"}YGG_MSG_HEAD\"SGVsbG8hCg==\\\\n\"')\n",
      "- b'Hello!\\n'\n",
      "+ b''\n",
      "- b'Hello!\\n'\n",
      "+ b''\n",
      "+ b''\n",
      "- (b'YGG_MSG_HEAD{\"datatype\":{\"precision\":56,\"type\":\"bytes\",\"units\":\"\"},\"id\":\"32a'\n",
      "-  b'3352f-9012-45ea-805b-df80abcf871b\",\"model\":\"python_modelA\",\"seritype\":\"defau'\n",
      "-  b'lt\",\"size\":16,\"typedef_base\":{\"type\":\"bytes\"},\"zmq_reply\":\"tcp://127.0.0.1:6'\n",
      "-  b'4950\"}YGG_MSG_HEAD\"SGVsbG8hCg==\\\\n\"')\n",
      "- b'Hello!\\n'\n",
      "+ b''\n",
      "Model B: b'Hello!\\n'\n",
      "+ b''\n",
      "- (b'YGG_MSG_HEAD{\"id\":\"30094c73-4008-41db-a0eb-3fa39e25b331\",\"raw\":true,\"serityp'\n",
      "-  b'e\":\"default\",\"size\":6,\"typedef_base\":{\"type\":\"bytes\"},\"zmq_reply\":\"tcp://127'\n",
      "-  b'.0.0.1:64950\"}YGG_MSG_HEADEOF!!!')\n",
      "Model B: No more input.\n",
      "+ b''\n",
      "- (b'YGG_MSG_HEAD{\"id\":\"e3ef87ef-f223-4e4e-bca1-58f097f8c076\",\"model\":\"python_mod'\n",
      "-  b'elB\",\"raw\":true,\"seritype\":\"default\",\"size\":6,\"typedef_base\":{\"type\":\"bytes\"'\n",
      "-  b'},\"zmq_reply\":\"tcp://127.0.0.1:64958\"}YGG_MSG_HEADEOF!!!')\n",
      "INFO:24280:runner.waitModels[867]:YggRunner(runner): python_modelB finished running.\n",
      "INFO:24280:runner.waitModels[873]:YggRunner(runner): python_modelB finished exiting.\n",
      "INFO:24280:runner.waitModels[867]:YggRunner(runner): python_modelA finished running.\n",
      "INFO:24280:runner.waitModels[873]:YggRunner(runner): python_modelA finished exiting.\n",
      "INFO:24280:runner.waitModels[887]:YggRunner(runner): All models completed\n",
      "INFO:24280:runner.run[446]:YggRunner(runner):                 init\t0.000000\n",
      "INFO:24280:runner.run[446]:YggRunner(runner):         load drivers\t0.257725\n",
      "INFO:24280:runner.run[446]:YggRunner(runner):        start drivers\t0.082559\n",
      "INFO:24280:runner.run[446]:YggRunner(runner):           run models\t4.216603\n",
      "INFO:24280:runner.run[446]:YggRunner(runner):              at exit\t0.004503\n",
      "INFO:24280:runner.run[448]:YggRunner(runner): ========================================\n",
      "INFO:24280:runner.run[449]:YggRunner(runner):                Total\t4.561391\n"
     ]
    },
    {
     "data": {
      "text/plain": [
       "OrderedDict([('init', 1640894899.982628),\n",
       "             ('load drivers', 1640894900.2403536),\n",
       "             ('start drivers', 1640894900.322913),\n",
       "             ('run models', 1640894904.539516),\n",
       "             ('at exit', 1640894904.5440195)])"
      ]
     },
     "execution_count": 16,
     "metadata": {},
     "output_type": "execute_result"
    }
   ],
   "source": [
    "runner.run()"
   ]
  },
  {
   "cell_type": "markdown",
   "id": "495e7d85-57dc-4097-b0c5-2be7bb7d745b",
   "metadata": {},
   "source": [
    "# TO-DO"
   ]
  },
  {
   "cell_type": "markdown",
   "id": "941997f1-5085-4980-9215-b0bef64aea6a",
   "metadata": {},
   "source": [
    "1. Figure out all the methods of a YggRunner()\n",
    "2. Understand what part of the model yamls get configured (to help with connection to JLNE)\n",
    "3. Create a visual in JLNE where values can be modifed\n",
    "4. Connect the visual to the backend YggRunner to update models/connections\n",
    "5. Optional(?) - Auto re-run JLNE to show the updated values/connections or just be able to output them right away"
   ]
  },
  {
   "cell_type": "code",
   "execution_count": null,
   "id": "ea24edf2-1b98-469a-8323-867c0ae8bb12",
   "metadata": {},
   "outputs": [],
   "source": []
  }
 ],
 "metadata": {
  "kernelspec": {
   "display_name": "yggJLNE",
   "language": "python",
   "name": "yggjlne"
  },
  "language_info": {
   "codemirror_mode": {
    "name": "ipython",
    "version": 3
   },
   "file_extension": ".py",
   "mimetype": "text/x-python",
   "name": "python",
   "nbconvert_exporter": "python",
   "pygments_lexer": "ipython3",
   "version": "3.8.12"
  }
 },
 "nbformat": 4,
 "nbformat_minor": 5
}
