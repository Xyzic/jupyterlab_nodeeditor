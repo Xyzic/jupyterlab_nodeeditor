{
 "cells": [
  {
   "cell_type": "code",
   "execution_count": 1,
   "id": "f7731c5b-be7d-44ac-9a6f-407bf360d08c",
   "metadata": {},
   "outputs": [],
   "source": [
    "import jupyterlab_nodeeditor as jlne\n",
    "from yggdrasil.interface.YggInterface import YggInput, YggOutput\n",
    "from yggdrasil.runner import YggRunner\n",
    "import numpy as np\n",
    "import time"
   ]
  },
  {
   "cell_type": "code",
   "execution_count": 36,
   "id": "fd644ef3-aa1e-4556-95e2-2ece03da9174",
   "metadata": {},
   "outputs": [],
   "source": [
    "# Sample Models\n",
    "def model_rng():\n",
    "    # Setup output file\n",
    "    out_file = YggOutput('outputRNG_file')\n",
    "\n",
    "    # This variable is just to limit the number of numbers output, can remove if needed\n",
    "    fake_timer = 0\n",
    "\n",
    "    # Every 10 seconds, send a random number through the model\n",
    "    while True:\n",
    "        if fake_timer == 3:\n",
    "            break\n",
    "        rng = np.random.randint(0, 25)\n",
    "        out_file.send(rng)\n",
    "        fake_timer += 1\n",
    "        time.sleep(10)\n",
    "        \n",
    "# If we want to do remote reading, we can try reading in the url as its own model\n",
    "# Then transfer that model to another model to read it in ygg\n",
    "# This is done locally\n",
    "\n",
    "def model_reader():\n",
    "    in_file = YggInput('inputReader_file')\n",
    "    out_file = YggOutput('outputReader_file')\n",
    "    line_number = 0\n",
    "    ret = True\n",
    "\n",
    "    # Output the text line by line with the line number\n",
    "    while ret:\n",
    "        (ret, line) = in_file.recv()\n",
    "        if ret:\n",
    "            line_number += 1\n",
    "            ret = out_file.send(line_number, line)\n",
    "            if not ret:\n",
    "                raise RuntimeError(\"ERROR SENDING LINE\")\n",
    "        else:\n",
    "            print(\"End of File\")\n",
    "            out_file.send_eof()\n",
    "\n",
    "# Input a number for rotation and a string via file\n",
    "def rotxx_func(x, txt):\n",
    "    alphabet = \"abcdefghijklmnopqrstuvwxyz\"\n",
    "    # Commented out because no input file in Jupyter, uncomment if using directly in ygg\n",
    "    # txt_string = txt.decode(\"utf-8\")\n",
    "\n",
    "    # It's a one-liner: rotate the string by the number and send it out\n",
    "    rotxx = \"\".join([alphabet[(alphabet.find(c) + x) % 26] for c in txt])\n",
    "    return rotxx"
   ]
  },
  {
   "cell_type": "code",
   "execution_count": null,
   "id": "270745e8-44e4-4206-ac8f-2b48f2d98b65",
   "metadata": {},
   "outputs": [],
   "source": [
    "rng_runner = YggRunner(te"
   ]
  },
  {
   "cell_type": "code",
   "execution_count": null,
   "id": "8210daa5-c592-4662-9e8a-95100895dcd8",
   "metadata": {},
   "outputs": [
    {
     "data": {
      "application/vnd.jupyter.widget-view+json": {
       "model_id": "789ae84ceea548a89a0358c07d8ca1ba",
       "version_major": 2,
       "version_minor": 0
      },
      "text/plain": [
       "HBox(children=(NodeEditorModel(selected_node=None), Tab()))"
      ]
     },
     "metadata": {},
     "output_type": "display_data"
    }
   ],
   "source": [
    "ne"
   ]
  },
  {
   "cell_type": "code",
   "execution_count": 26,
   "id": "b21035ec-8c99-4685-9ff9-0340b520a767",
   "metadata": {},
   "outputs": [],
   "source": [
    "rotxx_runner = YggRunner(\"testing_ignore/test.yml\")"
   ]
  },
  {
   "cell_type": "code",
   "execution_count": null,
   "id": "8de5f2eb-03ed-4f89-8581-b1803be1472c",
   "metadata": {},
   "outputs": [],
   "source": [
    "class Something:\n",
    "    val = 0\n",
    "    def update_label(self, *args, **kwargs):\n",
    "        ne.node_editor.nodes[0].display_element.children[0].value = rotxx_func(13, \"berlin\")\n",
    "        self.val += 1\n",
    "s = Something()"
   ]
  },
  {
   "cell_type": "code",
   "execution_count": null,
   "id": "13e88e4b-bb72-452f-a5dc-b55b2a567cbf",
   "metadata": {},
   "outputs": [],
   "source": [
    "runner.connectiondrivers['python_modelA:outputA_to_python_modelB:inputB']['callbacks'] = [s.update_label]"
   ]
  },
  {
   "cell_type": "code",
   "execution_count": null,
   "id": "150005ed-c743-469e-b0e9-4d0504c0123c",
   "metadata": {},
   "outputs": [
    {
     "data": {
      "text/plain": [
       "'oreyva'"
      ]
     },
     "execution_count": 32,
     "metadata": {},
     "output_type": "execute_result"
    }
   ],
   "source": [
    "ne.node_editor.nodes[0].display_element.children[0].value"
   ]
  },
  {
   "cell_type": "code",
   "execution_count": null,
   "id": "a321f83c-b15d-4084-87c4-b8dd324777ba",
   "metadata": {},
   "outputs": [
    {
     "name": "stdout",
     "output_type": "stream",
     "text": [
      "INFO:27320:runner.startDrivers[804]:YggRunner(runner): Starting I/O drivers and models on system None in namespace yggdrasil with rank 0\n",
      "X:\\anaconda3\\envs\\yggJLNE\\python.exe X:\\College\\Grad School\\Research\\gc-Xyzic\\jupyterlab_nodeeditor\\examples\\testing_ignore\\modelA.py\n",
      "X:\\anaconda3\\envs\\yggJLNE\\python.exe X:\\College\\Grad School\\Research\\gc-Xyzic\\jupyterlab_nodeeditor\\examples\\testing_ignore\\modelB.py\n",
      "ERROR:27320:runner.waitModels[893]:YggRunner(runner): One or more models generated errors.\n",
      "ConnectionDriver(python_modelA:outputA_to_python_modelB:inputB): \n",
      "\tlast action: receiving        is_open(True, True),     0 received,    0 processed,   0 sent,        0 ready to recv     0 ready to send     \n",
      "ConnectionDriver(python_modelA:inputA):           \n",
      "\tlast action: after loop       is_open(False, True),    1 received,    1 processed,   1 sent,        1 ready to recv     2 ready to send     close state: eof              \n",
      "ConnectionDriver(python_modelB:outputB):          \n",
      "\tlast action: receiving        is_open(True, True),     0 received,    0 processed,   0 sent,        0 ready to recv     0 ready to send     \n",
      "INFO:27320:multitasking.printStatus[1434]:PythonModelDriver(python_modelA): yggdrasil.drivers.PythonModelDriver(python_modelA): state: running\n",
      "INFO:27320:multitasking.printStatus[1434]:PythonModelDriver(python_modelB): yggdrasil.drivers.PythonModelDriver(python_modelB): state: running\n",
      "INFO:27320:runner.run[450]:YggRunner(runner):                 init\t0.000000\n",
      "INFO:27320:runner.run[450]:YggRunner(runner):         load drivers\t0.025522\n",
      "INFO:27320:runner.run[450]:YggRunner(runner):        start drivers\t0.054539\n",
      "INFO:27320:runner.run[450]:YggRunner(runner):           run models\t0.185759\n",
      "INFO:27320:runner.run[450]:YggRunner(runner):              at exit\t0.001001\n",
      "INFO:27320:runner.run[452]:YggRunner(runner): ========================================\n",
      "INFO:27320:runner.run[453]:YggRunner(runner):                Total\t0.266821\n"
     ]
    },
    {
     "ename": "IntegrationError",
     "evalue": "Error running the integration.",
     "output_type": "error",
     "traceback": [
      "\u001b[1;31m---------------------------------------------------------------------------\u001b[0m",
      "\u001b[1;31mIntegrationError\u001b[0m                          Traceback (most recent call last)",
      "\u001b[1;32m<ipython-input-39-1c41d1ce6924>\u001b[0m in \u001b[0;36m<module>\u001b[1;34m\u001b[0m\n\u001b[1;32m----> 1\u001b[1;33m \u001b[0mrunner\u001b[0m\u001b[1;33m.\u001b[0m\u001b[0mrun\u001b[0m\u001b[1;33m(\u001b[0m\u001b[1;33m)\u001b[0m\u001b[1;33m\u001b[0m\u001b[1;33m\u001b[0m\u001b[0m\n\u001b[0m",
      "\u001b[1;32mx:\\college\\grad school\\research\\yggdrasil\\yggdrasil\\runner.py\u001b[0m in \u001b[0;36mrun\u001b[1;34m(self, signal_handler, timer, t0)\u001b[0m\n\u001b[0;32m    453\u001b[0m             \u001b[0mself\u001b[0m\u001b[1;33m.\u001b[0m\u001b[0minfo\u001b[0m\u001b[1;33m(\u001b[0m\u001b[1;34m'%20s\\t%f'\u001b[0m\u001b[1;33m,\u001b[0m \u001b[1;34m\"Total\"\u001b[0m\u001b[1;33m,\u001b[0m \u001b[0mtprev\u001b[0m \u001b[1;33m-\u001b[0m \u001b[0mt0\u001b[0m\u001b[1;33m)\u001b[0m\u001b[1;33m\u001b[0m\u001b[1;33m\u001b[0m\u001b[0m\n\u001b[0;32m    454\u001b[0m         \u001b[1;32mif\u001b[0m \u001b[0mself\u001b[0m\u001b[1;33m.\u001b[0m\u001b[0merror_flag\u001b[0m\u001b[1;33m:\u001b[0m\u001b[1;33m\u001b[0m\u001b[1;33m\u001b[0m\u001b[0m\n\u001b[1;32m--> 455\u001b[1;33m             \u001b[1;32mraise\u001b[0m \u001b[0mIntegrationError\u001b[0m\u001b[1;33m(\u001b[0m\u001b[1;34m\"Error running the integration.\"\u001b[0m\u001b[1;33m)\u001b[0m\u001b[1;33m\u001b[0m\u001b[1;33m\u001b[0m\u001b[0m\n\u001b[0m\u001b[0;32m    456\u001b[0m         \u001b[1;32mif\u001b[0m \u001b[0mself\u001b[0m\u001b[1;33m.\u001b[0m\u001b[0mvalidate\u001b[0m\u001b[1;33m:\u001b[0m\u001b[1;33m\u001b[0m\u001b[1;33m\u001b[0m\u001b[0m\n\u001b[0;32m    457\u001b[0m             \u001b[1;32mfor\u001b[0m \u001b[0mv\u001b[0m \u001b[1;32min\u001b[0m \u001b[0mself\u001b[0m\u001b[1;33m.\u001b[0m\u001b[0mmodeldrivers\u001b[0m\u001b[1;33m.\u001b[0m\u001b[0mvalues\u001b[0m\u001b[1;33m(\u001b[0m\u001b[1;33m)\u001b[0m\u001b[1;33m:\u001b[0m\u001b[1;33m\u001b[0m\u001b[1;33m\u001b[0m\u001b[0m\n",
      "\u001b[1;31mIntegrationError\u001b[0m: Error running the integration."
     ]
    }
   ],
   "source": [
    "runner.run()"
   ]
  },
  {
   "cell_type": "code",
   "execution_count": null,
   "id": "b5c52789-7558-4c27-af18-cfb98b067a8b",
   "metadata": {},
   "outputs": [],
   "source": []
  }
 ],
 "metadata": {
  "kernelspec": {
   "display_name": "yggJLNE",
   "language": "python",
   "name": "yggjlne"
  },
  "language_info": {
   "codemirror_mode": {
    "name": "ipython",
    "version": 3
   },
   "file_extension": ".py",
   "mimetype": "text/x-python",
   "name": "python",
   "nbconvert_exporter": "python",
   "pygments_lexer": "ipython3",
   "version": "3.8.12"
  }
 },
 "nbformat": 4,
 "nbformat_minor": 5
}
