{
 "cells": [
  {
   "cell_type": "code",
   "execution_count": null,
   "id": "f7731c5b-be7d-44ac-9a6f-407bf360d08c",
   "metadata": {},
   "outputs": [],
   "source": [
    "import jupyterlab_nodeeditor as jlne\n",
    "from yggdrasil import yamlfile"
   ]
  },
  {
   "cell_type": "code",
   "execution_count": null,
   "id": "7c3d30bc-dfcf-457f-9b36-58c15bc5208a",
   "metadata": {},
   "outputs": [],
   "source": [
    "filename = \"model_example.yml\"\n",
    "# filename = \"X:\\College\\Grad School\\Research\\jupyterlab_nodeeditor\\examples\\model_example.yml\"\n",
    "model_set = yamlfile.parse_yaml(filename, model_only=True)\n",
    "\n",
    "schema = yamlfile.get_schema()\n",
    "socket_types = tuple(schema.form_schema['definitions']['schema']['definitions']['simpleTypes']['enum'])\n",
    "\n",
    "ne = jlne.NodeEditor(socket_types = socket_types)"
   ]
  },
  {
   "cell_type": "code",
   "execution_count": null,
   "id": "8210daa5-c592-4662-9e8a-95100895dcd8",
   "metadata": {},
   "outputs": [],
   "source": [
    "ne"
   ]
  },
  {
   "cell_type": "code",
   "execution_count": null,
   "id": "150005ed-c743-469e-b0e9-4d0504c0123c",
   "metadata": {},
   "outputs": [],
   "source": [
    "ne.node_editor.nodes[0].display_element.children[0].value"
   ]
  },
  {
   "cell_type": "code",
   "execution_count": null,
   "id": "d2e1e844-67b7-4a3f-8d66-c14e3bbc2d93",
   "metadata": {},
   "outputs": [],
   "source": [
    "from yggdrasil.runner import YggRunner"
   ]
  },
  {
   "cell_type": "code",
   "execution_count": null,
   "id": "b21035ec-8c99-4685-9ff9-0340b520a767",
   "metadata": {},
   "outputs": [],
   "source": [
    "runner = YggRunner(\"gs_lesson4/gs_lesson4_python.yml\")"
   ]
  },
  {
   "cell_type": "code",
   "execution_count": null,
   "id": "55f47088-74af-4835-9654-3bec926a5807",
   "metadata": {},
   "outputs": [],
   "source": [
    "# runner.drivers"
   ]
  },
  {
   "cell_type": "code",
   "execution_count": null,
   "id": "8de5f2eb-03ed-4f89-8581-b1803be1472c",
   "metadata": {},
   "outputs": [],
   "source": [
    "# Updating a label in realtime\n",
    "# This will be used to update data on the front-end and have the backend automatically adjust it\n",
    "\n",
    "class Something:\n",
    "    val = 0\n",
    "    def update_label(self, *args, **kwargs):\n",
    "        ne.node_editor.nodes[0].display_element.children[0].value = f\"Hello {self.val}\"\n",
    "        self.val += 1\n",
    "s = Something()"
   ]
  },
  {
   "cell_type": "code",
   "execution_count": null,
   "id": "13e88e4b-bb72-452f-a5dc-b55b2a567cbf",
   "metadata": {},
   "outputs": [],
   "source": [
    "# Add in a callbacks key that just updates the label of the runner\n",
    "# This basically allows us to modify the \n",
    "\n",
    "runner.connectiondrivers['python_modelA:outputA_to_python_modelB:inputB']['callbacks'] = [s.update_label]"
   ]
  },
  {
   "cell_type": "code",
   "execution_count": null,
   "id": "a321f83c-b15d-4084-87c4-b8dd324777ba",
   "metadata": {},
   "outputs": [],
   "source": [
    "runner.run()"
   ]
  },
  {
   "cell_type": "markdown",
   "id": "495e7d85-57dc-4097-b0c5-2be7bb7d745b",
   "metadata": {},
   "source": [
    "# TO-DO"
   ]
  },
  {
   "cell_type": "markdown",
   "id": "941997f1-5085-4980-9215-b0bef64aea6a",
   "metadata": {},
   "source": [
    "1. Figure out all the methods of a YggRunner()\n",
    "2. Understand what part of the model yamls get configured (to help with connection to JLNE)\n",
    "3. Create a visual in JLNE where values can be modifed\n",
    "4. Connect the visual to the backend YggRunner to update models/connections\n",
    "5. Optional(?) - Auto re-run JLNE to show the updated values/connections or just be able to output them right away"
   ]
  },
  {
   "cell_type": "code",
   "execution_count": null,
   "id": "ea24edf2-1b98-469a-8323-867c0ae8bb12",
   "metadata": {},
   "outputs": [],
   "source": []
  }
 ],
 "metadata": {
  "kernelspec": {
   "display_name": "yggJLNE",
   "language": "python",
   "name": "yggjlne"
  },
  "language_info": {
   "codemirror_mode": {
    "name": "ipython",
    "version": 3
   },
   "file_extension": ".py",
   "mimetype": "text/x-python",
   "name": "python",
   "nbconvert_exporter": "python",
   "pygments_lexer": "ipython3",
   "version": "3.8.12"
  }
 },
 "nbformat": 4,
 "nbformat_minor": 5
}
