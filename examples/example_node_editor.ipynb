{
 "cells": [
  {
   "cell_type": "code",
   "execution_count": null,
   "id": "8a9b8a36-60a5-45e2-8609-8dcf53ab257e",
   "metadata": {},
   "outputs": [],
   "source": [
    "import jupyterlab_nodeeditor as jlne"
   ]
  },
  {
   "cell_type": "code",
   "execution_count": null,
   "id": "12b870ab-c94e-403f-a1c8-0f93a2270448",
   "metadata": {},
   "outputs": [],
   "source": [
    "ne = jlne.NodeEditor()"
   ]
  },
  {
   "cell_type": "code",
   "execution_count": null,
   "id": "4331f695-c26f-4147-af65-c71dd2b159f3",
   "metadata": {},
   "outputs": [],
   "source": [
    "ne.socket_types = ('Temperature', 'Rainfall', 'Delta Time', 'Results')"
   ]
  },
  {
   "cell_type": "code",
   "execution_count": null,
   "id": "0e9b7f98-86d7-4a37-953b-24ae61e6ac43",
   "metadata": {},
   "outputs": [],
   "source": [
    "ne.add_component(\n",
    "    {\"inputs\": [\n",
    "                {'title': 'Temperature Morning', 'key': 'temp1', 'socket_type': 'Temperature'},\n",
    "                {'title': 'Temperature Afternoon', 'key': 'temp2', 'socket_type': 'Temperature'},\n",
    "                {'title': 'Temperature Evening', 'key': 'temp3', 'socket_type': 'Temperature'}\n",
    "                ],\n",
    "     \"outputs\": [\n",
    "                {'title': 'Results', 'key': 'results', 'socket_type': 'Results'}\n",
    "                ],\n",
    "\n",
    "     \"title\": \"Temperature Averaging\"\n",
    "})"
   ]
  },
  {
   "cell_type": "code",
   "execution_count": null,
   "id": "6d7a4a92-981c-42ef-99e5-84f025c64d8f",
   "metadata": {},
   "outputs": [],
   "source": [
    "ne"
   ]
  },
  {
   "cell_type": "code",
   "execution_count": null,
   "id": "4f05cf9f-64fa-4d52-a68b-aee9fb768359",
   "metadata": {},
   "outputs": [],
   "source": []
  }
 ],
 "metadata": {
  "kernelspec": {
   "display_name": "py39",
   "language": "python",
   "name": "py39"
  },
  "language_info": {
   "codemirror_mode": {
    "name": "ipython",
    "version": 3
   },
   "file_extension": ".py",
   "mimetype": "text/x-python",
   "name": "python",
   "nbconvert_exporter": "python",
   "pygments_lexer": "ipython3",
   "version": "3.9.6"
  }
 },
 "nbformat": 4,
 "nbformat_minor": 5
}
