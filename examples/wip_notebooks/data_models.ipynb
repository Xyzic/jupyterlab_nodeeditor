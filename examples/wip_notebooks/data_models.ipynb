{
 "cells": [
  {
   "cell_type": "markdown",
   "id": "3b1f99a3-bb99-4a96-86e9-7534683ea5f9",
   "metadata": {},
   "source": [
    "1. One model that emits a random number between 0 and 25 every ten seconds.\n",
    "2. One model that emits a line in some file (say, from project gutenberg or something, it doesn't matter) one at a time.\n",
    "3. One model that receives a number and a line of text, and then it applies something to them and emits a new line of text.  Have it rotate the text -- if you're familiar with ROT13, this would be ROTXX where XX is the random number.\n",
    "\n",
    "Each of these can be a python function, and I want you to compose a graph of them.\n",
    "\n",
    "We will run these inside yggdrasil, and each one will have a widget that will display its output."
   ]
  },
  {
   "cell_type": "code",
   "execution_count": 2,
   "id": "fab052bd-4b87-4169-80f6-1c9d79322a54",
   "metadata": {},
   "outputs": [],
   "source": [
    "import jupyterlab_nodeeditor as jlne\n",
    "from yggdrasil.interface.YggInterface import YggInput, YggOutput\n",
    "from yggdrasil.runner import YggRunner\n",
    "import numpy as np\n",
    "import time"
   ]
  },
  {
   "cell_type": "code",
   "execution_count": 5,
   "id": "f6af6ced-606c-4f99-8fa2-047f569b6205",
   "metadata": {},
   "outputs": [],
   "source": [
    "def model_rng():\n",
    "    # Setup output file\n",
    "    out_file = YggOutput('outputRNG_file')\n",
    "\n",
    "    # This variable is jsut to limit the number of numbers output, can remove if needed\n",
    "    fake_timer = 0\n",
    "\n",
    "    # Every 10 seconds, send a random number through the model\n",
    "    while True:\n",
    "        if fake_timer == 3:\n",
    "            break\n",
    "        rng = np.random.randint(0, 25)\n",
    "        out_file.send(rng)\n",
    "        fake_timer += 1\n",
    "        time.sleep(10)"
   ]
  },
  {
   "cell_type": "code",
   "execution_count": 9,
   "id": "6d9280d0-d87a-4abe-8475-ad0778daf141",
   "metadata": {},
   "outputs": [],
   "source": [
    "# If we want to do remote reading, we can try reading in the url as its own model\n",
    "# Then transfer that model to another model to read it in ygg\n",
    "# This is done locally\n",
    "\n",
    "def model_reader():\n",
    "    in_file = YggInput('inputReader_file')\n",
    "    out_file = YggOutput('outputReader_file')\n",
    "    line_number = 0\n",
    "    ret = True\n",
    "\n",
    "    # Output the text line by line with the line number\n",
    "    while ret:\n",
    "        (ret, line) = in_file.recv()\n",
    "        if ret:\n",
    "            line_number += 1\n",
    "            ret = out_file.send(line_number, line)\n",
    "            if not ret:\n",
    "                raise RuntimeError(\"ERROR SENDING LINE\")\n",
    "        else:\n",
    "            print(\"End of File\")\n",
    "            out_file.send_eof()"
   ]
  },
  {
   "cell_type": "code",
   "execution_count": 14,
   "id": "24c5e6ac-bf6e-4147-9a0c-f02048f440bc",
   "metadata": {},
   "outputs": [],
   "source": [
    "# Input a number for rotation and a string via file\n",
    "def rotxx_func(x, txt):\n",
    "    alphabet = \"abcdefghijklmnopqrstuvwxyz\"\n",
    "    txt_string = txt.decode(\"utf-8\")\n",
    "\n",
    "    # It's a one-liner: rotate the string by the number and send it out\n",
    "    rotxx = \"\".join([alphabet[(alphabet.find(c) + x) % 26] for c in txt_string])\n",
    "    return rotxx"
   ]
  },
  {
   "cell_type": "code",
   "execution_count": null,
   "id": "abba45dd-1014-4df6-ae53-5256d33fce1b",
   "metadata": {},
   "outputs": [],
   "source": []
  }
 ],
 "metadata": {
  "kernelspec": {
   "display_name": "yggJLNE",
   "language": "python",
   "name": "yggjlne"
  },
  "language_info": {
   "codemirror_mode": {
    "name": "ipython",
    "version": 3
   },
   "file_extension": ".py",
   "mimetype": "text/x-python",
   "name": "python",
   "nbconvert_exporter": "python",
   "pygments_lexer": "ipython3",
   "version": "3.8.12"
  }
 },
 "nbformat": 4,
 "nbformat_minor": 5
}
