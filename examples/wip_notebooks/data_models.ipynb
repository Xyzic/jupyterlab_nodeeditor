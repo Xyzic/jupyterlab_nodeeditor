{
 "cells": [
  {
   "cell_type": "markdown",
   "id": "3b1f99a3-bb99-4a96-86e9-7534683ea5f9",
   "metadata": {},
   "source": [
    "### I want you to set up three models.\n",
    "1. One model that emits a random number between 0 and 25 every ten seconds.\n",
    "2. One model that emits a line in some file (say, from project gutenberg or something, it doesn't matter) one at a time.\n",
    "3. One model that receives a number and a line of text, and then it applies something to them and emits a new line of text.  Have it rotate the text -- if you're familiar with ROT13, this would be ROTXX where XX is the random number.\n",
    "\n",
    "### Each of these can be a python function, and I want you to compose a graph of them.\n",
    "### We will run these inside yggdrasil, and each one will have a widget that will display its output."
   ]
  },
  {
   "cell_type": "code",
   "execution_count": 4,
   "id": "fab052bd-4b87-4169-80f6-1c9d79322a54",
   "metadata": {},
   "outputs": [],
   "source": [
    "import jupyterlab_nodeeditor as jlne\n",
    "import yggdrasil\n",
    "import numpy as np\n",
    "import time\n",
    "import urllib"
   ]
  },
  {
   "cell_type": "code",
   "execution_count": 5,
   "id": "f6af6ced-606c-4f99-8fa2-047f569b6205",
   "metadata": {},
   "outputs": [],
   "source": [
    "def model_rng():\n",
    "    # Change this to \"emit\"\n",
    "    while True:\n",
    "        print(np.random.randint(0, 25))\n",
    "        time.sleep(10)"
   ]
  },
  {
   "cell_type": "code",
   "execution_count": 9,
   "id": "6d9280d0-d87a-4abe-8475-ad0778daf141",
   "metadata": {},
   "outputs": [],
   "source": [
    "def model_book():\n",
    "    # Change this to \"emit\"\n",
    "    file = urllib.request.urlopen(\"https://www.gutenberg.org/files/74/74-0.txt\")\n",
    "    i = 0\n",
    "    for line in file:\n",
    "        decoded_line = line.decode(\"utf-8\")\n",
    "        i += 1\n",
    "        print(i, decoded_line)\n",
    "        time.sleep(2)"
   ]
  },
  {
   "cell_type": "code",
   "execution_count": 14,
   "id": "24c5e6ac-bf6e-4147-9a0c-f02048f440bc",
   "metadata": {},
   "outputs": [],
   "source": [
    "def model_rotxx(x, txt):\n",
    "    # Change this to \"emit\"\n",
    "    alphabet = \"abcdefghijklmnopqrstuvwxyz\"\n",
    "    rotxx = \"\".join([alphabet[(alphabet.find(c) + x) % 26] for c in txt])\n",
    "    return rotxx"
   ]
  },
  {
   "cell_type": "code",
   "execution_count": 15,
   "id": "022975e1-9b00-4b34-b682-644df28921d7",
   "metadata": {},
   "outputs": [
    {
     "data": {
      "text/plain": [
       "'oreyva'"
      ]
     },
     "execution_count": 15,
     "metadata": {},
     "output_type": "execute_result"
    }
   ],
   "source": [
    "model_rotxx(13, \"berlin\")"
   ]
  },
  {
   "cell_type": "code",
   "execution_count": null,
   "id": "abba45dd-1014-4df6-ae53-5256d33fce1b",
   "metadata": {},
   "outputs": [],
   "source": []
  }
 ],
 "metadata": {
  "kernelspec": {
   "display_name": "yggJLNE",
   "language": "python",
   "name": "yggjlne"
  },
  "language_info": {
   "codemirror_mode": {
    "name": "ipython",
    "version": 3
   },
   "file_extension": ".py",
   "mimetype": "text/x-python",
   "name": "python",
   "nbconvert_exporter": "python",
   "pygments_lexer": "ipython3",
   "version": "3.8.12"
  }
 },
 "nbformat": 4,
 "nbformat_minor": 5
}
