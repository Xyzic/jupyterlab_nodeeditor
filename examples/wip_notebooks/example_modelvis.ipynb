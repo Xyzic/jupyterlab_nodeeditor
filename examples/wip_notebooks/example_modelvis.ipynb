{
 "cells": [
  {
   "cell_type": "code",
   "execution_count": null,
   "id": "fe92f85a-3456-47db-b154-80c9eb9e03dd",
   "metadata": {},
   "outputs": [],
   "source": [
    "import jupyterlab_nodeeditor as jlne\n",
    "import ipywidgets, yaml\n",
    "from yggdrasil.runner import YggRunner\n",
    "from model_loader import dict_conversion, load_model"
   ]
  },
  {
   "cell_type": "code",
   "execution_count": null,
   "id": "ec44d220-add8-4613-a03d-80ff30cf43a3",
   "metadata": {},
   "outputs": [],
   "source": [
    "# Here is where we will use the parser\n",
    "# Start by opening it up\n",
    "with open(\"yggdrasil_test_models/model_trifecta.yml\") as fd:\n",
    "    tester = yaml.safe_load(fd)"
   ]
  },
  {
   "cell_type": "code",
   "execution_count": null,
   "id": "8ff8c742-75ac-45c8-9d73-775420e7f068",
   "metadata": {},
   "outputs": [],
   "source": [
    "# This will be a cleaner for the sidebar display\n",
    "def clean_bytes(ibytes):\n",
    "    sbytes = str(ibytes)[1:].strip(\"'\")\n",
    "    if \"\\\\n\" in sbytes:\n",
    "        clean = sbytes[:-2]\n",
    "    else:\n",
    "        clean = sbytes\n",
    "    return clean"
   ]
  },
  {
   "cell_type": "code",
   "execution_count": null,
   "id": "8bdc024d-5cf7-4602-bf22-53b382ccf8e4",
   "metadata": {},
   "outputs": [],
   "source": [
    "# Initialize the node editor we are going to use \n",
    "ne = jlne.NodeEditor()\n",
    "# Use yggdrasil_test_models/model_trifecta.yml or wherever the trifecta model is loaded locally for the example\n",
    "load_model(ne)"
   ]
  },
  {
   "cell_type": "code",
   "execution_count": null,
   "id": "3efbcbef-887c-462d-af0b-a4257f3eba6c",
   "metadata": {},
   "outputs": [],
   "source": [
    "# Create the callback class and have the third component be updated with live information\n",
    "# As of March 30th, 2022 there is an issue with connected components in JLNE but the third tab will display the correct information regardless\n",
    "class CBJLNE:\n",
    "    if len(ne.node_editor.nodes[2].display_element.children) <= 5:\n",
    "        for i in range(3):\n",
    "            ne.node_editor.nodes[2].display_element.children += (ipywidgets.Label(\"Initializing\"),)\n",
    "    \n",
    "    def __init__(self):\n",
    "        self.label = ipywidgets.Label()\n",
    "    \n",
    "    def display_number(self, *args, **kwargs):\n",
    "        ne.node_editor.nodes[2].display_element.children[3].value = f\"Number: {args[0].args[0]}\"\n",
    "        \n",
    "    def display_string(self, *args, **kwargs):\n",
    "        print(clean_bytes(args[0].args))\n",
    "        ne.node_editor.nodes[2].display_element.children[4].value = f\"String: {clean_bytes(args[0].args)}\"\n",
    "        \n",
    "    def display_rotated(self, *args, **kwargs):\n",
    "        ne.node_editor.nodes[2].display_element.children[5].value = f\"Rotated: {args[0].args}\"\n",
    "    \n",
    "display = CBJLNE()"
   ]
  },
  {
   "cell_type": "code",
   "execution_count": null,
   "id": "4778da0a-d199-451c-a3c8-28455d2e316e",
   "metadata": {},
   "outputs": [],
   "source": [
    "# Create a runner for the model, adjust the filepath for wherever the model is located\n",
    "runner = YggRunner(\"yggdrasil_test_models/model_trifecta.yml\")"
   ]
  },
  {
   "cell_type": "code",
   "execution_count": null,
   "id": "c345db9f-2d68-4aac-942e-986a34f794a7",
   "metadata": {},
   "outputs": [],
   "source": [
    "# Add in the callback functions to the connection drivers for execution\n",
    "runner.connectiondrivers['model_reader:inputReader']['callbacks'] = [display.display_string]\n",
    "runner.connectiondrivers['model_rng:outputRNG,model_reader:outputReader_to_model_rotxx:input_rotxx']['callbacks'] = [display.display_number]\n",
    "runner.connectiondrivers['model_rotxx:output_rotxx']['callbacks'] = [display.display_rotated]"
   ]
  },
  {
   "cell_type": "code",
   "execution_count": null,
   "id": "18186048-3e60-4078-9308-934e6d302759",
   "metadata": {},
   "outputs": [],
   "source": [
    "# Run the runner to see the data update in realtime\n",
    "runner.run()"
   ]
  }
 ],
 "metadata": {
  "kernelspec": {
   "display_name": "yggJLNE",
   "language": "python",
   "name": "yggjlne"
  },
  "language_info": {
   "codemirror_mode": {
    "name": "ipython",
    "version": 3
   },
   "file_extension": ".py",
   "mimetype": "text/x-python",
   "name": "python",
   "nbconvert_exporter": "python",
   "pygments_lexer": "ipython3",
   "version": "3.8.12"
  }
 },
 "nbformat": 4,
 "nbformat_minor": 5
}
