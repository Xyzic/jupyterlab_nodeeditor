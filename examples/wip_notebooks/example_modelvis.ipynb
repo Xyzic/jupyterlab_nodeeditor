{
 "cells": [
  {
   "cell_type": "markdown",
   "id": "74bb4a90-7a63-4b62-a939-39ae1bf65822",
   "metadata": {
    "tags": []
   },
   "source": [
    "## Yggdrasil Model Visualization"
   ]
  },
  {
   "cell_type": "markdown",
   "id": "27b8d143-d596-4d62-ae11-39e4ac67f0eb",
   "metadata": {},
   "source": [
    "### Libraries Used\n",
    "As a note, please be sure to have model_loader.py in the same folder as this"
   ]
  },
  {
   "cell_type": "code",
   "execution_count": null,
   "id": "fe92f85a-3456-47db-b154-80c9eb9e03dd",
   "metadata": {},
   "outputs": [],
   "source": [
    "import jupyterlab_nodeeditor as jlne\n",
    "import ipywidgets\n",
    "from yggdrasil.runner import YggRunner\n",
    "from model_loader import dict_conversion, load_model"
   ]
  },
  {
   "cell_type": "markdown",
   "id": "be8f959e-d5ea-45a1-9071-1ab1e199d171",
   "metadata": {},
   "source": [
    "### Helper Function: Clean Bytes\n",
    "Input: A 'bytes' type of data\n",
    "\n",
    "Output: A cleaned 'string' conversion of the input\n",
    "\n",
    "The reason behind this is just to make the output legible by removing quotations and any useless characters."
   ]
  },
  {
   "cell_type": "code",
   "execution_count": null,
   "id": "8ff8c742-75ac-45c8-9d73-775420e7f068",
   "metadata": {},
   "outputs": [],
   "source": [
    "# This will be a cleaner for the sidebar display\n",
    "def clean_bytes(ibytes):\n",
    "    sbytes = str(ibytes)[1:].strip(\"'\")\n",
    "    if \"\\\\n\" in sbytes:\n",
    "        clean = sbytes[:-2]\n",
    "    else:\n",
    "        clean = sbytes\n",
    "    return clean"
   ]
  },
  {
   "cell_type": "markdown",
   "id": "9f5e15d0-a54a-403c-9130-b83634f3fc15",
   "metadata": {},
   "source": [
    "### Setup\n",
    "Initialize the Node Editor instance 'ne' and load a model into it.\n",
    "\n",
    "Use the filepath *yggdrasil_test_models/model_trifecta.yml* for a sample model.\n",
    "\n",
    "As a note, the Trifecta sample model consists of three models\n",
    "1. Model RNG - A model which outputs a random number 4 times (1 per line in the input text file)\n",
    "2. Model Reader - Reads said input text file line by line\n",
    "3. Model ROTXX - Rotates each line by the number generated and outputs it encoding in a ROT-XX format (think of ROT13 encoding, where each letter in the alphabet is moved 13 places, but here the number is random)\n",
    "\n",
    "**Make sure you manually right click and add all of your desired components once the editor appears.**\n",
    "\n",
    "As of March 30th, 2022, there is a bug that does not allow for the components to be linked. We are working on fixing that ASAP but for production it will still execute normally."
   ]
  },
  {
   "cell_type": "code",
   "execution_count": null,
   "id": "8bdc024d-5cf7-4602-bf22-53b382ccf8e4",
   "metadata": {},
   "outputs": [],
   "source": [
    "ne = jlne.NodeEditor()\n",
    "load_model(ne)"
   ]
  },
  {
   "cell_type": "markdown",
   "id": "162e6c02-5215-45f0-8f8f-245877a87c21",
   "metadata": {},
   "source": [
    "### Callback Classes and Display\n",
    "This is where things get a bit messy and will need to be adjusted based on your specific model.\n",
    "\n",
    "The class name doesn't matter (*CBJLNE* - CallBack JLNE) so long as it is called properly. The comments in the code will explain each portion to better help the flow of this example.\n",
    "\n",
    "*args[0]* is where the data in the runner is stored (i.e. the data that is being moved around, in the sample model's case, the number, line of text, and the rotated output)\n",
    "\n",
    "*Note: You will see that we use the 3, 4, and 5 indices for the children but this modifies the sixth, seventh, and eighth rows in the tab. This is due to the Inputs/Outputs in JLNE spacing out their actual name to the next line. For example, under Inputs in Tab 3 it says \"Slot 1: input_rotxx (temp_in0)\" in the next row, but this is still all in the 2nd ipywidgets Label, just spread out for visual clarity in case of multiple Inputs/Outputs. If you need more to display, continue the index trend and do not worry about the rows. Be sure to add them to the initial length check as well so all rows are created properly.*"
   ]
  },
  {
   "cell_type": "code",
   "execution_count": null,
   "id": "3efbcbef-887c-462d-af0b-a4257f3eba6c",
   "metadata": {},
   "outputs": [],
   "source": [
    "# Create the callback class and have the third component be updated with live information\n",
    "# You can add/remove/adjust functions that best suit what data you want to output\n",
    "# As of March 30th, 2022 there is an issue with connected components in JLNE but the third tab will display the correct information regardless\n",
    "class CBJLNE:\n",
    "    # We check if there are 5 elements in the tab already. On initialization, this is not the case, so we add 3 more to the third tab,\n",
    "    # which is index number 2, and add in filler labels until they are overwritten with the actual data\n",
    "    if len(ne.node_editor.nodes[2].display_element.children) <= 5:\n",
    "        for i in range(3):\n",
    "            ne.node_editor.nodes[2].display_element.children += (ipywidgets.Label(\"Initializing\"),)\n",
    "    \n",
    "    # The initialization just puts a Label in for this class\n",
    "    def __init__(self):\n",
    "        self.label = ipywidgets.Label()\n",
    "    \n",
    "    # Display Number pulls the number from Model RNG to display in the sixth row in the third tab\n",
    "    def display_number(self, *args, **kwargs):\n",
    "        ne.node_editor.nodes[2].display_element.children[3].value = f\"Number: {args[0].args[0]}\"\n",
    "    \n",
    "    # Display String pulls the line text from Model Reader to display in the seventh row in the third tab and cleans it using the previously defined Clean Bytes\n",
    "    def display_string(self, *args, **kwargs):\n",
    "        print(clean_bytes(args[0].args))\n",
    "        ne.node_editor.nodes[2].display_element.children[4].value = f\"String: {clean_bytes(args[0].args)}\"\n",
    "    \n",
    "    # Display Rotated pulls the output from the Trifecta Model (i.e. the Rotated data) to show in the eighth row in the third tab\n",
    "    def display_rotated(self, *args, **kwargs):\n",
    "        ne.node_editor.nodes[2].display_element.children[5].value = f\"Rotated: {args[0].args}\"\n",
    "\n",
    "# Make sure to call the class with a name that is easy to remember for use\n",
    "display = CBJLNE()"
   ]
  },
  {
   "cell_type": "markdown",
   "id": "99358c60-4ca6-49d8-9f09-ba8a8bceb13a",
   "metadata": {},
   "source": [
    "### Connection Drivers\n",
    "By having a runner on the model path, we can execute the YAML file directly inside the notebook."
   ]
  },
  {
   "cell_type": "code",
   "execution_count": null,
   "id": "4778da0a-d199-451c-a3c8-28455d2e316e",
   "metadata": {},
   "outputs": [],
   "source": [
    "# Create a runner for the model, adjust the filepath for wherever the model is located\n",
    "runner = YggRunner(\"yggdrasil_test_models/model_trifecta.yml\")"
   ]
  },
  {
   "cell_type": "markdown",
   "id": "cb23b6e2-6d99-4343-aa86-ea22dd7807b1",
   "metadata": {},
   "source": [
    "You will need to uncomment the below line and run it to see what your YAML looks like as a runner in order to properly match the class functions to their connections"
   ]
  },
  {
   "cell_type": "code",
   "execution_count": null,
   "id": "227ea659-2c1a-4285-8798-3bcb44beec02",
   "metadata": {},
   "outputs": [],
   "source": [
    "# runner.connectiondrivers"
   ]
  },
  {
   "cell_type": "markdown",
   "id": "15b3ab3b-5e34-4aa0-87d9-7a45307a5a82",
   "metadata": {},
   "source": [
    "Each connectiondriver dictionary key corresponds to a connection in your model.\n",
    "For the sample model, we have\n",
    "1. The text file connected to the Reader model\n",
    "2. The random number and line of text connected to the ROTXX model\n",
    "3. The output of the ROTXX model (i.e. the rotated string)\n",
    "\n",
    "To utilize realtime updating with a Yggdrasil Runner, we need ot add in a 'callbacks' key to each connectiondriver. The value of this key will be the class function corresponding to the data you want to show casted to a list.\n",
    "\n",
    "To break it down further, the value must be the class class with brackets around it so it is recognized by the Runner. This will allow the Runner to call back to that class function whenever the model is run. This is why you can create/remove/adjust any functions from the sample set to best fit your model. \n",
    "\n",
    "**Be sure to call the correct function on the correct connection**"
   ]
  },
  {
   "cell_type": "code",
   "execution_count": null,
   "id": "c345db9f-2d68-4aac-942e-986a34f794a7",
   "metadata": {},
   "outputs": [],
   "source": [
    "# Add in the callback functions to the connection drivers for execution\n",
    "runner.connectiondrivers['model_reader:inputReader']['callbacks'] = [display.display_string]\n",
    "runner.connectiondrivers['model_rng:outputRNG,model_reader:outputReader_to_model_rotxx:input_rotxx']['callbacks'] = [display.display_number]\n",
    "runner.connectiondrivers['model_rotxx:output_rotxx']['callbacks'] = [display.display_rotated]"
   ]
  },
  {
   "cell_type": "markdown",
   "id": "b269ce17-242c-47aa-9171-fcc5114133ee",
   "metadata": {},
   "source": [
    "Finally we can execute the Runner to watch it all flow"
   ]
  },
  {
   "cell_type": "code",
   "execution_count": null,
   "id": "18186048-3e60-4078-9308-934e6d302759",
   "metadata": {},
   "outputs": [],
   "source": [
    "# Run the runner to see the data update in realtime\n",
    "runner.run()"
   ]
  }
 ],
 "metadata": {
  "kernelspec": {
   "display_name": "yggJLNE",
   "language": "python",
   "name": "yggjlne"
  },
  "language_info": {
   "codemirror_mode": {
    "name": "ipython",
    "version": 3
   },
   "file_extension": ".py",
   "mimetype": "text/x-python",
   "name": "python",
   "nbconvert_exporter": "python",
   "pygments_lexer": "ipython3",
   "version": "3.8.12"
  }
 },
 "nbformat": 4,
 "nbformat_minor": 5
}
