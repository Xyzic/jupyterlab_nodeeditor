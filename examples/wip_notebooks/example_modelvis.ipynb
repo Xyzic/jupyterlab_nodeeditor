{
 "cells": [
  {
   "cell_type": "code",
   "execution_count": 1,
   "id": "fe92f85a-3456-47db-b154-80c9eb9e03dd",
   "metadata": {},
   "outputs": [],
   "source": [
    "import jupyterlab_nodeeditor as jlne\n",
    "import ipywidgets\n",
    "from yggdrasil.runner import YggRunner"
   ]
  },
  {
   "cell_type": "code",
   "execution_count": 2,
   "id": "8bdc024d-5cf7-4602-bf22-53b382ccf8e4",
   "metadata": {},
   "outputs": [
    {
     "data": {
      "application/vnd.jupyter.widget-view+json": {
       "model_id": "7e24602255cd4320abf84e88f613f221",
       "version_major": 2,
       "version_minor": 0
      },
      "text/plain": [
       "HBox(children=(NodeEditorModel(selected_node=None), Tab()))"
      ]
     },
     "metadata": {},
     "output_type": "display_data"
    }
   ],
   "source": [
    "ne = jlne.NodeEditor()\n",
    "ne"
   ]
  },
  {
   "cell_type": "code",
   "execution_count": 168,
   "id": "4778da0a-d199-451c-a3c8-28455d2e316e",
   "metadata": {},
   "outputs": [],
   "source": [
    "runner = YggRunner(\"yggdrasil_test_models/model_trifecta.yml\")"
   ]
  },
  {
   "cell_type": "code",
   "execution_count": 171,
   "id": "8ff8c742-75ac-45c8-9d73-775420e7f068",
   "metadata": {},
   "outputs": [
    {
     "ename": "SyntaxError",
     "evalue": "invalid syntax (<ipython-input-171-3e8a787922c2>, line 3)",
     "output_type": "error",
     "traceback": [
      "\u001b[1;36m  File \u001b[1;32m\"<ipython-input-171-3e8a787922c2>\"\u001b[1;36m, line \u001b[1;32m3\u001b[0m\n\u001b[1;33m    if sbytes[:-1] = \"n\":\u001b[0m\n\u001b[1;37m                   ^\u001b[0m\n\u001b[1;31mSyntaxError\u001b[0m\u001b[1;31m:\u001b[0m invalid syntax\n"
     ]
    }
   ],
   "source": [
    "def clean_bytes(ibytes):\n",
    "    sbytes = str(ibytes)[1:].strip(\"'\")\n",
    "    if sbytes[:-1] == \"n\":\n",
    "        clean = sbytes[:-2]\n",
    "    else:\n",
    "        clean = sbytes\n",
    "    return clean"
   ]
  },
  {
   "cell_type": "code",
   "execution_count": null,
   "id": "3efbcbef-887c-462d-af0b-a4257f3eba6c",
   "metadata": {},
   "outputs": [],
   "source": [
    "class CBJLNE:\n",
    "    if len(ne.node_editor.nodes[0].display_element.children) <= 3:\n",
    "        for i in range(3):\n",
    "            ne.node_editor.nodes[i].display_element.children += (ipywidgets.Label(\"Initializing\"),)\n",
    "    \n",
    "    def __init__(self):\n",
    "        self.label = ipywidgets.Label()\n",
    "    \n",
    "    def display_number(self, *args, **kwargs):\n",
    "        ne.node_editor.nodes[0].display_element.children[3].value = f\"Number: {args[0].args[0]}\"\n",
    "        \n",
    "    def display_string(self, *args, **kwargs):\n",
    "        ne.node_editor.nodes[1].display_element.children[3].value = f\"String: {clean_bytes(args[0].args)}\"\n",
    "        \n",
    "    def display_rotated(self, *args, **kwargs):\n",
    "        ne.node_editor.nodes[2].display_element.children[3].value = f\"Rotated: {args[0].args}\"\n",
    "    \n",
    "display = CBJLNE()"
   ]
  },
  {
   "cell_type": "code",
   "execution_count": null,
   "id": "c345db9f-2d68-4aac-942e-986a34f794a7",
   "metadata": {},
   "outputs": [],
   "source": [
    "runner.connectiondrivers['model_reader:inputReader']['callbacks'] = [display.display_string]\n",
    "runner.connectiondrivers['model_rng:outputRNG,model_reader:outputReader_to_model_rotxx:input_rotxx']['callbacks'] = [display.display_number]\n",
    "runner.connectiondrivers['model_rotxx:output_rotxx']['callbacks'] = [display.display_rotated]"
   ]
  },
  {
   "cell_type": "code",
   "execution_count": 170,
   "id": "18186048-3e60-4078-9308-934e6d302759",
   "metadata": {},
   "outputs": [
    {
     "name": "stdout",
     "output_type": "stream",
     "text": [
      "INFO:13752:runner.startDrivers[804]:YggRunner(runner): Starting I/O drivers and models on system None in namespace yggdrasil with rank 0\n",
      "X:\\anaconda3\\envs\\yggJLNE\\python.exe X:\\College\\Grad School\\Research\\gc-Xyzic\\jupyterlab_nodeeditor\\examples\\wip_notebooks\\yggdrasil_test_models\\model_rng_test.py\n",
      "X:\\anaconda3\\envs\\yggJLNE\\python.exe X:\\College\\Grad School\\Research\\gc-Xyzic\\jupyterlab_nodeeditor\\examples\\wip_notebooks\\yggdrasil_test_models\\model_reader_test.py\n",
      "X:\\anaconda3\\envs\\yggJLNE\\python.exe X:\\College\\Grad School\\Research\\gc-Xyzic\\jupyterlab_nodeeditor\\examples\\wip_notebooks\\yggdrasil_test_models\\ygg_model_rotxx_test_model_rotxx.py\n",
      "INFO:13752:runner.waitModels[871]:YggRunner(runner): model_rng finished running.\n",
      "INFO:13752:runner.waitModels[877]:YggRunner(runner): model_rng finished exiting.\n",
      "End of File\n",
      "End of input from temp_x.\n",
      "INFO:13752:runner.waitModels[871]:YggRunner(runner): model_reader finished running.\n",
      "INFO:13752:runner.waitModels[877]:YggRunner(runner): model_reader finished exiting.\n",
      "INFO:13752:runner.waitModels[871]:YggRunner(runner): model_rotxx finished running.\n",
      "INFO:13752:runner.waitModels[877]:YggRunner(runner): model_rotxx finished exiting.\n",
      "INFO:13752:runner.waitModels[891]:YggRunner(runner): All models completed\n",
      "INFO:13752:runner.run[450]:YggRunner(runner):                 init\t0.000000\n",
      "INFO:13752:runner.run[450]:YggRunner(runner):         load drivers\t0.034029\n",
      "INFO:13752:runner.run[450]:YggRunner(runner):        start drivers\t0.160496\n",
      "INFO:13752:runner.run[450]:YggRunner(runner):           run models\t28.546220\n",
      "INFO:13752:runner.run[450]:YggRunner(runner):              at exit\t0.007507\n",
      "INFO:13752:runner.run[452]:YggRunner(runner): ========================================\n",
      "INFO:13752:runner.run[453]:YggRunner(runner):                Total\t28.748252\n"
     ]
    },
    {
     "data": {
      "text/plain": [
       "OrderedDict([('init', 1647020158.7657518),\n",
       "             ('load drivers', 1647020158.7997808),\n",
       "             ('start drivers', 1647020158.9602764),\n",
       "             ('run models', 1647020187.5064967),\n",
       "             ('at exit', 1647020187.5140035)])"
      ]
     },
     "execution_count": 170,
     "metadata": {},
     "output_type": "execute_result"
    }
   ],
   "source": [
    "runner.run()"
   ]
  },
  {
   "cell_type": "code",
   "execution_count": null,
   "id": "37a36dc9-b59b-436e-b556-78df26db8623",
   "metadata": {},
   "outputs": [],
   "source": []
  }
 ],
 "metadata": {
  "kernelspec": {
   "display_name": "yggJLNE",
   "language": "python",
   "name": "yggjlne"
  },
  "language_info": {
   "codemirror_mode": {
    "name": "ipython",
    "version": 3
   },
   "file_extension": ".py",
   "mimetype": "text/x-python",
   "name": "python",
   "nbconvert_exporter": "python",
   "pygments_lexer": "ipython3",
   "version": "3.8.12"
  }
 },
 "nbformat": 4,
 "nbformat_minor": 5
}
