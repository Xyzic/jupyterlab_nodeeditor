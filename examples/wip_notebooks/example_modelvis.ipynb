{
 "cells": [
  {
   "cell_type": "code",
   "execution_count": 1,
   "id": "fe92f85a-3456-47db-b154-80c9eb9e03dd",
   "metadata": {},
   "outputs": [],
   "source": [
    "import jupyterlab_nodeeditor as jlne\n",
    "import ipywidgets\n",
    "from yggdrasil.runner import YggRunner"
   ]
  },
  {
   "cell_type": "code",
   "execution_count": 15,
   "id": "4778da0a-d199-451c-a3c8-28455d2e316e",
   "metadata": {},
   "outputs": [],
   "source": [
    "runner = YggRunner(\"yggdrasil_test_models/model_trifecta.yml\")"
   ]
  },
  {
   "cell_type": "code",
   "execution_count": 16,
   "id": "18186048-3e60-4078-9308-934e6d302759",
   "metadata": {},
   "outputs": [
    {
     "name": "stdout",
     "output_type": "stream",
     "text": [
      "INFO:21200:runner.startDrivers[804]:YggRunner(runner): Starting I/O drivers and models on system None in namespace yggdrasil with rank 0\n",
      "X:\\anaconda3\\envs\\yggJLNE\\python.exe X:\\College\\Grad School\\Research\\gc-Xyzic\\jupyterlab_nodeeditor\\examples\\wip_notebooks\\yggdrasil_test_models\\model_rng_test.py\n",
      "X:\\anaconda3\\envs\\yggJLNE\\python.exe X:\\College\\Grad School\\Research\\gc-Xyzic\\jupyterlab_nodeeditor\\examples\\wip_notebooks\\yggdrasil_test_models\\model_reader_test.py\n",
      "X:\\anaconda3\\envs\\yggJLNE\\python.exe X:\\College\\Grad School\\Research\\gc-Xyzic\\jupyterlab_nodeeditor\\examples\\wip_notebooks\\yggdrasil_test_models\\ygg_model_rotxx_test_model_rotxx.py\n",
      "End of File\n",
      "INFO:21200:runner.waitModels[871]:YggRunner(runner): model_rng finished running.\n",
      "INFO:21200:runner.waitModels[877]:YggRunner(runner): model_rng finished exiting.\n",
      "End of input from temp_x.\n",
      "INFO:21200:runner.waitModels[871]:YggRunner(runner): model_rotxx finished running.\n",
      "INFO:21200:runner.waitModels[877]:YggRunner(runner): model_rotxx finished exiting.\n",
      "INFO:21200:runner.waitModels[871]:YggRunner(runner): model_reader finished running.\n",
      "INFO:21200:runner.waitModels[877]:YggRunner(runner): model_reader finished exiting.\n",
      "INFO:21200:runner.waitModels[891]:YggRunner(runner): All models completed\n",
      "INFO:21200:runner.run[450]:YggRunner(runner):                 init\t0.000000\n",
      "INFO:21200:runner.run[450]:YggRunner(runner):         load drivers\t0.040534\n",
      "INFO:21200:runner.run[450]:YggRunner(runner):        start drivers\t0.098023\n",
      "INFO:21200:runner.run[450]:YggRunner(runner):           run models\t3.877791\n",
      "INFO:21200:runner.run[450]:YggRunner(runner):              at exit\t0.008008\n",
      "INFO:21200:runner.run[452]:YggRunner(runner): ========================================\n",
      "INFO:21200:runner.run[453]:YggRunner(runner):                Total\t4.024355\n"
     ]
    },
    {
     "data": {
      "text/plain": [
       "OrderedDict([('init', 1646785043.864637),\n",
       "             ('load drivers', 1646785043.9051707),\n",
       "             ('start drivers', 1646785044.0031934),\n",
       "             ('run models', 1646785047.8809845),\n",
       "             ('at exit', 1646785047.8889923)])"
      ]
     },
     "execution_count": 16,
     "metadata": {},
     "output_type": "execute_result"
    }
   ],
   "source": [
    "runner.run()"
   ]
  },
  {
   "cell_type": "code",
   "execution_count": null,
   "id": "3efbcbef-887c-462d-af0b-a4257f3eba6c",
   "metadata": {},
   "outputs": [],
   "source": []
  }
 ],
 "metadata": {
  "kernelspec": {
   "display_name": "yggJLNE",
   "language": "python",
   "name": "yggjlne"
  },
  "language_info": {
   "codemirror_mode": {
    "name": "ipython",
    "version": 3
   },
   "file_extension": ".py",
   "mimetype": "text/x-python",
   "name": "python",
   "nbconvert_exporter": "python",
   "pygments_lexer": "ipython3",
   "version": "3.8.12"
  }
 },
 "nbformat": 4,
 "nbformat_minor": 5
}
