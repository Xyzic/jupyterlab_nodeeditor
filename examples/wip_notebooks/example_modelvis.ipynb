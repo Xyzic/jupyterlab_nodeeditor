{
 "cells": [
  {
   "cell_type": "code",
   "execution_count": 1,
   "id": "fe92f85a-3456-47db-b154-80c9eb9e03dd",
   "metadata": {},
   "outputs": [],
   "source": [
    "import jupyterlab_nodeeditor as jlne\n",
    "import ipywidgets\n",
    "from yggdrasil.runner import YggRunner"
   ]
  },
  {
   "cell_type": "code",
   "execution_count": 2,
   "id": "8bdc024d-5cf7-4602-bf22-53b382ccf8e4",
   "metadata": {},
   "outputs": [
    {
     "data": {
      "application/vnd.jupyter.widget-view+json": {
       "model_id": "",
       "version_major": 2,
       "version_minor": 0
      },
      "text/plain": [
       "HBox(children=(NodeEditorModel(selected_node=None), Tab()))"
      ]
     },
     "metadata": {},
     "output_type": "display_data"
    }
   ],
   "source": [
    "ne = jlne.NodeEditor()\n",
    "ne"
   ]
  },
  {
   "cell_type": "code",
   "execution_count": 13,
   "id": "3bb75742-7527-4286-b4c2-17c1c45ee8a3",
   "metadata": {},
   "outputs": [
    {
     "data": {
      "text/plain": [
       "(Label(value='Empty Title'),\n",
       " VBox(children=(Label(value='Inputs'),)),\n",
       " VBox(children=(Label(value='Outputs'),)),\n",
       " Label(value='Initializing'))"
      ]
     },
     "execution_count": 13,
     "metadata": {},
     "output_type": "execute_result"
    }
   ],
   "source": [
    "ne.node_editor.nodes[0].display_element.children"
   ]
  },
  {
   "cell_type": "code",
   "execution_count": 14,
   "id": "4778da0a-d199-451c-a3c8-28455d2e316e",
   "metadata": {},
   "outputs": [],
   "source": [
    "runner = YggRunner(\"yggdrasil_test_models/model_trifecta.yml\")"
   ]
  },
  {
   "cell_type": "code",
   "execution_count": 15,
   "id": "3efbcbef-887c-462d-af0b-a4257f3eba6c",
   "metadata": {},
   "outputs": [],
   "source": [
    "class CBJLNE:\n",
    "    if len(ne.node_editor.nodes[0].display_element.children) <= 3:\n",
    "        for i in range(3):\n",
    "            ne.node_editor.nodes[i].display_element.children += (ipywidgets.Label(\"Initializing\"),)\n",
    "    \n",
    "    def __init__(self):\n",
    "        self.label = ipywidgets.Label()\n",
    "    \n",
    "    def display_number(self, *args, **kwargs):\n",
    "        ne.node_editor.nodes[0].display_element.children[3].value = f\"Number: {args[0].args[1]}\"\n",
    "        \n",
    "    def display_string(self, *args, **kwargs):\n",
    "        ne.node_editor.nodes[1].display_element.children[3].value = f\"String: {args[0].args[1]}\"\n",
    "        \n",
    "    def display_rotated(self, *args, **kwargs):\n",
    "        ne.node_editor.nodes[2].display_element.children[3].value = f\"ROTXX: {args[0].args[1]}\"\n",
    "    \n",
    "display = CBJLNE()"
   ]
  },
  {
   "cell_type": "code",
   "execution_count": 16,
   "id": "c345db9f-2d68-4aac-942e-986a34f794a7",
   "metadata": {},
   "outputs": [],
   "source": [
    "runner.connectiondrivers['model_reader:inputReader']['callbacks'] = [display.display_string]\n",
    "runner.connectiondrivers['model_rng:outputRNG,model_reader:outputReader_to_model_rotxx:input_rotxx']['callbacks'] = [display.display_number]\n",
    "runner.connectiondrivers['model_rotxx:output_rotxx']['callbacks'] = [display.display_rotated]"
   ]
  },
  {
   "cell_type": "code",
   "execution_count": 17,
   "id": "18186048-3e60-4078-9308-934e6d302759",
   "metadata": {},
   "outputs": [
    {
     "name": "stdout",
     "output_type": "stream",
     "text": [
      "INFO:9096:runner.startDrivers[804]:YggRunner(runner): Starting I/O drivers and models on system None in namespace yggdrasil with rank 0\n",
      "X:\\anaconda3\\envs\\yggJLNE\\python.exe X:\\College\\Grad School\\Research\\gc-Xyzic\\jupyterlab_nodeeditor\\examples\\wip_notebooks\\yggdrasil_test_models\\model_rng_test.py\n",
      "X:\\anaconda3\\envs\\yggJLNE\\python.exe X:\\College\\Grad School\\Research\\gc-Xyzic\\jupyterlab_nodeeditor\\examples\\wip_notebooks\\yggdrasil_test_models\\model_reader_test.py\n",
      "X:\\anaconda3\\envs\\yggJLNE\\python.exe X:\\College\\Grad School\\Research\\gc-Xyzic\\jupyterlab_nodeeditor\\examples\\wip_notebooks\\yggdrasil_test_models\\ygg_model_rotxx_test_model_rotxx.py\n",
      "End of File\n",
      "End of input from temp_x.\n",
      "INFO:9096:runner.waitModels[871]:YggRunner(runner): model_rotxx finished running.\n",
      "INFO:9096:runner.waitModels[877]:YggRunner(runner): model_rotxx finished exiting.\n",
      "INFO:9096:runner.waitModels[871]:YggRunner(runner): model_rng finished running.\n",
      "INFO:9096:runner.waitModels[877]:YggRunner(runner): model_rng finished exiting.\n",
      "INFO:9096:runner.waitModels[871]:YggRunner(runner): model_reader finished running.\n",
      "INFO:9096:runner.waitModels[877]:YggRunner(runner): model_reader finished exiting.\n",
      "INFO:9096:runner.waitModels[891]:YggRunner(runner): All models completed\n",
      "INFO:9096:runner.run[450]:YggRunner(runner):                 init\t0.000000\n",
      "INFO:9096:runner.run[450]:YggRunner(runner):         load drivers\t0.042037\n",
      "INFO:9096:runner.run[450]:YggRunner(runner):        start drivers\t0.094579\n",
      "INFO:9096:runner.run[450]:YggRunner(runner):           run models\t6.052915\n",
      "INFO:9096:runner.run[450]:YggRunner(runner):              at exit\t0.007506\n",
      "INFO:9096:runner.run[452]:YggRunner(runner): ========================================\n",
      "INFO:9096:runner.run[453]:YggRunner(runner):                Total\t6.197038\n"
     ]
    },
    {
     "data": {
      "text/plain": [
       "OrderedDict([('init', 1646795795.5200822),\n",
       "             ('load drivers', 1646795795.5621192),\n",
       "             ('start drivers', 1646795795.6566987),\n",
       "             ('run models', 1646795801.7096138),\n",
       "             ('at exit', 1646795801.71712)])"
      ]
     },
     "execution_count": 17,
     "metadata": {},
     "output_type": "execute_result"
    }
   ],
   "source": [
    "runner.run()"
   ]
  },
  {
   "cell_type": "code",
   "execution_count": null,
   "id": "37a36dc9-b59b-436e-b556-78df26db8623",
   "metadata": {},
   "outputs": [],
   "source": []
  }
 ],
 "metadata": {
  "kernelspec": {
   "display_name": "yggJLNE",
   "language": "python",
   "name": "yggjlne"
  },
  "language_info": {
   "codemirror_mode": {
    "name": "ipython",
    "version": 3
   },
   "file_extension": ".py",
   "mimetype": "text/x-python",
   "name": "python",
   "nbconvert_exporter": "python",
   "pygments_lexer": "ipython3",
   "version": "3.8.12"
  }
 },
 "nbformat": 4,
 "nbformat_minor": 5
}
