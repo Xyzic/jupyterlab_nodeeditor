{
 "cells": [
  {
   "cell_type": "code",
   "execution_count": 1,
   "id": "fe92f85a-3456-47db-b154-80c9eb9e03dd",
   "metadata": {},
   "outputs": [],
   "source": [
    "import jupyterlab_nodeeditor as jlne\n",
    "import ipywidgets\n",
    "from yggdrasil.runner import YggRunner"
   ]
  },
  {
   "cell_type": "code",
   "execution_count": 21,
   "id": "8bdc024d-5cf7-4602-bf22-53b382ccf8e4",
   "metadata": {},
   "outputs": [
    {
     "data": {
      "application/vnd.jupyter.widget-view+json": {
       "model_id": "88226f716823412a9f4d1fee59267517",
       "version_major": 2,
       "version_minor": 0
      },
      "text/plain": [
       "HBox(children=(NodeEditorModel(selected_node=None), Tab()))"
      ]
     },
     "metadata": {},
     "output_type": "display_data"
    }
   ],
   "source": [
    "ne = jlne.NodeEditor()\n",
    "ne"
   ]
  },
  {
   "cell_type": "code",
   "execution_count": 18,
   "id": "4778da0a-d199-451c-a3c8-28455d2e316e",
   "metadata": {},
   "outputs": [],
   "source": [
    "runner = YggRunner(\"yggdrasil_test_models/model_trifecta.yml\")"
   ]
  },
  {
   "cell_type": "code",
   "execution_count": 16,
   "id": "18186048-3e60-4078-9308-934e6d302759",
   "metadata": {},
   "outputs": [
    {
     "name": "stdout",
     "output_type": "stream",
     "text": [
      "INFO:21200:runner.startDrivers[804]:YggRunner(runner): Starting I/O drivers and models on system None in namespace yggdrasil with rank 0\n",
      "X:\\anaconda3\\envs\\yggJLNE\\python.exe X:\\College\\Grad School\\Research\\gc-Xyzic\\jupyterlab_nodeeditor\\examples\\wip_notebooks\\yggdrasil_test_models\\model_rng_test.py\n",
      "X:\\anaconda3\\envs\\yggJLNE\\python.exe X:\\College\\Grad School\\Research\\gc-Xyzic\\jupyterlab_nodeeditor\\examples\\wip_notebooks\\yggdrasil_test_models\\model_reader_test.py\n",
      "X:\\anaconda3\\envs\\yggJLNE\\python.exe X:\\College\\Grad School\\Research\\gc-Xyzic\\jupyterlab_nodeeditor\\examples\\wip_notebooks\\yggdrasil_test_models\\ygg_model_rotxx_test_model_rotxx.py\n",
      "End of File\n",
      "INFO:21200:runner.waitModels[871]:YggRunner(runner): model_rng finished running.\n",
      "INFO:21200:runner.waitModels[877]:YggRunner(runner): model_rng finished exiting.\n",
      "End of input from temp_x.\n",
      "INFO:21200:runner.waitModels[871]:YggRunner(runner): model_rotxx finished running.\n",
      "INFO:21200:runner.waitModels[877]:YggRunner(runner): model_rotxx finished exiting.\n",
      "INFO:21200:runner.waitModels[871]:YggRunner(runner): model_reader finished running.\n",
      "INFO:21200:runner.waitModels[877]:YggRunner(runner): model_reader finished exiting.\n",
      "INFO:21200:runner.waitModels[891]:YggRunner(runner): All models completed\n",
      "INFO:21200:runner.run[450]:YggRunner(runner):                 init\t0.000000\n",
      "INFO:21200:runner.run[450]:YggRunner(runner):         load drivers\t0.040534\n",
      "INFO:21200:runner.run[450]:YggRunner(runner):        start drivers\t0.098023\n",
      "INFO:21200:runner.run[450]:YggRunner(runner):           run models\t3.877791\n",
      "INFO:21200:runner.run[450]:YggRunner(runner):              at exit\t0.008008\n",
      "INFO:21200:runner.run[452]:YggRunner(runner): ========================================\n",
      "INFO:21200:runner.run[453]:YggRunner(runner):                Total\t4.024355\n"
     ]
    },
    {
     "data": {
      "text/plain": [
       "OrderedDict([('init', 1646785043.864637),\n",
       "             ('load drivers', 1646785043.9051707),\n",
       "             ('start drivers', 1646785044.0031934),\n",
       "             ('run models', 1646785047.8809845),\n",
       "             ('at exit', 1646785047.8889923)])"
      ]
     },
     "execution_count": 16,
     "metadata": {},
     "output_type": "execute_result"
    }
   ],
   "source": [
    "runner.run()"
   ]
  },
  {
   "cell_type": "code",
   "execution_count": 23,
   "id": "3efbcbef-887c-462d-af0b-a4257f3eba6c",
   "metadata": {},
   "outputs": [
    {
     "ename": "TypeError",
     "evalue": "__init__() takes 1 positional argument but 2 were given",
     "output_type": "error",
     "traceback": [
      "\u001b[1;31m---------------------------------------------------------------------------\u001b[0m",
      "\u001b[1;31mTypeError\u001b[0m                                 Traceback (most recent call last)",
      "\u001b[1;32m<ipython-input-24-79b8713d1273>\u001b[0m in \u001b[0;36m<module>\u001b[1;34m\u001b[0m\n\u001b[1;32m----> 1\u001b[1;33m \u001b[1;32mclass\u001b[0m \u001b[0mCBJLNE\u001b[0m\u001b[1;33m:\u001b[0m\u001b[1;33m\u001b[0m\u001b[1;33m\u001b[0m\u001b[0m\n\u001b[0m\u001b[0;32m      2\u001b[0m     \u001b[1;32mif\u001b[0m \u001b[0mlen\u001b[0m\u001b[1;33m(\u001b[0m\u001b[0mne\u001b[0m\u001b[1;33m.\u001b[0m\u001b[0mnode_editor\u001b[0m\u001b[1;33m.\u001b[0m\u001b[0mnodes\u001b[0m\u001b[1;33m[\u001b[0m\u001b[1;36m0\u001b[0m\u001b[1;33m]\u001b[0m\u001b[1;33m.\u001b[0m\u001b[0mdisplay_element\u001b[0m\u001b[1;33m.\u001b[0m\u001b[0mchildren\u001b[0m\u001b[1;33m)\u001b[0m \u001b[1;33m<=\u001b[0m \u001b[1;36m3\u001b[0m\u001b[1;33m:\u001b[0m\u001b[1;33m\u001b[0m\u001b[1;33m\u001b[0m\u001b[0m\n\u001b[0;32m      3\u001b[0m         \u001b[1;32mfor\u001b[0m \u001b[0mi\u001b[0m \u001b[1;32min\u001b[0m \u001b[0mrange\u001b[0m\u001b[1;33m(\u001b[0m\u001b[1;36m3\u001b[0m\u001b[1;33m)\u001b[0m\u001b[1;33m:\u001b[0m\u001b[1;33m\u001b[0m\u001b[1;33m\u001b[0m\u001b[0m\n\u001b[0;32m      4\u001b[0m             \u001b[0mne\u001b[0m\u001b[1;33m.\u001b[0m\u001b[0mnode_editor\u001b[0m\u001b[1;33m.\u001b[0m\u001b[0mnodes\u001b[0m\u001b[1;33m[\u001b[0m\u001b[0mi\u001b[0m\u001b[1;33m]\u001b[0m\u001b[1;33m.\u001b[0m\u001b[0mdisplay_element\u001b[0m\u001b[1;33m.\u001b[0m\u001b[0mchildren\u001b[0m \u001b[1;33m+=\u001b[0m \u001b[0mipywidgets\u001b[0m\u001b[1;33m.\u001b[0m\u001b[0mWidget\u001b[0m\u001b[1;33m(\u001b[0m\u001b[1;34m\"Initializing\"\u001b[0m\u001b[1;33m)\u001b[0m\u001b[1;33m\u001b[0m\u001b[1;33m\u001b[0m\u001b[0m\n\u001b[0;32m      5\u001b[0m \u001b[1;33m\u001b[0m\u001b[0m\n",
      "\u001b[1;32m<ipython-input-24-79b8713d1273>\u001b[0m in \u001b[0;36mCBJLNE\u001b[1;34m()\u001b[0m\n\u001b[0;32m      2\u001b[0m     \u001b[1;32mif\u001b[0m \u001b[0mlen\u001b[0m\u001b[1;33m(\u001b[0m\u001b[0mne\u001b[0m\u001b[1;33m.\u001b[0m\u001b[0mnode_editor\u001b[0m\u001b[1;33m.\u001b[0m\u001b[0mnodes\u001b[0m\u001b[1;33m[\u001b[0m\u001b[1;36m0\u001b[0m\u001b[1;33m]\u001b[0m\u001b[1;33m.\u001b[0m\u001b[0mdisplay_element\u001b[0m\u001b[1;33m.\u001b[0m\u001b[0mchildren\u001b[0m\u001b[1;33m)\u001b[0m \u001b[1;33m<=\u001b[0m \u001b[1;36m3\u001b[0m\u001b[1;33m:\u001b[0m\u001b[1;33m\u001b[0m\u001b[1;33m\u001b[0m\u001b[0m\n\u001b[0;32m      3\u001b[0m         \u001b[1;32mfor\u001b[0m \u001b[0mi\u001b[0m \u001b[1;32min\u001b[0m \u001b[0mrange\u001b[0m\u001b[1;33m(\u001b[0m\u001b[1;36m3\u001b[0m\u001b[1;33m)\u001b[0m\u001b[1;33m:\u001b[0m\u001b[1;33m\u001b[0m\u001b[1;33m\u001b[0m\u001b[0m\n\u001b[1;32m----> 4\u001b[1;33m             \u001b[0mne\u001b[0m\u001b[1;33m.\u001b[0m\u001b[0mnode_editor\u001b[0m\u001b[1;33m.\u001b[0m\u001b[0mnodes\u001b[0m\u001b[1;33m[\u001b[0m\u001b[0mi\u001b[0m\u001b[1;33m]\u001b[0m\u001b[1;33m.\u001b[0m\u001b[0mdisplay_element\u001b[0m\u001b[1;33m.\u001b[0m\u001b[0mchildren\u001b[0m \u001b[1;33m+=\u001b[0m \u001b[0mipywidgets\u001b[0m\u001b[1;33m.\u001b[0m\u001b[0mWidget\u001b[0m\u001b[1;33m(\u001b[0m\u001b[1;34m\"Initializing\"\u001b[0m\u001b[1;33m)\u001b[0m\u001b[1;33m\u001b[0m\u001b[1;33m\u001b[0m\u001b[0m\n\u001b[0m\u001b[0;32m      5\u001b[0m \u001b[1;33m\u001b[0m\u001b[0m\n\u001b[0;32m      6\u001b[0m     \u001b[1;32mdef\u001b[0m \u001b[0m__init__\u001b[0m\u001b[1;33m(\u001b[0m\u001b[0mself\u001b[0m\u001b[1;33m)\u001b[0m\u001b[1;33m:\u001b[0m\u001b[1;33m\u001b[0m\u001b[1;33m\u001b[0m\u001b[0m\n",
      "\u001b[1;31mTypeError\u001b[0m: __init__() takes 1 positional argument but 2 were given"
     ]
    }
   ],
   "source": [
    "class CBJLNE:\n",
    "    if len(ne.node_editor.nodes[0].display_element.children) <= 3:\n",
    "        for i in range(3):\n",
    "            ne.node_editor.nodes[i].display_element.children += ipywidgets.Widget(\"Initializing\",)\n",
    "    \n",
    "    def __init__(self):\n",
    "        self.label = ipywidgets.Label()\n",
    "    \n",
    "    def display_number(self, *args, **kwargs):\n",
    "        ne.node_editor.nodes[0].display_element.children[3].value = f\"Number: {args[0].args[1]}\"\n",
    "        \n",
    "    def display_string(self, *args, **kwargs):\n",
    "        ne.node_editor.nodes[1].display_element.children[3].value = f\"String: {args[0].args[1]}\"\n",
    "        \n",
    "    def display_rotated(self, *args, **kwargs):\n",
    "        ne.node_editor.nodes[2].display_element.children[3].value = f\"ROTXX: {args[0].args[1]}\"\n",
    "    \n",
    "display = CBJLNE()"
   ]
  },
  {
   "cell_type": "code",
   "execution_count": null,
   "id": "c345db9f-2d68-4aac-942e-986a34f794a7",
   "metadata": {},
   "outputs": [],
   "source": [
    "runner.connectiondrivers['model_reader:inputReader']['callbacks'] = [display.display_string]\n",
    "runner.connectiondrivers['model_rng:outputRNG,model_reader:outputReader_to_model_rotxx:input_rotxx']['callbacks'] = [display.display_number]\n",
    "runner.connectiondrivers['model_rotxx:output_rotxx']['callbacks'] = [display.display_rotated]"
   ]
  }
 ],
 "metadata": {
  "kernelspec": {
   "display_name": "yggJLNE",
   "language": "python",
   "name": "yggjlne"
  },
  "language_info": {
   "codemirror_mode": {
    "name": "ipython",
    "version": 3
   },
   "file_extension": ".py",
   "mimetype": "text/x-python",
   "name": "python",
   "nbconvert_exporter": "python",
   "pygments_lexer": "ipython3",
   "version": "3.8.12"
  }
 },
 "nbformat": 4,
 "nbformat_minor": 5
}
