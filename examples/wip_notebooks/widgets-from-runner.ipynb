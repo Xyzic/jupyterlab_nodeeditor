{
 "cells": [
  {
   "cell_type": "code",
   "execution_count": 1,
   "id": "48b9a637-285e-498d-a258-ca08f1679cbb",
   "metadata": {},
   "outputs": [],
   "source": [
    "import jupyterlab_nodeeditor as jlne\n",
    "import ipywidgets\n",
    "from yggdrasil.runner import YggRunner"
   ]
  },
  {
   "cell_type": "code",
   "execution_count": 2,
   "id": "b21035ec-8c99-4685-9ff9-0340b520a767",
   "metadata": {},
   "outputs": [
    {
     "ename": "OSError",
     "evalue": "Unable locate yaml file X:\\College\\Grad School\\Research\\gc-Xyzic\\jupyterlab_nodeeditor\\examples\\wip_notebooks\\gs_lesson4\\gs_lesson4_python.yml",
     "output_type": "error",
     "traceback": [
      "\u001b[1;31m---------------------------------------------------------------------------\u001b[0m",
      "\u001b[1;31mOSError\u001b[0m                                   Traceback (most recent call last)",
      "\u001b[1;32m<ipython-input-2-aabac4ca9cd4>\u001b[0m in \u001b[0;36m<module>\u001b[1;34m\u001b[0m\n\u001b[1;32m----> 1\u001b[1;33m \u001b[0mrunner\u001b[0m \u001b[1;33m=\u001b[0m \u001b[0mYggRunner\u001b[0m\u001b[1;33m(\u001b[0m\u001b[1;34m\"gs_lesson4/gs_lesson4_python.yml\"\u001b[0m\u001b[1;33m)\u001b[0m\u001b[1;33m\u001b[0m\u001b[1;33m\u001b[0m\u001b[0m\n\u001b[0m",
      "\u001b[1;32mx:\\college\\grad school\\research\\yggdrasil\\yggdrasil\\runner.py\u001b[0m in \u001b[0;36m__init__\u001b[1;34m(self, modelYmls, namespace, host, rank, ygg_debug_level, rmq_debug_level, ygg_debug_prefix, connection_task_method, as_service, complete_partial, partial_commtype, production_run, mpi_tag_start, yaml_param, yaml_encoding, validate)\u001b[0m\n\u001b[0;32m    330\u001b[0m             \u001b[1;32mpass\u001b[0m\u001b[1;33m\u001b[0m\u001b[1;33m\u001b[0m\u001b[0m\n\u001b[0;32m    331\u001b[0m         \u001b[1;32melse\u001b[0m\u001b[1;33m:\u001b[0m\u001b[1;33m\u001b[0m\u001b[1;33m\u001b[0m\u001b[0m\n\u001b[1;32m--> 332\u001b[1;33m             self.drivers = yamlfile.parse_yaml(\n\u001b[0m\u001b[0;32m    333\u001b[0m                 \u001b[0mmodelYmls\u001b[0m\u001b[1;33m,\u001b[0m \u001b[0mcomplete_partial\u001b[0m\u001b[1;33m=\u001b[0m\u001b[0mcomplete_partial\u001b[0m\u001b[1;33m,\u001b[0m\u001b[1;33m\u001b[0m\u001b[1;33m\u001b[0m\u001b[0m\n\u001b[0;32m    334\u001b[0m                 \u001b[0mpartial_commtype\u001b[0m\u001b[1;33m=\u001b[0m\u001b[0mpartial_commtype\u001b[0m\u001b[1;33m,\u001b[0m \u001b[0myaml_param\u001b[0m\u001b[1;33m=\u001b[0m\u001b[0myaml_param\u001b[0m\u001b[1;33m,\u001b[0m\u001b[1;33m\u001b[0m\u001b[1;33m\u001b[0m\u001b[0m\n",
      "\u001b[1;32mx:\\college\\grad school\\research\\yggdrasil\\yggdrasil\\yamlfile.py\u001b[0m in \u001b[0;36mparse_yaml\u001b[1;34m(files, complete_partial, partial_commtype, model_only, model_submission, yaml_param, directory_for_clones, encoding)\u001b[0m\n\u001b[0;32m    285\u001b[0m     \u001b[0ms\u001b[0m \u001b[1;33m=\u001b[0m \u001b[0mget_schema\u001b[0m\u001b[1;33m(\u001b[0m\u001b[1;33m)\u001b[0m\u001b[1;33m\u001b[0m\u001b[1;33m\u001b[0m\u001b[0m\n\u001b[0;32m    286\u001b[0m     \u001b[1;31m# Parse files using schema\u001b[0m\u001b[1;33m\u001b[0m\u001b[1;33m\u001b[0m\u001b[1;33m\u001b[0m\u001b[0m\n\u001b[1;32m--> 287\u001b[1;33m     yml_prep = prep_yaml(files, yaml_param=yaml_param,\n\u001b[0m\u001b[0;32m    288\u001b[0m                          \u001b[0mdirectory_for_clones\u001b[0m\u001b[1;33m=\u001b[0m\u001b[0mdirectory_for_clones\u001b[0m\u001b[1;33m,\u001b[0m\u001b[1;33m\u001b[0m\u001b[1;33m\u001b[0m\u001b[0m\n\u001b[0;32m    289\u001b[0m                          encoding=encoding)\n",
      "\u001b[1;32mx:\\college\\grad school\\research\\yggdrasil\\yggdrasil\\yamlfile.py\u001b[0m in \u001b[0;36mprep_yaml\u001b[1;34m(files, yaml_param, directory_for_clones, encoding)\u001b[0m\n\u001b[0;32m    184\u001b[0m     \u001b[1;32mif\u001b[0m \u001b[1;32mnot\u001b[0m \u001b[0misinstance\u001b[0m\u001b[1;33m(\u001b[0m\u001b[0mfiles\u001b[0m\u001b[1;33m,\u001b[0m \u001b[0mlist\u001b[0m\u001b[1;33m)\u001b[0m\u001b[1;33m:\u001b[0m\u001b[1;33m\u001b[0m\u001b[1;33m\u001b[0m\u001b[0m\n\u001b[0;32m    185\u001b[0m         \u001b[0mfiles\u001b[0m \u001b[1;33m=\u001b[0m \u001b[1;33m[\u001b[0m\u001b[0mfiles\u001b[0m\u001b[1;33m]\u001b[0m\u001b[1;33m\u001b[0m\u001b[1;33m\u001b[0m\u001b[0m\n\u001b[1;32m--> 186\u001b[1;33m     yamls = [load_yaml(f, yaml_param=yaml_param,\n\u001b[0m\u001b[0;32m    187\u001b[0m                        \u001b[0mdirectory_for_clones\u001b[0m\u001b[1;33m=\u001b[0m\u001b[0mdirectory_for_clones\u001b[0m\u001b[1;33m,\u001b[0m\u001b[1;33m\u001b[0m\u001b[1;33m\u001b[0m\u001b[0m\n\u001b[0;32m    188\u001b[0m                        encoding=encoding)\n",
      "\u001b[1;32mx:\\college\\grad school\\research\\yggdrasil\\yggdrasil\\yamlfile.py\u001b[0m in \u001b[0;36m<listcomp>\u001b[1;34m(.0)\u001b[0m\n\u001b[0;32m    184\u001b[0m     \u001b[1;32mif\u001b[0m \u001b[1;32mnot\u001b[0m \u001b[0misinstance\u001b[0m\u001b[1;33m(\u001b[0m\u001b[0mfiles\u001b[0m\u001b[1;33m,\u001b[0m \u001b[0mlist\u001b[0m\u001b[1;33m)\u001b[0m\u001b[1;33m:\u001b[0m\u001b[1;33m\u001b[0m\u001b[1;33m\u001b[0m\u001b[0m\n\u001b[0;32m    185\u001b[0m         \u001b[0mfiles\u001b[0m \u001b[1;33m=\u001b[0m \u001b[1;33m[\u001b[0m\u001b[0mfiles\u001b[0m\u001b[1;33m]\u001b[0m\u001b[1;33m\u001b[0m\u001b[1;33m\u001b[0m\u001b[0m\n\u001b[1;32m--> 186\u001b[1;33m     yamls = [load_yaml(f, yaml_param=yaml_param,\n\u001b[0m\u001b[0;32m    187\u001b[0m                        \u001b[0mdirectory_for_clones\u001b[0m\u001b[1;33m=\u001b[0m\u001b[0mdirectory_for_clones\u001b[0m\u001b[1;33m,\u001b[0m\u001b[1;33m\u001b[0m\u001b[1;33m\u001b[0m\u001b[0m\n\u001b[0;32m    188\u001b[0m                        encoding=encoding)\n",
      "\u001b[1;32mx:\\college\\grad school\\research\\yggdrasil\\yggdrasil\\yamlfile.py\u001b[0m in \u001b[0;36mload_yaml\u001b[1;34m(fname, yaml_param, directory_for_clones, encoding)\u001b[0m\n\u001b[0;32m    131\u001b[0m         \u001b[0mfname\u001b[0m \u001b[1;33m=\u001b[0m \u001b[0mos\u001b[0m\u001b[1;33m.\u001b[0m\u001b[0mpath\u001b[0m\u001b[1;33m.\u001b[0m\u001b[0mrealpath\u001b[0m\u001b[1;33m(\u001b[0m\u001b[0mfname\u001b[0m\u001b[1;33m)\u001b[0m\u001b[1;33m\u001b[0m\u001b[1;33m\u001b[0m\u001b[0m\n\u001b[0;32m    132\u001b[0m         \u001b[1;32mif\u001b[0m \u001b[1;32mnot\u001b[0m \u001b[0mos\u001b[0m\u001b[1;33m.\u001b[0m\u001b[0mpath\u001b[0m\u001b[1;33m.\u001b[0m\u001b[0misfile\u001b[0m\u001b[1;33m(\u001b[0m\u001b[0mfname\u001b[0m\u001b[1;33m)\u001b[0m\u001b[1;33m:\u001b[0m\u001b[1;33m\u001b[0m\u001b[1;33m\u001b[0m\u001b[0m\n\u001b[1;32m--> 133\u001b[1;33m             \u001b[1;32mraise\u001b[0m \u001b[0mIOError\u001b[0m\u001b[1;33m(\u001b[0m\u001b[1;34m\"Unable locate yaml file %s\"\u001b[0m \u001b[1;33m%\u001b[0m \u001b[0mfname\u001b[0m\u001b[1;33m)\u001b[0m\u001b[1;33m\u001b[0m\u001b[1;33m\u001b[0m\u001b[0m\n\u001b[0m\u001b[0;32m    134\u001b[0m         \u001b[0mfd\u001b[0m \u001b[1;33m=\u001b[0m \u001b[0mopen\u001b[0m\u001b[1;33m(\u001b[0m\u001b[0mfname\u001b[0m\u001b[1;33m,\u001b[0m \u001b[1;34m'r'\u001b[0m\u001b[1;33m,\u001b[0m \u001b[0mencoding\u001b[0m\u001b[1;33m=\u001b[0m\u001b[0mencoding\u001b[0m\u001b[1;33m)\u001b[0m\u001b[1;33m\u001b[0m\u001b[1;33m\u001b[0m\u001b[0m\n\u001b[0;32m    135\u001b[0m         \u001b[0mopened\u001b[0m \u001b[1;33m=\u001b[0m \u001b[1;32mTrue\u001b[0m\u001b[1;33m\u001b[0m\u001b[1;33m\u001b[0m\u001b[0m\n",
      "\u001b[1;31mOSError\u001b[0m: Unable locate yaml file X:\\College\\Grad School\\Research\\gc-Xyzic\\jupyterlab_nodeeditor\\examples\\wip_notebooks\\gs_lesson4\\gs_lesson4_python.yml"
     ]
    }
   ],
   "source": [
    "runner = YggRunner(\"gs_lesson4/gs_lesson4_python.yml\")"
   ]
  },
  {
   "cell_type": "code",
   "execution_count": 3,
   "id": "8de5f2eb-03ed-4f89-8581-b1803be1472c",
   "metadata": {},
   "outputs": [],
   "source": [
    "class Something:\n",
    "    val = 0\n",
    "    def __init__(self):\n",
    "        self.label = ipywidgets.Label()\n",
    "        \n",
    "    def update_label(self, *args, **kwargs):\n",
    "        self.label.value = f\"Hello {self.val} - here I am\"\n",
    "        self.val += 1\n",
    "        \n",
    "    def _ipython_display_(self):\n",
    "        display(self.label)\n",
    "\n",
    "s = Something()"
   ]
  },
  {
   "cell_type": "code",
   "execution_count": 5,
   "id": "13e88e4b-bb72-452f-a5dc-b55b2a567cbf",
   "metadata": {},
   "outputs": [],
   "source": [
    "runner.connectiondrivers['python_modelA:outputA_to_python_modelB:inputB']['callbacks'] = [s.update_label]"
   ]
  },
  {
   "cell_type": "code",
   "execution_count": 6,
   "id": "6f9d88c5-e397-48d4-a6c3-64321064a612",
   "metadata": {},
   "outputs": [
    {
     "data": {
      "application/vnd.jupyter.widget-view+json": {
       "model_id": "6a5676dc178741b6add9693883ed1085",
       "version_major": 2,
       "version_minor": 0
      },
      "text/plain": [
       "Label(value='')"
      ]
     },
     "metadata": {},
     "output_type": "display_data"
    }
   ],
   "source": [
    "s"
   ]
  },
  {
   "cell_type": "code",
   "execution_count": 7,
   "id": "81988558-9524-4403-bda1-9a8b06a39055",
   "metadata": {},
   "outputs": [
    {
     "data": {
      "text/plain": [
       "''"
      ]
     },
     "execution_count": 7,
     "metadata": {},
     "output_type": "execute_result"
    }
   ],
   "source": [
    "s.label.value"
   ]
  },
  {
   "cell_type": "code",
   "execution_count": 8,
   "id": "a321f83c-b15d-4084-87c4-b8dd324777ba",
   "metadata": {},
   "outputs": [
    {
     "name": "stdout",
     "output_type": "stream",
     "text": [
      "INFO:1460351:runner.startDrivers[804]:YggRunner(runner): Starting I/O drivers and models on system None in namespace yggdrasil with rank 0\n",
      "/home/mturk/conda-py3/envs/py39/bin/python /home/mturk/cis/jupyterlab_nodeeditor/examples/gs_lesson4/src/gs_lesson4_modelA.py\n",
      "/home/mturk/conda-py3/envs/py39/bin/python /home/mturk/cis/jupyterlab_nodeeditor/examples/gs_lesson4/src/gs_lesson4_modelB.py\n",
      "Model A: b'Hello!\\n'\n",
      "Model A: No more input.\n",
      "Model B: b'Hello!\\n'\n",
      "Model B: No more input.\n",
      "INFO:1460351:runner.waitModels[871]:YggRunner(runner): python_modelA finished running.\n",
      "INFO:1460351:runner.waitModels[877]:YggRunner(runner): python_modelA finished exiting.\n",
      "INFO:1460351:runner.waitModels[871]:YggRunner(runner): python_modelB finished running.\n",
      "INFO:1460351:runner.waitModels[877]:YggRunner(runner): python_modelB finished exiting.\n",
      "INFO:1460351:runner.waitModels[891]:YggRunner(runner): All models completed\n",
      "INFO:1460351:runner.run[450]:YggRunner(runner):                 init\t0.000002\n",
      "INFO:1460351:runner.run[450]:YggRunner(runner):         load drivers\t0.191916\n",
      "INFO:1460351:runner.run[450]:YggRunner(runner):        start drivers\t0.129395\n",
      "INFO:1460351:runner.run[450]:YggRunner(runner):           run models\t5.159348\n",
      "INFO:1460351:runner.run[450]:YggRunner(runner):              at exit\t0.004000\n",
      "INFO:1460351:runner.run[452]:YggRunner(runner): ========================================\n",
      "INFO:1460351:runner.run[453]:YggRunner(runner):                Total\t5.484659\n"
     ]
    },
    {
     "data": {
      "text/plain": [
       "OrderedDict([('init', 1644955357.0188441),\n",
       "             ('load drivers', 1644955357.2107596),\n",
       "             ('start drivers', 1644955357.3401542),\n",
       "             ('run models', 1644955362.4995017),\n",
       "             ('at exit', 1644955362.5035014)])"
      ]
     },
     "execution_count": 8,
     "metadata": {},
     "output_type": "execute_result"
    }
   ],
   "source": [
    "runner.run()"
   ]
  },
  {
   "cell_type": "code",
   "execution_count": null,
   "id": "b5c52789-7558-4c27-af18-cfb98b067a8b",
   "metadata": {},
   "outputs": [],
   "source": []
  }
 ],
 "metadata": {
  "kernelspec": {
   "display_name": "yggJLNE",
   "language": "python",
   "name": "yggjlne"
  },
  "language_info": {
   "codemirror_mode": {
    "name": "ipython",
    "version": 3
   },
   "file_extension": ".py",
   "mimetype": "text/x-python",
   "name": "python",
   "nbconvert_exporter": "python",
   "pygments_lexer": "ipython3",
   "version": "3.8.12"
  }
 },
 "nbformat": 4,
 "nbformat_minor": 5
}
