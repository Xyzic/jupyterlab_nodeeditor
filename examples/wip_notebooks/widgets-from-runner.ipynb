{
 "cells": [
  {
   "cell_type": "code",
   "execution_count": 1,
   "id": "48b9a637-285e-498d-a258-ca08f1679cbb",
   "metadata": {},
   "outputs": [],
   "source": [
    "import jupyterlab_nodeeditor as jlne\n",
    "import ipywidgets\n",
    "from yggdrasil.runner import YggRunner"
   ]
  },
  {
   "cell_type": "code",
   "execution_count": 2,
   "id": "b21035ec-8c99-4685-9ff9-0340b520a767",
   "metadata": {},
   "outputs": [],
   "source": [
    "runner = YggRunner(\"gs_lesson4/gs_lesson4_python.yml\")"
   ]
  },
  {
   "cell_type": "code",
   "execution_count": 3,
   "id": "8de5f2eb-03ed-4f89-8581-b1803be1472c",
   "metadata": {},
   "outputs": [],
   "source": [
    "class Something:\n",
    "    val = 0\n",
    "    def __init__(self):\n",
    "        self.label = ipywidgets.Label()\n",
    "        \n",
    "    def update_label(self, *args, **kwargs):\n",
    "        self.label.value = f\"Hello {self.val} - here I am\"\n",
    "        self.val += 1\n",
    "        \n",
    "    def _ipython_display_(self):\n",
    "        display(self.label)\n",
    "\n",
    "s = Something()"
   ]
  },
  {
   "cell_type": "code",
   "execution_count": 5,
   "id": "13e88e4b-bb72-452f-a5dc-b55b2a567cbf",
   "metadata": {},
   "outputs": [],
   "source": [
    "runner.connectiondrivers['python_modelA:outputA_to_python_modelB:inputB']['callbacks'] = [s.update_label]"
   ]
  },
  {
   "cell_type": "code",
   "execution_count": 6,
   "id": "6f9d88c5-e397-48d4-a6c3-64321064a612",
   "metadata": {},
   "outputs": [
    {
     "data": {
      "application/vnd.jupyter.widget-view+json": {
       "model_id": "6a5676dc178741b6add9693883ed1085",
       "version_major": 2,
       "version_minor": 0
      },
      "text/plain": [
       "Label(value='')"
      ]
     },
     "metadata": {},
     "output_type": "display_data"
    }
   ],
   "source": [
    "s"
   ]
  },
  {
   "cell_type": "code",
   "execution_count": 7,
   "id": "81988558-9524-4403-bda1-9a8b06a39055",
   "metadata": {},
   "outputs": [
    {
     "data": {
      "text/plain": [
       "''"
      ]
     },
     "execution_count": 7,
     "metadata": {},
     "output_type": "execute_result"
    }
   ],
   "source": [
    "s.label.value"
   ]
  },
  {
   "cell_type": "code",
   "execution_count": 8,
   "id": "a321f83c-b15d-4084-87c4-b8dd324777ba",
   "metadata": {},
   "outputs": [
    {
     "name": "stdout",
     "output_type": "stream",
     "text": [
      "INFO:1460351:runner.startDrivers[804]:YggRunner(runner): Starting I/O drivers and models on system None in namespace yggdrasil with rank 0\n",
      "/home/mturk/conda-py3/envs/py39/bin/python /home/mturk/cis/jupyterlab_nodeeditor/examples/gs_lesson4/src/gs_lesson4_modelA.py\n",
      "/home/mturk/conda-py3/envs/py39/bin/python /home/mturk/cis/jupyterlab_nodeeditor/examples/gs_lesson4/src/gs_lesson4_modelB.py\n",
      "Model A: b'Hello!\\n'\n",
      "Model A: No more input.\n",
      "Model B: b'Hello!\\n'\n",
      "Model B: No more input.\n",
      "INFO:1460351:runner.waitModels[871]:YggRunner(runner): python_modelA finished running.\n",
      "INFO:1460351:runner.waitModels[877]:YggRunner(runner): python_modelA finished exiting.\n",
      "INFO:1460351:runner.waitModels[871]:YggRunner(runner): python_modelB finished running.\n",
      "INFO:1460351:runner.waitModels[877]:YggRunner(runner): python_modelB finished exiting.\n",
      "INFO:1460351:runner.waitModels[891]:YggRunner(runner): All models completed\n",
      "INFO:1460351:runner.run[450]:YggRunner(runner):                 init\t0.000002\n",
      "INFO:1460351:runner.run[450]:YggRunner(runner):         load drivers\t0.191916\n",
      "INFO:1460351:runner.run[450]:YggRunner(runner):        start drivers\t0.129395\n",
      "INFO:1460351:runner.run[450]:YggRunner(runner):           run models\t5.159348\n",
      "INFO:1460351:runner.run[450]:YggRunner(runner):              at exit\t0.004000\n",
      "INFO:1460351:runner.run[452]:YggRunner(runner): ========================================\n",
      "INFO:1460351:runner.run[453]:YggRunner(runner):                Total\t5.484659\n"
     ]
    },
    {
     "data": {
      "text/plain": [
       "OrderedDict([('init', 1644955357.0188441),\n",
       "             ('load drivers', 1644955357.2107596),\n",
       "             ('start drivers', 1644955357.3401542),\n",
       "             ('run models', 1644955362.4995017),\n",
       "             ('at exit', 1644955362.5035014)])"
      ]
     },
     "execution_count": 8,
     "metadata": {},
     "output_type": "execute_result"
    }
   ],
   "source": [
    "runner.run()"
   ]
  },
  {
   "cell_type": "code",
   "execution_count": null,
   "id": "b5c52789-7558-4c27-af18-cfb98b067a8b",
   "metadata": {},
   "outputs": [],
   "source": []
  }
 ],
 "metadata": {
  "kernelspec": {
   "display_name": "yggJLNE",
   "language": "python",
   "name": "yggjlne"
  },
  "language_info": {
   "codemirror_mode": {
    "name": "ipython",
    "version": 3
   },
   "file_extension": ".py",
   "mimetype": "text/x-python",
   "name": "python",
   "nbconvert_exporter": "python",
   "pygments_lexer": "ipython3",
   "version": "3.8.12"
  }
 },
 "nbformat": 4,
 "nbformat_minor": 5
}
