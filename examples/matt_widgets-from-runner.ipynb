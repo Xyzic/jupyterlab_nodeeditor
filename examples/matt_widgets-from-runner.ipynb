{
 "cells": [
  {
   "cell_type": "code",
   "execution_count": 1,
   "id": "48b9a637-285e-498d-a258-ca08f1679cbb",
   "metadata": {},
   "outputs": [],
   "source": [
    "import jupyterlab_nodeeditor as jlne\n",
    "import ipywidgets\n",
    "from yggdrasil.runner import YggRunner"
   ]
  },
  {
   "cell_type": "code",
   "execution_count": 2,
   "id": "b21035ec-8c99-4685-9ff9-0340b520a767",
   "metadata": {},
   "outputs": [],
   "source": [
    "runner = YggRunner(\"testing_ignore/test.yml\")"
   ]
  },
  {
   "cell_type": "code",
   "execution_count": 3,
   "id": "8de5f2eb-03ed-4f89-8581-b1803be1472c",
   "metadata": {},
   "outputs": [],
   "source": [
    "class Something:\n",
    "    val = 0\n",
    "    def __init__(self):\n",
    "        self.label = ipywidgets.Label()\n",
    "        \n",
    "    def update_label(self, *args, **kwargs):\n",
    "        self.label.value = f\"Hello {self.val} - here I am\"\n",
    "        self.val += 1\n",
    "        \n",
    "    def _ipython_display_(self):\n",
    "        display(self.label)\n",
    "\n",
    "s = Something()"
   ]
  },
  {
   "cell_type": "code",
   "execution_count": 4,
   "id": "13e88e4b-bb72-452f-a5dc-b55b2a567cbf",
   "metadata": {},
   "outputs": [],
   "source": [
    "runner.connectiondrivers['python_modelA:outputA_to_python_modelB:inputB']['callbacks'] = [s.update_label]"
   ]
  },
  {
   "cell_type": "code",
   "execution_count": 5,
   "id": "6f9d88c5-e397-48d4-a6c3-64321064a612",
   "metadata": {},
   "outputs": [
    {
     "data": {
      "application/vnd.jupyter.widget-view+json": {
       "model_id": "7be1fe9c84e64ae8a1a311bd188cbc58",
       "version_major": 2,
       "version_minor": 0
      },
      "text/plain": [
       "Label(value='')"
      ]
     },
     "metadata": {},
     "output_type": "display_data"
    }
   ],
   "source": [
    "s"
   ]
  },
  {
   "cell_type": "code",
   "execution_count": 6,
   "id": "81988558-9524-4403-bda1-9a8b06a39055",
   "metadata": {},
   "outputs": [
    {
     "data": {
      "text/plain": [
       "''"
      ]
     },
     "execution_count": 6,
     "metadata": {},
     "output_type": "execute_result"
    }
   ],
   "source": [
    "s.label.value"
   ]
  },
  {
   "cell_type": "code",
   "execution_count": 7,
   "id": "a321f83c-b15d-4084-87c4-b8dd324777ba",
   "metadata": {},
   "outputs": [
    {
     "name": "stdout",
     "output_type": "stream",
     "text": [
      "INFO:21904:FortranModelDriver.before_registration[418]:The MSVC compiler could not be located. The Python C API assumes the MSVC CRT will be used on windows so there may be errors when accessing some behavior of the Python C API. In particular, segfaults are known to occur when trying to call display_python due to differences in the internal structure of FILE* objects between MSVC and other standards.\n",
      "INFO:21904:runner.startDrivers[804]:YggRunner(runner): Starting I/O drivers and models on system None in namespace yggdrasil with rank 0\n",
      "X:\\anaconda3\\envs\\yggJLNE\\python.exe X:\\College\\Grad School\\Research\\gc-Xyzic\\jupyterlab_nodeeditor\\examples\\testing_ignore\\modelA.py\n",
      "X:\\anaconda3\\envs\\yggJLNE\\python.exe X:\\College\\Grad School\\Research\\gc-Xyzic\\jupyterlab_nodeeditor\\examples\\testing_ignore\\modelB.py\n",
      "Model A: b'Hello!'\n",
      "Model A: No more input.\n",
      "Model B: b'Hello!'\n",
      "Model B: No more input.\n",
      "INFO:21904:runner.waitModels[871]:YggRunner(runner): python_modelA finished running.\n",
      "INFO:21904:runner.waitModels[877]:YggRunner(runner): python_modelA finished exiting.\n",
      "INFO:21904:runner.waitModels[871]:YggRunner(runner): python_modelB finished running.\n",
      "INFO:21904:runner.waitModels[877]:YggRunner(runner): python_modelB finished exiting.\n",
      "INFO:21904:runner.waitModels[891]:YggRunner(runner): All models completed\n",
      "INFO:21904:runner.run[450]:YggRunner(runner):                 init\t0.000000\n",
      "INFO:21904:runner.run[450]:YggRunner(runner):         load drivers\t0.362591\n",
      "INFO:21904:runner.run[450]:YggRunner(runner):        start drivers\t0.056093\n",
      "INFO:21904:runner.run[450]:YggRunner(runner):           run models\t3.397373\n",
      "INFO:21904:runner.run[450]:YggRunner(runner):              at exit\t0.004504\n",
      "INFO:21904:runner.run[452]:YggRunner(runner): ========================================\n",
      "INFO:21904:runner.run[453]:YggRunner(runner):                Total\t3.820562\n"
     ]
    },
    {
     "data": {
      "text/plain": [
       "OrderedDict([('init', 1644955743.5013227),\n",
       "             ('load drivers', 1644955743.8639135),\n",
       "             ('start drivers', 1644955743.920007),\n",
       "             ('run models', 1644955747.3173804),\n",
       "             ('at exit', 1644955747.3218844)])"
      ]
     },
     "execution_count": 7,
     "metadata": {},
     "output_type": "execute_result"
    }
   ],
   "source": [
    "runner.run()"
   ]
  },
  {
   "cell_type": "code",
   "execution_count": null,
   "id": "b5c52789-7558-4c27-af18-cfb98b067a8b",
   "metadata": {},
   "outputs": [],
   "source": []
  }
 ],
 "metadata": {
  "kernelspec": {
   "display_name": "yggJLNE",
   "language": "python",
   "name": "yggjlne"
  },
  "language_info": {
   "codemirror_mode": {
    "name": "ipython",
    "version": 3
   },
   "file_extension": ".py",
   "mimetype": "text/x-python",
   "name": "python",
   "nbconvert_exporter": "python",
   "pygments_lexer": "ipython3",
   "version": "3.8.12"
  }
 },
 "nbformat": 4,
 "nbformat_minor": 5
}
