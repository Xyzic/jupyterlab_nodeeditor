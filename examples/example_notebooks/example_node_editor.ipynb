{
 "cells": [
  {
   "cell_type": "code",
   "execution_count": 1,
   "id": "8a9b8a36-60a5-45e2-8609-8dcf53ab257e",
   "metadata": {},
   "outputs": [],
   "source": [
    "import jupyterlab_nodeeditor as jlne"
   ]
  },
  {
   "cell_type": "code",
   "execution_count": 2,
   "id": "12b870ab-c94e-403f-a1c8-0f93a2270448",
   "metadata": {},
   "outputs": [],
   "source": [
    "ne = jlne.NodeEditor()"
   ]
  },
  {
   "cell_type": "code",
   "execution_count": 3,
   "id": "4331f695-c26f-4147-af65-c71dd2b159f3",
   "metadata": {},
   "outputs": [],
   "source": [
    "ne.socket_types = ('Temperature', 'Rainfall', 'Delta Time', 'Results')"
   ]
  },
  {
   "cell_type": "code",
   "execution_count": 4,
   "id": "0e9b7f98-86d7-4a37-953b-24ae61e6ac43",
   "metadata": {},
   "outputs": [],
   "source": [
    "ne.add_component(\n",
    "    {\"inputs\": [\n",
    "                {'title': 'Temperature Morning', 'key': 'temp1', 'socket_type': 'Temperature'},\n",
    "                {'title': 'Temperature Afternoon', 'key': 'temp2', 'socket_type': 'Temperature'},\n",
    "                {'title': 'Temperature Evening', 'key': 'temp3', 'socket_type': 'Temperature'}\n",
    "                ],\n",
    "     \"outputs\": [\n",
    "                {'title': 'Results', 'key': 'results', 'socket_type': 'Results'}\n",
    "                ],\n",
    "     \"title\": \"Temperature Averaging\"\n",
    "})"
   ]
  },
  {
   "cell_type": "code",
   "execution_count": 5,
   "id": "6d7a4a92-981c-42ef-99e5-84f025c64d8f",
   "metadata": {},
   "outputs": [
    {
     "data": {
      "application/vnd.jupyter.widget-view+json": {
       "model_id": "49f7f7b53d974a6aa922b842c3934288",
       "version_major": 2,
       "version_minor": 0
      },
      "text/plain": [
       "HBox(children=(NodeEditorModel(selected_node=None), Tab()))"
      ]
     },
     "metadata": {},
     "output_type": "display_data"
    }
   ],
   "source": [
    "ne"
   ]
  },
  {
   "cell_type": "code",
   "execution_count": 6,
   "id": "ac1ab722-684e-4df2-9809-2684263eab40",
   "metadata": {},
   "outputs": [
    {
     "data": {
      "application/vnd.jupyter.widget-view+json": {
       "model_id": "e560b944e1e9412faacf53cbb61869b8",
       "version_major": 2,
       "version_minor": 0
      },
      "text/plain": [
       "HBox(children=(NodeEditorModel(selected_node=None), Tab()))"
      ]
     },
     "metadata": {},
     "output_type": "display_data"
    }
   ],
   "source": [
    "jlne.parse_yggdrasil_yaml(\"model_example.yml\")"
   ]
  },
  {
   "cell_type": "code",
   "execution_count": null,
   "id": "f938905b-f7ec-4a00-9fac-d0c748007d22",
   "metadata": {},
   "outputs": [],
   "source": []
  }
 ],
 "metadata": {
  "kernelspec": {
   "display_name": "yggJLNE",
   "language": "python",
   "name": "yggjlne"
  },
  "language_info": {
   "codemirror_mode": {
    "name": "ipython",
    "version": 3
   },
   "file_extension": ".py",
   "mimetype": "text/x-python",
   "name": "python",
   "nbconvert_exporter": "python",
   "pygments_lexer": "ipython3",
   "version": "3.8.12"
  }
 },
 "nbformat": 4,
 "nbformat_minor": 5
}
