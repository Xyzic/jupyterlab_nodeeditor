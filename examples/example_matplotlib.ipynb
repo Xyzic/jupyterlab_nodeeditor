{
 "cells": [
  {
   "cell_type": "markdown",
   "id": "0f4c7d83-4f5e-48f7-abe7-57997f6dc4a6",
   "metadata": {},
   "source": [
    "# Example - Matplotlib Integration"
   ]
  },
  {
   "cell_type": "markdown",
   "id": "2551617f-7126-4b7c-ad0b-4ec5c38a39fe",
   "metadata": {},
   "source": [
    "## Import libraries and setup node_editor"
   ]
  },
  {
   "cell_type": "code",
   "execution_count": null,
   "id": "938e9808-8acd-4598-a3bd-9bea0bb39d48",
   "metadata": {},
   "outputs": [],
   "source": [
    "%matplotlib inline\n",
    "import jupyterlab_nodeeditor as jlne\n",
    "from yggdrasil import yamlfile\n",
    "import matplotlib.pyplot as plt\n",
    "import ipywidgets as widgets\n",
    "import numpy as np"
   ]
  },
  {
   "cell_type": "code",
   "execution_count": null,
   "id": "7ea24a11-1036-4cba-80ca-75c3a95fa572",
   "metadata": {},
   "outputs": [],
   "source": [
    "# Setting up the JLNE instance\n",
    "filename = \"X:\\College\\Grad School\\Research\\gc-Xyzic\\jupyterlab_nodeeditor\\examples\\model_example.yml\"\n",
    "model_set = yamlfile.parse_yaml(filename, model_only=True)\n",
    "model_sets = jlne.parse_yggdrasil_yaml(filename)\n",
    "\n",
    "schema = yamlfile.get_schema()\n",
    "socket_types = tuple(schema.form_schema['definitions']['schema']['definitions']['simpleTypes']['enum'])\n",
    "\n",
    "ne = jlne.NodeEditor(socket_types = socket_types)"
   ]
  },
  {
   "cell_type": "code",
   "execution_count": null,
   "id": "40d884e5-fa54-4e22-bce8-f70a1b0ebd9a",
   "metadata": {},
   "outputs": [],
   "source": [
    "ne.socket_types = ('Temperature', 'Rainfall', 'Delta Time', 'Results')\n",
    "ne.add_component(\n",
    "    {\"inputs\": [\n",
    "                {'title': 'Temperature Morning', 'key': 'temp1', 'socket_type': 'Temperature'},\n",
    "                {'title': 'Temperature Afternoon', 'key': 'temp2', 'socket_type': 'Temperature'},\n",
    "                {'title': 'Temperature Evening', 'key': 'temp3', 'socket_type': 'Temperature'}\n",
    "                ],\n",
    "     \"outputs\": [\n",
    "                {'title': 'Results', 'key': 'results', 'socket_type': 'Temperature'}\n",
    "                ],\n",
    "     \"title\": \"Temperature Averaging\"\n",
    "})"
   ]
  },
  {
   "cell_type": "markdown",
   "id": "7a573119-cb46-471f-94db-d9e3b628cda8",
   "metadata": {},
   "source": [
    "## Display the node editor\n",
    "#### *Optional - Right click the cell and select \"Create new view for output\" to see it in a different tab*\n",
    "Make sure to add in a node BEFORE continuing"
   ]
  },
  {
   "cell_type": "code",
   "execution_count": null,
   "id": "a5ded9d5-a566-4432-b21b-14f48c02bad9",
   "metadata": {},
   "outputs": [],
   "source": [
    "ne"
   ]
  },
  {
   "cell_type": "code",
   "execution_count": null,
   "id": "d5509eba-b7b5-4982-8f61-9491828063c5",
   "metadata": {},
   "outputs": [],
   "source": [
    "# Setup and add the Slope and Y-Intercept Sliders\n",
    "m = widgets.FloatSlider(value = 0.0, min = -2.0, max = 2.0, step = 0.1, description = \"Slope\")\n",
    "b = widgets.FloatSlider(value = 5.0, min = 0.0, max = 10.0, step = 0.1, description = \"Intercept\")\n",
    "ne.node_editor.nodes[0].display_element.children += (m,)\n",
    "ne.node_editor.nodes[0].display_element.children += (b,)"
   ]
  },
  {
   "cell_type": "markdown",
   "id": "3602b926-b2d6-4084-9f90-c1a67f5a55e9",
   "metadata": {},
   "source": [
    "Now you can see the sliders on the node editor instance.\n",
    "\n",
    "This next cell will add in the graph that you can play around with."
   ]
  },
  {
   "cell_type": "code",
   "execution_count": null,
   "id": "57c6bc7d-43ed-4d60-b604-008e9eaa4ab2",
   "metadata": {},
   "outputs": [],
   "source": [
    "# Open initial sample plot png and add it to the sidebar\n",
    "with open(\"test.png\", \"rb\") as f:\n",
    "    image = f.read()\n",
    "    plotimg = widgets.Image(value = image, format = \"png\")\n",
    "\n",
    "ne.node_editor.nodes[0].display_element.children += (plotimg,)"
   ]
  },
  {
   "cell_type": "markdown",
   "id": "5879688a-5fcc-4fbe-aa88-acd898ce2839",
   "metadata": {},
   "source": [
    "The sliders won't work until this next cell is run. \n",
    "\n",
    "The comments explain what each portion does with ipywidgets."
   ]
  },
  {
   "cell_type": "code",
   "execution_count": null,
   "id": "912dda8e-4588-4a25-b80d-499c09ecac03",
   "metadata": {},
   "outputs": [],
   "source": [
    "# Use widgets to let the sliders adjust the plot\n",
    "def plot_change(change):\n",
    "    # Create the graph\n",
    "    fig, ax = plt.subplots()\n",
    "    ax.set(xlabel='x', ylabel='y', title = \"Simple Test Graph\")\n",
    "    ax.grid()\n",
    "    x = np.linspace(-10, 10, num=1000)\n",
    "    ax.set_ylim(0, 10)\n",
    "\n",
    "    # Plot the line\n",
    "    ax.plot(x, m.value * x + b.value)\n",
    "    \n",
    "    # Save it as an image\n",
    "    fig.savefig(\"slope.png\")\n",
    "    \n",
    "    # Display the image\n",
    "    with open(\"slope.png\", \"rb\") as f:\n",
    "        new_plot = f.read()\n",
    "        plotimg.value = new_plot\n",
    "        \n",
    "# Now have the sliders change the plot\n",
    "m.observe(plot_change, \"value\")\n",
    "b.observe(plot_change, \"value\")"
   ]
  },
  {
   "cell_type": "markdown",
   "id": "7ffa33b4-712a-4f76-b3c2-c75f8ab0142b",
   "metadata": {},
   "source": [
    "For now we have to save/load a png due to %matplotlib widget having some issues.\n",
    "\n",
    "It will probably be resolved and the example will be updated accordingly in the future.\n"
   ]
  },
  {
   "cell_type": "code",
   "execution_count": null,
   "id": "a2762744-0a33-4689-abf4-130447fbc697",
   "metadata": {},
   "outputs": [],
   "source": []
  }
 ],
 "metadata": {
  "kernelspec": {
   "display_name": "yggJLNE",
   "language": "python",
   "name": "yggjlne"
  },
  "language_info": {
   "codemirror_mode": {
    "name": "ipython",
    "version": 3
   },
   "file_extension": ".py",
   "mimetype": "text/x-python",
   "name": "python",
   "nbconvert_exporter": "python",
   "pygments_lexer": "ipython3",
   "version": "3.8.12"
  }
 },
 "nbformat": 4,
 "nbformat_minor": 5
}
