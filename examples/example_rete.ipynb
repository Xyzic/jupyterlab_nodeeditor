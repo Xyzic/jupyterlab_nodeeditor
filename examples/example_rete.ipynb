{
 "cells": [
  {
   "cell_type": "code",
   "execution_count": 15,
   "id": "endless-thanksgiving",
   "metadata": {},
   "outputs": [],
   "source": [
    "import jupyterlab_nodeeditor as jlne"
   ]
  },
  {
   "cell_type": "code",
   "execution_count": 16,
   "id": "aquatic-forty",
   "metadata": {},
   "outputs": [],
   "source": [
    "coll = jlne.SocketCollection()"
   ]
  },
  {
   "cell_type": "code",
   "execution_count": 17,
   "id": "played-beads",
   "metadata": {},
   "outputs": [],
   "source": [
    "coll.socket_types = ('song', 'number', 'string')"
   ]
  },
  {
   "cell_type": "code",
   "execution_count": 18,
   "id": "controlled-newton",
   "metadata": {},
   "outputs": [],
   "source": [
    "#i1 = jlne.InputSlot(title='Number 1', key='num1', socket_type='number')\n",
    "c = jlne.Component(sockets=coll,\n",
    "                  inputs = [\n",
    "                      {'title': 'Number 1', 'key': 'num1', 'socket_type': 'number'},\n",
    "                      {'title': 'Value 2', 'key': 'str1', 'socket_type': 'string'},\n",
    "                      {'title': 'Thing 3', 'key': 'song1', 'socket_type': 'song'}\n",
    "                  ])"
   ]
  },
  {
   "cell_type": "code",
   "execution_count": null,
   "id": "careful-grade",
   "metadata": {},
   "outputs": [],
   "source": []
  }
 ],
 "metadata": {
  "kernelspec": {
   "display_name": "py39",
   "language": "python",
   "name": "py39"
  },
  "language_info": {
   "codemirror_mode": {
    "name": "ipython",
    "version": 3
   },
   "file_extension": ".py",
   "mimetype": "text/x-python",
   "name": "python",
   "nbconvert_exporter": "python",
   "pygments_lexer": "ipython3",
   "version": "3.9.1"
  }
 },
 "nbformat": 4,
 "nbformat_minor": 5
}
