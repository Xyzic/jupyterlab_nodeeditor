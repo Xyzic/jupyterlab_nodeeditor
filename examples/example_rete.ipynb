{
 "cells": [
  {
   "cell_type": "code",
   "execution_count": null,
   "id": "static-visitor",
   "metadata": {},
   "outputs": [],
   "source": [
    "import jupyterlab_nodeeditor as jlne"
   ]
  },
  {
   "cell_type": "code",
   "execution_count": null,
   "id": "labeled-dakota",
   "metadata": {},
   "outputs": [],
   "source": [
    "coll = jlne.SocketCollection(socket_types = ('song', 'number', 'string'))"
   ]
  },
  {
   "cell_type": "code",
   "execution_count": null,
   "id": "comparative-letter",
   "metadata": {},
   "outputs": [],
   "source": [
    "in1 = jlne.InputSlot(title = \"Number 1\", key = \"num1\", socket_type = \"number\", sockets = coll)\n",
    "in2 = jlne.InputSlot(title = \"Song 1\", key = \"song1\", socket_type = \"song\", sockets = coll)\n",
    "in3 = jlne.InputSlot(title = \"String 1\", key = \"str1\", socket_type = \"string\", sockets = coll)\n",
    "out1 = jlne.OutputSlot(title = \"Number 2\", key = \"num2\", socket_type=\"number\", sockets = coll)\n",
    "out2 = jlne.OutputSlot(title = \"Song 2\", key = \"song2\", socket_type=\"song\", sockets = coll)\n",
    "out3 = jlne.OutputSlot(title = \"String 2\", key = \"str2\", socket_type=\"string\", sockets = coll)\n",
    "c = jlne.Component(sockets=coll, inputs = [in1, in2, in3], outputs = [out1, out2, out3])"
   ]
  },
  {
   "cell_type": "code",
   "execution_count": null,
   "id": "blocked-fishing",
   "metadata": {},
   "outputs": [],
   "source": [
    "editor = jlne.NodeEditorModel()"
   ]
  },
  {
   "cell_type": "code",
   "execution_count": null,
   "id": "preceding-madness",
   "metadata": {},
   "outputs": [],
   "source": [
    "editor.add_component(c)"
   ]
  },
  {
   "cell_type": "code",
   "execution_count": null,
   "id": "disciplinary-penetration",
   "metadata": {},
   "outputs": [],
   "source": [
    "display(editor)"
   ]
  },
  {
   "cell_type": "code",
   "execution_count": null,
   "id": "proprietary-agent",
   "metadata": {},
   "outputs": [],
   "source": []
  }
 ],
 "metadata": {
  "kernelspec": {
   "display_name": "py38",
   "language": "python",
   "name": "py38"
  },
  "language_info": {
   "codemirror_mode": {
    "name": "ipython",
    "version": 3
   },
   "file_extension": ".py",
   "mimetype": "text/x-python",
   "name": "python",
   "nbconvert_exporter": "python",
   "pygments_lexer": "ipython3",
   "version": "3.8.6"
  }
 },
 "nbformat": 4,
 "nbformat_minor": 5
}
