{
 "cells": [
  {
   "cell_type": "code",
   "execution_count": null,
   "id": "arctic-calvin",
   "metadata": {},
   "outputs": [],
   "source": [
    "import jupyterlab_nodeeditor as jlne"
   ]
  },
  {
   "cell_type": "code",
   "execution_count": null,
   "id": "technological-mountain",
   "metadata": {},
   "outputs": [],
   "source": [
    "coll = jlne.SocketCollection(socket_types = ('song', 'number', 'string'))"
   ]
  },
  {
   "cell_type": "code",
   "execution_count": null,
   "id": "breathing-crystal",
   "metadata": {},
   "outputs": [],
   "source": [
    "in1 = jlne.InputSlot(title = \"Number 1\", key = \"num1\", socket_type = \"number\", sockets = coll)\n",
    "in2 = jlne.InputSlot(title = \"Song 1\", key = \"song1\", socket_type = \"song\", sockets = coll)\n",
    "in3 = jlne.InputSlot(title = \"String 1\", key = \"str1\", socket_type = \"string\", sockets = coll)\n",
    "c = jlne.Component(sockets=coll, inputs = [in1, in2, in3])"
   ]
  }
 ],
 "metadata": {
  "kernelspec": {
   "display_name": "py38",
   "language": "python",
   "name": "py38"
  },
  "language_info": {
   "codemirror_mode": {
    "name": "ipython",
    "version": 3
   },
   "file_extension": ".py",
   "mimetype": "text/x-python",
   "name": "python",
   "nbconvert_exporter": "python",
   "pygments_lexer": "ipython3",
   "version": "3.8.6"
  }
 },
 "nbformat": 4,
 "nbformat_minor": 5
}
