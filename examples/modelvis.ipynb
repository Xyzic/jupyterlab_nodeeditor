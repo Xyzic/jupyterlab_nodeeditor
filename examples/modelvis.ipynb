{
 "cells": [
  {
   "cell_type": "code",
   "execution_count": 1,
   "id": "989d4419-dcd1-465a-aa00-2deca223b7cd",
   "metadata": {},
   "outputs": [
    {
     "data": {
      "application/vnd.jupyter.widget-view+json": {
       "model_id": "c89f7935b632406b97a2c5856b71bf14",
       "version_major": 2,
       "version_minor": 0
      },
      "text/plain": [
       "HBox(children=(NodeEditorModel(selected_node=None), Tab()))"
      ]
     },
     "metadata": {},
     "output_type": "display_data"
    }
   ],
   "source": [
    "import jupyterlab_nodeeditor as jlne\n",
    "import ipywidgets\n",
    "import time\n",
    "from yggdrasil.runner import YggRunner\n",
    "ne = jlne.NodeEditor()\n",
    "\n",
    "# Change this to your model's filepath\n",
    "model_filepath = \"sample_test_models\\model_trifecta.yml\"\n",
    "jlne.load_model(model_filepath, ne)"
   ]
  },
  {
   "cell_type": "code",
   "execution_count": 6,
   "id": "dd6b2195-1b2d-4241-a434-55676fee3e44",
   "metadata": {},
   "outputs": [
    {
     "name": "stdout",
     "output_type": "stream",
     "text": [
      "INFO:24316:runner.startDrivers[804]:YggRunner(runner): Starting I/O drivers and models on system None in namespace yggdrasil with rank 0\n",
      "X:\\anaconda3\\envs\\yggJLNE\\python.exe X:\\College\\Grad School\\Research\\gc-Xyzic\\jupyterlab_nodeeditor\\examples\\sample_test_models\\model_rng_test.py\n",
      "X:\\anaconda3\\envs\\yggJLNE\\python.exe X:\\College\\Grad School\\Research\\gc-Xyzic\\jupyterlab_nodeeditor\\examples\\sample_test_models\\model_reader_test.py\n",
      "X:\\anaconda3\\envs\\yggJLNE\\python.exe X:\\College\\Grad School\\Research\\gc-Xyzic\\jupyterlab_nodeeditor\\examples\\sample_test_models\\ygg_model_rotxx_test_model_rotxx.py\n",
      "INFO:24316:runner.waitModels[871]:YggRunner(runner): model_reader finished running.\n",
      "INFO:24316:runner.waitModels[877]:YggRunner(runner): model_reader finished exiting.\n",
      "End of input from temp_x.\n",
      "INFO:24316:runner.waitModels[871]:YggRunner(runner): model_rng finished running.\n",
      "INFO:24316:runner.waitModels[877]:YggRunner(runner): model_rng finished exiting.\n",
      "INFO:24316:runner.waitModels[871]:YggRunner(runner): model_rotxx finished running.\n",
      "INFO:24316:runner.waitModels[877]:YggRunner(runner): model_rotxx finished exiting.\n",
      "INFO:24316:runner.waitModels[891]:YggRunner(runner): All models completed\n",
      "INFO:24316:runner.run[450]:YggRunner(runner):                 init\t0.000000\n",
      "INFO:24316:runner.run[450]:YggRunner(runner):         load drivers\t0.031027\n",
      "INFO:24316:runner.run[450]:YggRunner(runner):        start drivers\t0.085519\n",
      "INFO:24316:runner.run[450]:YggRunner(runner):           run models\t7.977313\n",
      "INFO:24316:runner.run[450]:YggRunner(runner):              at exit\t0.007998\n",
      "INFO:24316:runner.run[452]:YggRunner(runner): ========================================\n",
      "INFO:24316:runner.run[453]:YggRunner(runner):                Total\t8.101858\n"
     ]
    },
    {
     "data": {
      "text/plain": [
       "OrderedDict([('init', 1657558096.7291656),\n",
       "             ('load drivers', 1657558096.7601924),\n",
       "             ('start drivers', 1657558096.8457117),\n",
       "             ('run models', 1657558104.823025),\n",
       "             ('at exit', 1657558104.8310232)])"
      ]
     },
     "execution_count": 6,
     "metadata": {},
     "output_type": "execute_result"
    }
   ],
   "source": [
    "# Create a runner for the model, adjust the filepath for wherever the model is located\n",
    "runner = YggRunner(model_filepath)\n",
    "\n",
    "# Create the callback class and update the first tab with live information\n",
    "\n",
    "class VariableDisplay:\n",
    "    # We add in filler labels to overwrite with actual data later since it is automated\n",
    "    if len(ne.node_editor.nodes[0].display_element.children) <= 5:\n",
    "        for i in range(len(list(runner.connectiondrivers))):\n",
    "            ne.node_editor.nodes[0].display_element.children += (ipywidgets.Label(\"Initializing\"),)\n",
    "    \n",
    "    # The initialization will have the label from ipywidgets but also the name of the variable and it's order in the list\n",
    "    def __init__(self, elem_number, name):\n",
    "        self.label = ipywidgets.Label()\n",
    "        self.elem_number = elem_number\n",
    "        self.name = name\n",
    "    \n",
    "    # Display data will always show the relevant information taken from the dictionary itself and use the default dictionary key as it's name\n",
    "    # As of May 31st, 2022, the timesync bug still exists, so the time.sleep is necessary to see it run in realtime\n",
    "    # Otherwise, it still works as intended\n",
    "    # If you are only processing basic tings, you may opt to use the clean_bytes function with 'args[0].args' though it may be better to not use it as it may convolute the data being processed\n",
    "    def display_data(self, *args, **kwargs):\n",
    "        ne.node_editor.nodes[0].display_element.children[self.elem_number].value = f\"{self.name}: {args[0].args}\"\n",
    "        time.sleep(1)\n",
    "\n",
    "# We pull the exact drivers from the dictionary keys from the model itself here\n",
    "for i, v in enumerate(list(runner.connectiondrivers)):\n",
    "    display = VariableDisplay(i + 3, v.split(\":\")[1])\n",
    "    runner.connectiondrivers[v]['callbacks'] = [display.display_data]\n",
    "\n",
    "# Run the runner to see the data update in realtime\n",
    "runner.run()"
   ]
  },
  {
   "cell_type": "code",
   "execution_count": null,
   "id": "a582ed70-cbbd-47e3-9b40-125aa36b56c9",
   "metadata": {},
   "outputs": [],
   "source": []
  }
 ],
 "metadata": {
  "kernelspec": {
   "display_name": "yggJLNE",
   "language": "python",
   "name": "yggjlne"
  },
  "language_info": {
   "codemirror_mode": {
    "name": "ipython",
    "version": 3
   },
   "file_extension": ".py",
   "mimetype": "text/x-python",
   "name": "python",
   "nbconvert_exporter": "python",
   "pygments_lexer": "ipython3",
   "version": "3.8.12"
  }
 },
 "nbformat": 4,
 "nbformat_minor": 5
}
