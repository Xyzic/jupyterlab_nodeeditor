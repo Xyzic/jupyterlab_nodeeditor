{
 "cells": [
  {
   "cell_type": "code",
   "execution_count": 1,
   "id": "f7731c5b-be7d-44ac-9a6f-407bf360d08c",
   "metadata": {},
   "outputs": [],
   "source": [
    "import jupyterlab_nodeeditor as jlne\n",
    "from yggdrasil import yamlfile"
   ]
  },
  {
   "cell_type": "code",
   "execution_count": 34,
   "id": "7c3d30bc-dfcf-457f-9b36-58c15bc5208a",
   "metadata": {},
   "outputs": [],
   "source": [
    "filename = \"model_example.yml\"\n",
    "model_set = yamlfile.parse_yaml(filename, model_only=True)\n",
    "model_sets = jlne.parse_yggdrasil_yaml(\"model_example.yml\")\n",
    "\n",
    "schema = yamlfile.get_schema()\n",
    "socket_types = tuple(schema.form_schema['definitions']['schema']['definitions']['simpleTypes']['enum'])\n",
    "\n",
    "ne = jlne.NodeEditor(socket_types = socket_types)"
   ]
  },
  {
   "cell_type": "code",
   "execution_count": 35,
   "id": "72f3b87b-9600-433f-9bad-7e50c13b2357",
   "metadata": {
    "tags": []
   },
   "outputs": [],
   "source": [
    "ne.socket_types = ('Temperature', 'Rainfall', 'Delta Time', 'Results')"
   ]
  },
  {
   "cell_type": "code",
   "execution_count": 36,
   "id": "10fda49b-0568-45dd-ab6a-a64976b0a7eb",
   "metadata": {},
   "outputs": [],
   "source": [
    "ne.add_component(\n",
    "    {\"inputs\": [\n",
    "                {'title': 'Temperature Morning', 'key': 'temp1', 'socket_type': 'Temperature'},\n",
    "                {'title': 'Temperature Afternoon', 'key': 'temp2', 'socket_type': 'Temperature'},\n",
    "                {'title': 'Temperature Evening', 'key': 'temp3', 'socket_type': 'Temperature'}\n",
    "                ],\n",
    "     \"outputs\": [\n",
    "                {'title': 'Results', 'key': 'results', 'socket_type': 'Temperature'}\n",
    "                ],\n",
    "     \"title\": \"Temperature Averaging\"\n",
    "})"
   ]
  },
  {
   "cell_type": "code",
   "execution_count": 37,
   "id": "8210daa5-c592-4662-9e8a-95100895dcd8",
   "metadata": {},
   "outputs": [
    {
     "data": {
      "application/vnd.jupyter.widget-view+json": {
       "model_id": "",
       "version_major": 2,
       "version_minor": 0
      },
      "text/plain": [
       "HBox(children=(NodeEditorModel(selected_node=None), Tab()))"
      ]
     },
     "metadata": {},
     "output_type": "display_data"
    }
   ],
   "source": [
    "ne"
   ]
  },
  {
   "cell_type": "code",
   "execution_count": 28,
   "id": "150005ed-c743-469e-b0e9-4d0504c0123c",
   "metadata": {},
   "outputs": [],
   "source": [
    "# Children[0] is an ipywidget label\n",
    "# \"Inputs\" is a VBox as is \"Outputs\"\n",
    "ne.node_editor.nodes[0].display_element.children[0].value = \"Test 2\""
   ]
  },
  {
   "cell_type": "code",
   "execution_count": 45,
   "id": "99bb077e-9e3e-4f5d-ae1c-02a815b714a4",
   "metadata": {},
   "outputs": [],
   "source": [
    "import ipywidgets"
   ]
  },
  {
   "cell_type": "code",
   "execution_count": 46,
   "id": "a4cabf86-d642-49c1-886f-b649833541df",
   "metadata": {},
   "outputs": [],
   "source": [
    "slider = ipywidgets.IntSlider()"
   ]
  },
  {
   "cell_type": "code",
   "execution_count": 48,
   "id": "82e71626-c3d6-4fbc-8479-7ccabd980cf5",
   "metadata": {},
   "outputs": [],
   "source": [
    "ne.node_editor.nodes[0].display_element.children += (slider,)"
   ]
  },
  {
   "cell_type": "code",
   "execution_count": 49,
   "id": "e618356a-9761-484a-b534-8367acbfc62d",
   "metadata": {},
   "outputs": [],
   "source": [
    "slider.value = 10"
   ]
  },
  {
   "cell_type": "code",
   "execution_count": 50,
   "id": "3aae6e06-4702-4b30-b956-8893e5f7f778",
   "metadata": {},
   "outputs": [
    {
     "data": {
      "application/vnd.jupyter.widget-view+json": {
       "model_id": "aa1642c37395428c958ab6ee63bfef4d",
       "version_major": 2,
       "version_minor": 0
      },
      "text/plain": [
       "IntSlider(value=20)"
      ]
     },
     "metadata": {},
     "output_type": "display_data"
    }
   ],
   "source": [
    "slider"
   ]
  },
  {
   "cell_type": "code",
   "execution_count": 8,
   "id": "d2e1e844-67b7-4a3f-8d66-c14e3bbc2d93",
   "metadata": {},
   "outputs": [],
   "source": [
    "from yggdrasil.runner import YggRunner"
   ]
  },
  {
   "cell_type": "code",
   "execution_count": 9,
   "id": "b21035ec-8c99-4685-9ff9-0340b520a767",
   "metadata": {},
   "outputs": [],
   "source": [
    "runner = YggRunner(\"gs_lesson4/gs_lesson4_python.yml\")"
   ]
  },
  {
   "cell_type": "code",
   "execution_count": 10,
   "id": "55f47088-74af-4835-9654-3bec926a5807",
   "metadata": {},
   "outputs": [],
   "source": [
    "# runner.drivers"
   ]
  },
  {
   "cell_type": "code",
   "execution_count": 11,
   "id": "8de5f2eb-03ed-4f89-8581-b1803be1472c",
   "metadata": {},
   "outputs": [],
   "source": [
    "class Something:\n",
    "    val = 0\n",
    "    def update_label(self, *args, **kwargs):\n",
    "        ne.node_editor.nodes[0].display_element.children[0].value = f\"Hello {self.val}\"\n",
    "        self.val += 1\n",
    "s = Something()"
   ]
  },
  {
   "cell_type": "code",
   "execution_count": 12,
   "id": "dc19857f-e7db-4b58-bda7-2a009dc43159",
   "metadata": {},
   "outputs": [],
   "source": [
    "# runner.connectiondrivers"
   ]
  },
  {
   "cell_type": "code",
   "execution_count": 13,
   "id": "13e88e4b-bb72-452f-a5dc-b55b2a567cbf",
   "metadata": {},
   "outputs": [],
   "source": [
    "runner.connectiondrivers['python_modelA:outputA_to_python_modelB:inputB']['callbacks'] = [s.update_label]"
   ]
  },
  {
   "cell_type": "code",
   "execution_count": 14,
   "id": "a321f83c-b15d-4084-87c4-b8dd324777ba",
   "metadata": {},
   "outputs": [
    {
     "name": "stdout",
     "output_type": "stream",
     "text": [
      "INFO:16668:FortranModelDriver.before_registration[417]:The MSVC compiler could not be located. The Python C API assumes the MSVC CRT will be used on windows so there may be errors when accessing some behavior of the Python C API. In particular, segfaults are known to occur when trying to call display_python due to differences in the internal structure of FILE* objects between MSVC and other standards.\n",
      "INFO:16668:runner.startDrivers[800]:YggRunner(runner): Starting I/O drivers and models on system None in namespace yggdrasil with rank 0\n",
      "X:\\anaconda3\\envs\\yggJLNE\\python.exe X:\\College\\Grad School\\Research\\gc-Xyzic\\jupyterlab_nodeeditor\\examples\\gs_lesson4\\src\\gs_lesson4_modelA.py\n",
      "X:\\anaconda3\\envs\\yggJLNE\\python.exe X:\\College\\Grad School\\Research\\gc-Xyzic\\jupyterlab_nodeeditor\\examples\\gs_lesson4\\src\\gs_lesson4_modelB.py\n",
      "- b'Hello!\\n'\n",
      "+ b''\n",
      "- b'Hello!\\n'\n",
      "+ b''\n",
      "- b'Hello!\\n'\n",
      "+ b''\n",
      "- b'EOF!!!'\n",
      "+ b''\n",
      "- b'EOF!!!'\n",
      "+ b''\n",
      "+ b''\n",
      "- (b'YGG_MSG_HEAD{\"datatype\":{\"precision\":56,\"type\":\"bytes\",\"units\":\"\"},\"id\":\"62d'\n",
      "-  b'7e19f-c839-46c7-b75f-b957f379dbfd\",\"model\":\"python_modelA\",\"seritype\":\"defau'\n",
      "-  b'lt\",\"size\":16,\"typedef_base\":{\"type\":\"bytes\"},\"zmq_reply\":\"tcp://127.0.0.1:6'\n",
      "-  b'2657\"}YGG_MSG_HEAD\"SGVsbG8hCg==\\\\n\"')\n",
      "- b'Hello!\\n'\n",
      "+ b''\n",
      "- b'Hello!\\n'\n",
      "+ b''\n",
      "+ b''\n",
      "- (b'YGG_MSG_HEAD{\"datatype\":{\"precision\":56,\"type\":\"bytes\",\"units\":\"\"},\"id\":\"429'\n",
      "-  b'47b8f-5850-422c-a6ae-bd056678bd92\",\"seritype\":\"default\",\"size\":16,\"typedef_b'\n",
      "-  b'ase\":{\"type\":\"bytes\"},\"zmq_reply\":\"tcp://127.0.0.1:62627\"}YGG_MSG_HEAD\"SGVsb'\n",
      "-  b'G8hCg==\\\\n\"')\n",
      "- b'Hello!\\n'\n",
      "+ b''\n",
      "Model A: b'Hello!\\n'\n",
      "+ b''\n",
      "- (b'YGG_MSG_HEAD{\"id\":\"db26d4f7-1364-4c60-840d-cf0b78311f08\",\"raw\":true,\"serityp'\n",
      "-  b'e\":\"default\",\"size\":6,\"typedef_base\":{\"type\":\"bytes\"},\"zmq_reply\":\"tcp://127'\n",
      "-  b'.0.0.1:62627\"}YGG_MSG_HEADEOF!!!')\n",
      "Model A: No more input.\n",
      "+ b''\n",
      "- (b'YGG_MSG_HEAD{\"id\":\"7d40923e-4936-48c0-83a0-3685d2282f14\",\"model\":\"python_mod'\n",
      "-  b'elA\",\"raw\":true,\"seritype\":\"default\",\"size\":6,\"typedef_base\":{\"type\":\"bytes\"'\n",
      "-  b'},\"zmq_reply\":\"tcp://127.0.0.1:62657\"}YGG_MSG_HEADEOF!!!')\n",
      "+ b''\n",
      "- (b'YGG_MSG_HEAD{\"datatype\":{\"precision\":56,\"type\":\"bytes\",\"units\":\"\"},\"id\":\"266'\n",
      "-  b'08d7a-5975-4790-a6e6-8661fa9e16ac\",\"model\":\"python_modelB\",\"seritype\":\"defau'\n",
      "-  b'lt\",\"size\":16,\"typedef_base\":{\"type\":\"bytes\"},\"zmq_reply\":\"tcp://127.0.0.1:6'\n",
      "-  b'2675\"}YGG_MSG_HEAD\"SGVsbG8hCg==\\\\n\"')\n",
      "- b'Hello!\\n'\n",
      "+ b''\n",
      "- b'Hello!\\n'\n",
      "+ b''\n",
      "+ b''\n",
      "- (b'YGG_MSG_HEAD{\"datatype\":{\"precision\":56,\"type\":\"bytes\",\"units\":\"\"},\"id\":\"dc1'\n",
      "-  b'd750d-67aa-4bbe-808e-1d39060af55b\",\"model\":\"python_modelA\",\"seritype\":\"defau'\n",
      "-  b'lt\",\"size\":16,\"typedef_base\":{\"type\":\"bytes\"},\"zmq_reply\":\"tcp://127.0.0.1:6'\n",
      "-  b'2667\"}YGG_MSG_HEAD\"SGVsbG8hCg==\\\\n\"')\n",
      "- b'Hello!\\n'\n",
      "+ b''\n",
      "Model B: b'Hello!\\n'\n",
      "+ b''\n",
      "- (b'YGG_MSG_HEAD{\"id\":\"0d5f8c55-068f-4c55-8010-a2c3aaa6314d\",\"raw\":true,\"serityp'\n",
      "-  b'e\":\"default\",\"size\":6,\"typedef_base\":{\"type\":\"bytes\"},\"zmq_reply\":\"tcp://127'\n",
      "-  b'.0.0.1:62667\"}YGG_MSG_HEADEOF!!!')\n",
      "Model B: No more input.\n",
      "+ b''\n",
      "- (b'YGG_MSG_HEAD{\"id\":\"cd625de7-1000-4e55-85ad-6266476bbaba\",\"model\":\"python_mod'\n",
      "-  b'elB\",\"raw\":true,\"seritype\":\"default\",\"size\":6,\"typedef_base\":{\"type\":\"bytes\"'\n",
      "-  b'},\"zmq_reply\":\"tcp://127.0.0.1:62675\"}YGG_MSG_HEADEOF!!!')\n",
      "INFO:16668:runner.waitModels[867]:YggRunner(runner): python_modelB finished running.\n",
      "INFO:16668:runner.waitModels[873]:YggRunner(runner): python_modelB finished exiting.\n",
      "INFO:16668:runner.waitModels[867]:YggRunner(runner): python_modelA finished running.\n",
      "INFO:16668:runner.waitModels[873]:YggRunner(runner): python_modelA finished exiting.\n",
      "INFO:16668:runner.waitModels[887]:YggRunner(runner): All models completed\n",
      "INFO:16668:runner.run[446]:YggRunner(runner):                 init\t0.000000\n",
      "INFO:16668:runner.run[446]:YggRunner(runner):         load drivers\t0.246771\n",
      "INFO:16668:runner.run[446]:YggRunner(runner):        start drivers\t0.105488\n",
      "INFO:16668:runner.run[446]:YggRunner(runner):           run models\t4.170372\n",
      "INFO:16668:runner.run[446]:YggRunner(runner):              at exit\t0.004504\n",
      "INFO:16668:runner.run[448]:YggRunner(runner): ========================================\n",
      "INFO:16668:runner.run[449]:YggRunner(runner):                Total\t4.527135\n"
     ]
    },
    {
     "data": {
      "text/plain": [
       "OrderedDict([('init', 1641839308.4510243),\n",
       "             ('load drivers', 1641839308.6977956),\n",
       "             ('start drivers', 1641839308.8032837),\n",
       "             ('run models', 1641839312.9736557),\n",
       "             ('at exit', 1641839312.9781597)])"
      ]
     },
     "execution_count": 14,
     "metadata": {},
     "output_type": "execute_result"
    }
   ],
   "source": [
    "runner.run()"
   ]
  },
  {
   "cell_type": "code",
   "execution_count": null,
   "id": "b5c52789-7558-4c27-af18-cfb98b067a8b",
   "metadata": {},
   "outputs": [],
   "source": []
  }
 ],
 "metadata": {
  "kernelspec": {
   "display_name": "yggJLNE",
   "language": "python",
   "name": "yggjlne"
  },
  "language_info": {
   "codemirror_mode": {
    "name": "ipython",
    "version": 3
   },
   "file_extension": ".py",
   "mimetype": "text/x-python",
   "name": "python",
   "nbconvert_exporter": "python",
   "pygments_lexer": "ipython3",
   "version": "3.8.12"
  }
 },
 "nbformat": 4,
 "nbformat_minor": 5
}
