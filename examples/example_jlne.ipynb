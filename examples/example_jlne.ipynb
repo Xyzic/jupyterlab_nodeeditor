{
 "cells": [
  {
   "cell_type": "code",
   "execution_count": 1,
   "id": "split-december",
   "metadata": {},
   "outputs": [],
   "source": [
    "import jupyterlab_nodeeditor as jlne"
   ]
  },
  {
   "cell_type": "code",
   "execution_count": 2,
   "id": "shaped-amsterdam",
   "metadata": {},
   "outputs": [],
   "source": [
    "coll = jlne.SocketCollection(socket_types = ('Temperature', 'Rainfall', 'Delta Time', 'Results'))"
   ]
  },
  {
   "cell_type": "code",
   "execution_count": 3,
   "id": "0cde11a6-8936-404d-85a3-06248895a089",
   "metadata": {},
   "outputs": [],
   "source": [
    "in1 = jlne.InputSlot(title = \"Temperature Morning\", key = \"temp1\", socket_type = \"Temperature\", sockets = coll)\n",
    "in2 = jlne.InputSlot(title = \"Temperature Afternoon\", key = \"temp2\", socket_type = \"Temperature\", sockets = coll)\n",
    "in3 = jlne.InputSlot(title = \"Temperature Evening\", key = \"temp3\", socket_type = \"Temperature\", sockets = coll)"
   ]
  },
  {
   "cell_type": "code",
   "execution_count": 4,
   "id": "3c981b65-88e3-4f01-b679-4862e86135bf",
   "metadata": {},
   "outputs": [],
   "source": [
    "out1 = jlne.OutputSlot(title = \"Average Temperature\", key = \"avg_temp\", socket_type=\"Temperature\", sockets = coll)"
   ]
  },
  {
   "cell_type": "code",
   "execution_count": 5,
   "id": "ba28ba98-6398-43de-aead-e4bdf7f3f675",
   "metadata": {},
   "outputs": [],
   "source": [
    "in4 = jlne.InputSlot(title = \"Daily Rainfall\", key=\"rainfall\", socket_type=\"Rainfall\", sockets=coll)\n",
    "in5 = jlne.InputSlot(title = \"Daily Temperature\", key=\"temp\", socket_type=\"Temperature\", sockets=coll)\n",
    "in6 = jlne.InputSlot(title = \"Time at Sunrise\", key=\"time\", socket_type=\"Delta Time\", sockets=coll)\n",
    "out2 = jlne.OutputSlot(title = \"Results\", key=\"results\", socket_type=\"Results\", sockets=coll)"
   ]
  },
  {
   "cell_type": "code",
   "execution_count": 6,
   "id": "7a974a1b-fdf7-474b-881d-d8b7f7d6c1e2",
   "metadata": {},
   "outputs": [],
   "source": [
    "c1 = jlne.Component(sockets=coll, inputs = [in1, in2, in3], outputs = [out1], title=\"Temperature Averaging\")\n",
    "c2 = jlne.Component(sockets=coll, inputs = [in4, in5, in6], outputs = [out2], title=\"My Model\")"
   ]
  },
  {
   "cell_type": "code",
   "execution_count": 7,
   "id": "comprehensive-advertiser",
   "metadata": {},
   "outputs": [],
   "source": [
    "editor = jlne.NodeEditorModel()"
   ]
  },
  {
   "cell_type": "code",
   "execution_count": 8,
   "id": "aquatic-hormone",
   "metadata": {},
   "outputs": [],
   "source": [
    "editor.add_component(c1)"
   ]
  },
  {
   "cell_type": "code",
   "execution_count": 9,
   "id": "192a320d-9aec-4f16-a56d-e6bd3e6d8181",
   "metadata": {},
   "outputs": [],
   "source": [
    "editor.add_component(c2)"
   ]
  },
  {
   "cell_type": "code",
   "execution_count": 10,
   "id": "indirect-venture",
   "metadata": {},
   "outputs": [
    {
     "data": {
      "application/vnd.jupyter.widget-view+json": {
       "model_id": "d4441418d5184c698e3949d6b4ce29f8",
       "version_major": 2,
       "version_minor": 0
      },
      "text/plain": [
       "NodeEditorModel(selected_node=None)"
      ]
     },
     "metadata": {},
     "output_type": "display_data"
    }
   ],
   "source": [
    "display(editor)"
   ]
  },
  {
   "cell_type": "code",
   "execution_count": 22,
   "id": "e8ec7c3d-3c0b-47e4-bac1-e3d5242aca89",
   "metadata": {},
   "outputs": [],
   "source": [
    "editor.sync_config()"
   ]
  },
  {
   "cell_type": "code",
   "execution_count": 23,
   "id": "46fc7e53-2820-4518-92b5-743725eb32cf",
   "metadata": {},
   "outputs": [
    {
     "data": {
      "text/plain": [
       "{'c8f9e12c-7b2b-40a4-8188-a59aea9da375': {'id': 'jupyterlab_nodeeditor@0.1.0',\n",
       "  'nodes': {'1': {'id': 1,\n",
       "    'data': {},\n",
       "    'inputs': {'temp1': {'connections': []},\n",
       "     'temp2': {'connections': []},\n",
       "     'temp3': {'connections': []}},\n",
       "    'outputs': {'avg_temp': {'connections': []}},\n",
       "    'position': [63.93717616199244, 5.834208764688086],\n",
       "    'name': 'Temperature Averaging'},\n",
       "   '2': {'id': 2,\n",
       "    'data': {},\n",
       "    'inputs': {'temp1': {'connections': []},\n",
       "     'temp2': {'connections': []},\n",
       "     'temp3': {'connections': []}},\n",
       "    'outputs': {'avg_temp': {'connections': []}},\n",
       "    'position': [517.0426183092314, -13.217566963363145],\n",
       "    'name': 'Temperature Averaging'},\n",
       "   '3': {'id': 3,\n",
       "    'data': {},\n",
       "    'inputs': {'rainfall': {'connections': []},\n",
       "     'temp': {'connections': []},\n",
       "     'time': {'connections': []}},\n",
       "    'outputs': {'results': {'connections': []}},\n",
       "    'position': [453.0625, 205],\n",
       "    'name': 'My Model'}}}}"
      ]
     },
     "execution_count": 23,
     "metadata": {},
     "output_type": "execute_result"
    }
   ],
   "source": [
    "editor.editorConfig"
   ]
  },
  {
   "cell_type": "code",
   "execution_count": 13,
   "id": "b778ff09-65ea-436b-b4af-b2f6a5c50ec0",
   "metadata": {},
   "outputs": [
    {
     "data": {
      "text/plain": [
       "('Temperature', 'Rainfall', 'Delta Time', 'Results')"
      ]
     },
     "execution_count": 13,
     "metadata": {},
     "output_type": "execute_result"
    }
   ],
   "source": [
    "coll.socket_types"
   ]
  },
  {
   "cell_type": "code",
   "execution_count": null,
   "id": "ba91cfd9-e7dc-4401-84f9-5a747f097503",
   "metadata": {},
   "outputs": [],
   "source": []
  }
 ],
 "metadata": {
  "kernelspec": {
   "display_name": "yggJLNE",
   "language": "python",
   "name": "yggjlne"
  },
  "language_info": {
   "codemirror_mode": {
    "name": "ipython",
    "version": 3
   },
   "file_extension": ".py",
   "mimetype": "text/x-python",
   "name": "python",
   "nbconvert_exporter": "python",
   "pygments_lexer": "ipython3",
   "version": "3.8.12"
  }
 },
 "nbformat": 4,
 "nbformat_minor": 5
}
