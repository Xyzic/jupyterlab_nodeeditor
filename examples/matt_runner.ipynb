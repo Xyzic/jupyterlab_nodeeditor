{
 "cells": [
  {
   "cell_type": "code",
   "execution_count": 17,
   "id": "f7731c5b-be7d-44ac-9a6f-407bf360d08c",
   "metadata": {},
   "outputs": [],
   "source": [
    "import jupyterlab_nodeeditor as jlne\n",
    "from yggdrasil import yamlfile"
   ]
  },
  {
   "cell_type": "code",
   "execution_count": 18,
   "id": "7c3d30bc-dfcf-457f-9b36-58c15bc5208a",
   "metadata": {},
   "outputs": [],
   "source": [
    "filename = \"model_example.yml\"\n",
    "model_set = yamlfile.parse_yaml(filename, model_only=True)\n",
    "\n",
    "schema = yamlfile.get_schema()\n",
    "socket_types = tuple(schema.form_schema['definitions']['schema']['definitions']['simpleTypes']['enum'])\n",
    "\n",
    "ne = jlne.NodeEditor(socket_types = socket_types)"
   ]
  },
  {
   "cell_type": "code",
   "execution_count": 19,
   "id": "8210daa5-c592-4662-9e8a-95100895dcd8",
   "metadata": {},
   "outputs": [
    {
     "data": {
      "application/vnd.jupyter.widget-view+json": {
       "model_id": "e6e0eb339eb7465ebdad24c8d9237f43",
       "version_major": 2,
       "version_minor": 0
      },
      "text/plain": [
       "HBox(children=(NodeEditorModel(selected_node=None), Tab()))"
      ]
     },
     "metadata": {},
     "output_type": "display_data"
    }
   ],
   "source": [
    "ne"
   ]
  },
  {
   "cell_type": "code",
   "execution_count": 20,
   "id": "150005ed-c743-469e-b0e9-4d0504c0123c",
   "metadata": {},
   "outputs": [
    {
     "data": {
      "text/plain": [
       "'Empty Title'"
      ]
     },
     "execution_count": 20,
     "metadata": {},
     "output_type": "execute_result"
    }
   ],
   "source": [
    "ne.node_editor.nodes[0].display_element.children[0].value"
   ]
  },
  {
   "cell_type": "code",
   "execution_count": 21,
   "id": "d2e1e844-67b7-4a3f-8d66-c14e3bbc2d93",
   "metadata": {},
   "outputs": [],
   "source": [
    "from yggdrasil.runner import YggRunner"
   ]
  },
  {
   "cell_type": "code",
   "execution_count": 22,
   "id": "b21035ec-8c99-4685-9ff9-0340b520a767",
   "metadata": {},
   "outputs": [],
   "source": [
    "runner = YggRunner(\"testing_ignore/test.yml\")"
   ]
  },
  {
   "cell_type": "code",
   "execution_count": 23,
   "id": "55f47088-74af-4835-9654-3bec926a5807",
   "metadata": {},
   "outputs": [],
   "source": [
    "# runner.drivers"
   ]
  },
  {
   "cell_type": "code",
   "execution_count": 24,
   "id": "8de5f2eb-03ed-4f89-8581-b1803be1472c",
   "metadata": {},
   "outputs": [],
   "source": [
    "class Something:\n",
    "    val = 0\n",
    "    def update_label(self, *args, **kwargs):\n",
    "        ne.node_editor.nodes[0].display_element.children[0].value = f\"Hello {self.val} - here I am\"\n",
    "        self.val += 1\n",
    "s = Something()"
   ]
  },
  {
   "cell_type": "code",
   "execution_count": 25,
   "id": "dc19857f-e7db-4b58-bda7-2a009dc43159",
   "metadata": {},
   "outputs": [],
   "source": [
    "# runner.connectiondrivers"
   ]
  },
  {
   "cell_type": "code",
   "execution_count": 31,
   "id": "13e88e4b-bb72-452f-a5dc-b55b2a567cbf",
   "metadata": {},
   "outputs": [],
   "source": [
    "runner.connectiondrivers['python_modelA:outputA_to_python_modelB:inputB']['callbacks'] = [s.update_label]"
   ]
  },
  {
   "cell_type": "code",
   "execution_count": 32,
   "id": "a321f83c-b15d-4084-87c4-b8dd324777ba",
   "metadata": {},
   "outputs": [
    {
     "name": "stdout",
     "output_type": "stream",
     "text": [
      "INFO:21644:runner.startDrivers[800]:YggRunner(runner): Starting I/O drivers and models on system None in namespace yggdrasil with rank 0\n",
      "- b'Hello!'\n",
      "+ b''\n",
      "- b'Hello!'\n",
      "+ b''\n",
      "- b'Hello!'\n",
      "+ b''\n",
      "- b'EOF!!!'\n",
      "+ b''\n",
      "X:\\anaconda3\\envs\\yggJLNE\\python.exe X:\\College\\Grad School\\Research\\gc-Xyzic\\jupyterlab_nodeeditor\\examples\\testing_ignore\\modelA.py\n",
      "X:\\anaconda3\\envs\\yggJLNE\\python.exe X:\\College\\Grad School\\Research\\gc-Xyzic\\jupyterlab_nodeeditor\\examples\\testing_ignore\\modelB.py\n",
      "+ b''\n",
      "- (b'YGG_MSG_HEAD{\"datatype\":{\"precision\":48,\"type\":\"bytes\",\"units\":\"\"},\"id\":\"ea9'\n",
      "-  b'db823-dcc9-4b33-972a-a6bb8a3c2c86\",\"model\":\"python_modelA\",\"seritype\":\"defau'\n",
      "-  b'lt\",\"size\":12,\"typedef_base\":{\"type\":\"bytes\"},\"zmq_reply\":\"tcp://127.0.0.1:6'\n",
      "-  b'2544\"}YGG_MSG_HEAD\"SGVsbG8h\\\\n\"')\n",
      "- b'Hello!'\n",
      "+ b''\n",
      "- b'Hello!'\n",
      "+ b''\n",
      "+ b''\n",
      "- (b'YGG_MSG_HEAD{\"datatype\":{\"precision\":48,\"type\":\"bytes\",\"units\":\"\"},\"id\":\"d81'\n",
      "-  b'ab838-5301-4dbf-a02c-7ef3d0563b6a\",\"seritype\":\"default\",\"size\":12,\"typedef_b'\n",
      "-  b'ase\":{\"type\":\"bytes\"},\"zmq_reply\":\"tcp://127.0.0.1:62510\"}YGG_MSG_HEAD\"SGVsb'\n",
      "-  b'G8h\\\\n\"')\n",
      "- b'Hello!'\n",
      "+ b''\n",
      "Model A: b'Hello!'\n",
      "+ b''\n",
      "- (b'YGG_MSG_HEAD{\"id\":\"deb43d2f-0770-48b3-bf7a-5ef4c100127c\",\"raw\":true,\"serityp'\n",
      "-  b'e\":\"default\",\"size\":6,\"typedef_base\":{\"type\":\"bytes\"},\"zmq_reply\":\"tcp://127'\n",
      "-  b'.0.0.1:62510\"}YGG_MSG_HEADEOF!!!')\n",
      "Model A: No more input.\n",
      "+ b''\n",
      "- (b'YGG_MSG_HEAD{\"id\":\"9ef5017d-0ff6-411f-b308-9d7f4188652e\",\"model\":\"python_mod'\n",
      "-  b'elA\",\"raw\":true,\"seritype\":\"default\",\"size\":6,\"typedef_base\":{\"type\":\"bytes\"'\n",
      "-  b'},\"zmq_reply\":\"tcp://127.0.0.1:62544\"}YGG_MSG_HEADEOF!!!')\n",
      "+ b''\n",
      "- (b'YGG_MSG_HEAD{\"datatype\":{\"precision\":48,\"type\":\"bytes\",\"units\":\"\"},\"id\":\"f47'\n",
      "-  b'9c2a3-d4d7-4d73-84c3-bd8b683c313c\",\"model\":\"python_modelB\",\"seritype\":\"defau'\n",
      "-  b'lt\",\"size\":12,\"typedef_base\":{\"type\":\"bytes\"},\"zmq_reply\":\"tcp://127.0.0.1:6'\n",
      "-  b'2562\"}YGG_MSG_HEAD\"SGVsbG8h\\\\n\"')\n",
      "- b'Hello!'\n",
      "+ b''\n",
      "- b'Hello!'\n",
      "+ b''\n",
      "+ b''\n",
      "- (b'YGG_MSG_HEAD{\"datatype\":{\"precision\":48,\"type\":\"bytes\",\"units\":\"\"},\"id\":\"d5a'\n",
      "-  b'c9e56-e965-451a-ae93-c45ff009ca89\",\"model\":\"python_modelA\",\"seritype\":\"defau'\n",
      "-  b'lt\",\"size\":12,\"typedef_base\":{\"type\":\"bytes\"},\"zmq_reply\":\"tcp://127.0.0.1:6'\n",
      "-  b'2554\"}YGG_MSG_HEAD\"SGVsbG8h\\\\n\"')\n",
      "- b'Hello!'\n",
      "+ b''\n",
      "Model B: b'Hello!'\n",
      "+ b''\n",
      "- (b'YGG_MSG_HEAD{\"id\":\"63a4972e-46ff-4f08-84e3-b857bfd226fa\",\"raw\":true,\"serityp'\n",
      "-  b'e\":\"default\",\"size\":6,\"typedef_base\":{\"type\":\"bytes\"},\"zmq_reply\":\"tcp://127'\n",
      "-  b'.0.0.1:62554\"}YGG_MSG_HEADEOF!!!')\n",
      "Model B: No more input.\n",
      "+ b''\n",
      "- (b'YGG_MSG_HEAD{\"id\":\"ed6ccbe8-1155-4057-ba51-b0cdd73b8902\",\"model\":\"python_mod'\n",
      "-  b'elB\",\"raw\":true,\"seritype\":\"default\",\"size\":6,\"typedef_base\":{\"type\":\"bytes\"'\n",
      "-  b'},\"zmq_reply\":\"tcp://127.0.0.1:62562\"}YGG_MSG_HEADEOF!!!')\n",
      "INFO:21644:runner.waitModels[867]:YggRunner(runner): python_modelB finished running.\n",
      "INFO:21644:runner.waitModels[873]:YggRunner(runner): python_modelB finished exiting.\n",
      "INFO:21644:runner.waitModels[867]:YggRunner(runner): python_modelA finished running.\n",
      "INFO:21644:runner.waitModels[873]:YggRunner(runner): python_modelA finished exiting.\n",
      "INFO:21644:runner.waitModels[887]:YggRunner(runner): All models completed\n",
      "INFO:21644:runner.run[446]:YggRunner(runner):                 init\t0.000000\n",
      "INFO:21644:runner.run[446]:YggRunner(runner):         load drivers\t0.028524\n",
      "INFO:21644:runner.run[446]:YggRunner(runner):        start drivers\t0.060552\n",
      "INFO:21644:runner.run[446]:YggRunner(runner):           run models\t4.075757\n",
      "INFO:21644:runner.run[446]:YggRunner(runner):              at exit\t0.004505\n",
      "INFO:21644:runner.run[448]:YggRunner(runner): ========================================\n",
      "INFO:21644:runner.run[449]:YggRunner(runner):                Total\t4.169338\n"
     ]
    },
    {
     "data": {
      "text/plain": [
       "OrderedDict([('init', 1644955248.2202697),\n",
       "             ('load drivers', 1644955248.248794),\n",
       "             ('start drivers', 1644955248.3093457),\n",
       "             ('run models', 1644955252.3851025),\n",
       "             ('at exit', 1644955252.3896077)])"
      ]
     },
     "execution_count": 32,
     "metadata": {},
     "output_type": "execute_result"
    }
   ],
   "source": [
    "runner.run()"
   ]
  },
  {
   "cell_type": "code",
   "execution_count": null,
   "id": "b5c52789-7558-4c27-af18-cfb98b067a8b",
   "metadata": {},
   "outputs": [],
   "source": []
  }
 ],
 "metadata": {
  "kernelspec": {
   "display_name": "yggJLNE",
   "language": "python",
   "name": "yggjlne"
  },
  "language_info": {
   "codemirror_mode": {
    "name": "ipython",
    "version": 3
   },
   "file_extension": ".py",
   "mimetype": "text/x-python",
   "name": "python",
   "nbconvert_exporter": "python",
   "pygments_lexer": "ipython3",
   "version": "3.8.12"
  }
 },
 "nbformat": 4,
 "nbformat_minor": 5
}
