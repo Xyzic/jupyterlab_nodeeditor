{
 "cells": [
  {
   "cell_type": "code",
   "execution_count": 1,
   "id": "956283b2-1333-4c6c-9771-7a8dcd1916f6",
   "metadata": {},
   "outputs": [],
   "source": [
    "import yaml\n",
    "from yggdrasil.examples import yamls as ex_yamls\n",
    "import jupyterlab_nodeeditor as jlne"
   ]
  },
  {
   "cell_type": "code",
   "execution_count": 2,
   "id": "d2fba6d6-70d1-4d43-8a39-e45c2fe0ae55",
   "metadata": {},
   "outputs": [],
   "source": [
    "# Improved version of making a JLNE-compliant dictionary from a Yggdrasil Model YAML\n",
    "# Still semi-hard coded for the Photosynthesis model\n",
    "# TO-DO : Make more robust, Test on custom models\n",
    "def dict_conversion(model_dict):\n",
    "    # Setup initial dictionary to be filled\n",
    "    new_dict, new_dict[\"inputs\"], new_dict[\"outputs\"], new_dict[\"title\"] = {}, [], [], model_dict[\"name\"]\n",
    "    \n",
    "    # Fill in the Inputs\n",
    "    for i, inp in enumerate(model_dict[\"inputs\"]):\n",
    "        new_dict[\"inputs\"].append({'title': inp[\"name\"], 'key': \"temp_in\" + str(i), 'socket_type': inp[\"default_file\"][\"filetype\"]})\n",
    "        \n",
    "    # Fill in the Outputs, same as inputs with name changes\n",
    "    for o, out in enumerate(model_dict[\"outputs\"]):\n",
    "        new_dict[\"outputs\"].append({'title': out[\"name\"], 'key': \"temp_out\" + str(o), 'socket_type': out[\"default_file\"][\"filetype\"]})\n",
    "           \n",
    "    return new_dict\n",
    "\n",
    "# Tesing Code\n",
    "# By default, load the photosynthesis model\n",
    "# ps - Node Editor instance that it is added to, default blank\n",
    "# TO-DO :\n",
    "# Add more tests and update as custom models are built\n",
    "# This section should just be pulled from the join script yggdrasil_tester.py\n",
    "def load_example(ps = None):\n",
    "    with open(ex_yamls['fakeplant']['python'], \"r\") as test_model:\n",
    "        photosynthesis_model = yaml.safe_load(test_model)['model']\n",
    "        \n",
    "    ps = ps or jlne.NodeEditor()\n",
    "    ps.add_component(dict_conversion(photosynthesis_model))\n",
    "    return ps"
   ]
  },
  {
   "cell_type": "code",
   "execution_count": 3,
   "id": "a0a27f8b-4e80-4469-8117-e1f034a4f5f2",
   "metadata": {},
   "outputs": [
    {
     "name": "stdout",
     "output_type": "stream",
     "text": [
      "{'name': 'PhotosynthesisModel', 'language': 'python', 'args': './src/photosynthesis.py', 'inputs': [{'name': 'light_intensity', 'default_file': {'name': './Input/light_intensity.txt', 'filetype': 'table'}}, {'name': 'temperature', 'default_file': {'name': './Input/temperature.txt', 'filetype': 'table'}}, {'name': 'co2', 'default_file': {'name': './Input/co2.txt', 'filetype': 'table'}}], 'outputs': [{'name': 'photosynthesis_rate', 'default_file': {'name': './Output/photosynthesis_rate.txt', 'filetype': 'table', 'field_names': 'photosynthesis_rate'}}]}\n"
     ]
    },
    {
     "data": {
      "application/vnd.jupyter.widget-view+json": {
       "model_id": "6217ec666a6f45a7bb14ba2fe07cf79c",
       "version_major": 2,
       "version_minor": 0
      },
      "text/plain": [
       "HBox(children=(NodeEditorModel(selected_node=None), Tab()))"
      ]
     },
     "metadata": {},
     "output_type": "display_data"
    }
   ],
   "source": [
    "load_example()"
   ]
  },
  {
   "cell_type": "code",
   "execution_count": null,
   "id": "2e21e130-108c-489f-a047-ad9a7db686ec",
   "metadata": {},
   "outputs": [],
   "source": []
  }
 ],
 "metadata": {
  "kernelspec": {
   "display_name": "yggJLNE",
   "language": "python",
   "name": "yggjlne"
  },
  "language_info": {
   "codemirror_mode": {
    "name": "ipython",
    "version": 3
   },
   "file_extension": ".py",
   "mimetype": "text/x-python",
   "name": "python",
   "nbconvert_exporter": "python",
   "pygments_lexer": "ipython3",
   "version": "3.8.12"
  }
 },
 "nbformat": 4,
 "nbformat_minor": 5
}
