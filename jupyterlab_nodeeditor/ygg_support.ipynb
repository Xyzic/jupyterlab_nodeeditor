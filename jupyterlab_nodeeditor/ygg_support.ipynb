{
 "cells": [
  {
   "cell_type": "code",
   "execution_count": 1,
   "id": "6ec1ab00-11f9-4bf9-83fc-33782afc3165",
   "metadata": {},
   "outputs": [],
   "source": [
    "from yggdrasil.examples import yamls as ex_yamls\n",
    "import yaml\n",
    "import jupyterlab_nodeeditor as jlne\n",
    "import pytest"
   ]
  },
  {
   "cell_type": "code",
   "execution_count": 3,
   "id": "aac6287f-5455-40d2-bcb1-e5a59f8baf54",
   "metadata": {},
   "outputs": [],
   "source": [
    "# Improved version of making a JLNE-compliant dictionary from a Yggdrasil Model YAML\n",
    "# Still semi-hard coded for the Photosynthesis model\n",
    "# TO-DO : Make more robust, Test on custom models 1-3\n",
    "def dict_conversion(model_dict):\n",
    "    # Setup initial dictionary to be filled\n",
    "    new_dict, new_dict[\"inputs\"], new_dict[\"outputs\"],  = {}, [], [], model_dict[\"name\"]\n",
    "    # If the type of the safe load is a dictionary, we know it is a single model\n",
    "    # If it is a list, then we have multiple models\n",
    "    new_dict[\"title\"]\n",
    "    \n",
    "    # Fill in the Inputs\n",
    "    for i, inp in enumerate(model_dict[\"inputs\"]):\n",
    "        new_dict[\"inputs\"].append({'title': inp[\"name\"], 'key': \"temp_in\" + str(i), 'socket_type': inp[\"default_file\"][\"filetype\"]})\n",
    "        \n",
    "    # Fill in the Outputs, same as inputs with name changes\n",
    "    for o, out in enumerate(model_dict[\"outputs\"]):\n",
    "        new_dict[\"outputs\"].append({'title': out[\"name\"], 'key': \"temp_out\" + str(o), 'socket_type': out[\"default_file\"][\"filetype\"]})\n",
    "           \n",
    "    return new_dict"
   ]
  },
  {
   "cell_type": "code",
   "execution_count": 22,
   "id": "ce3806a4-2db1-486a-a7f3-0bc487f079ee",
   "metadata": {},
   "outputs": [],
   "source": [
    "# By default, load the photosynthesis model\n",
    "# ps - Node Editor instance that it is added to, default blank\n",
    "def load_example(ps = None):\n",
    "    with open(ex_yamls['fakeplant']['python'], \"r\") as test_model:\n",
    "        photosynthesis_model = yaml.safe_load(test_model)['model']\n",
    "        \n",
    "    print(type(photosynthesis_model))\n",
    "    ps = ps or jlne.NodeEditor()\n",
    "    \n",
    "    # Add in the converted dictionary of the photosynthesis model\n",
    "    ps.add_component(dict_conversion(photosynthesis_model))\n",
    "    return ps"
   ]
  },
  {
   "cell_type": "code",
   "execution_count": 23,
   "id": "1d955c56-78fd-4872-a867-b2f4abc7085d",
   "metadata": {},
   "outputs": [
    {
     "name": "stdout",
     "output_type": "stream",
     "text": [
      "<class 'dict'>\n"
     ]
    },
    {
     "data": {
      "application/vnd.jupyter.widget-view+json": {
       "model_id": "d495456e4e084e9fbd5d0e9dfa4c22b9",
       "version_major": 2,
       "version_minor": 0
      },
      "text/plain": [
       "HBox(children=(NodeEditorModel(selected_node=None), Tab()))"
      ]
     },
     "metadata": {},
     "output_type": "display_data"
    }
   ],
   "source": [
    "load_example()"
   ]
  },
  {
   "cell_type": "code",
   "execution_count": 5,
   "id": "2a3e5246-dc6d-4012-ad31-b57d5eb77340",
   "metadata": {},
   "outputs": [],
   "source": [
    "# Testing Functions\n",
    "\n",
    "# The first test is just to visually ensure that the model appears in the node editor instance\n",
    "# This is NOT an explicit function\n",
    "# Look for Inputs, Outputs, and a proper title\n",
    "\n",
    "# Test 2 : Verify Editor instance w output\n",
    "# This is done with JLNE's built in class methods of calling a unique editor instance with the models\n",
    "def test_instance(test_editor):\n",
    "    expected_editor = jlne.NodeEditor()\n",
    "    assert test_editor == expected_editor\n",
    "\n",
    "# Test 3 : Blank\n",
    "\n",
    "\n"
   ]
  },
  {
   "cell_type": "code",
   "execution_count": 30,
   "id": "92c23e1d-bf76-43e0-b1d1-7fbe53f2d83e",
   "metadata": {},
   "outputs": [],
   "source": [
    "def load_model(ps = None):\n",
    "    with open(\"sample_models/sample_2.yml\", \"r\") as sample:\n",
    "        sample_model = yaml.safe_load(sample)[\"model\"]\n",
    "    print(type(sample_model))\n",
    "    ps = ps or jlne.NodeEditor()\n",
    "    ps.add_component(dict_conversion(sample_model))\n",
    "    return ps"
   ]
  },
  {
   "cell_type": "code",
   "execution_count": 31,
   "id": "b67f13f0-c4bc-4fbd-9185-8f646b4fc2a7",
   "metadata": {},
   "outputs": [
    {
     "name": "stdout",
     "output_type": "stream",
     "text": [
      "<class 'dict'>\n"
     ]
    },
    {
     "ename": "KeyError",
     "evalue": "'inputs'",
     "output_type": "error",
     "traceback": [
      "\u001b[1;31m---------------------------------------------------------------------------\u001b[0m",
      "\u001b[1;31mKeyError\u001b[0m                                  Traceback (most recent call last)",
      "\u001b[1;32m<ipython-input-31-744a9b9f8d13>\u001b[0m in \u001b[0;36m<module>\u001b[1;34m\u001b[0m\n\u001b[1;32m----> 1\u001b[1;33m \u001b[0mload_model\u001b[0m\u001b[1;33m(\u001b[0m\u001b[1;33m)\u001b[0m\u001b[1;33m\u001b[0m\u001b[1;33m\u001b[0m\u001b[0m\n\u001b[0m",
      "\u001b[1;32m<ipython-input-30-4c3915f432ec>\u001b[0m in \u001b[0;36mload_model\u001b[1;34m(ps)\u001b[0m\n\u001b[0;32m      4\u001b[0m     \u001b[0mprint\u001b[0m\u001b[1;33m(\u001b[0m\u001b[0mtype\u001b[0m\u001b[1;33m(\u001b[0m\u001b[0msample_model\u001b[0m\u001b[1;33m)\u001b[0m\u001b[1;33m)\u001b[0m\u001b[1;33m\u001b[0m\u001b[1;33m\u001b[0m\u001b[0m\n\u001b[0;32m      5\u001b[0m     \u001b[0mps\u001b[0m \u001b[1;33m=\u001b[0m \u001b[0mps\u001b[0m \u001b[1;32mor\u001b[0m \u001b[0mjlne\u001b[0m\u001b[1;33m.\u001b[0m\u001b[0mNodeEditor\u001b[0m\u001b[1;33m(\u001b[0m\u001b[1;33m)\u001b[0m\u001b[1;33m\u001b[0m\u001b[1;33m\u001b[0m\u001b[0m\n\u001b[1;32m----> 6\u001b[1;33m     \u001b[0mps\u001b[0m\u001b[1;33m.\u001b[0m\u001b[0madd_component\u001b[0m\u001b[1;33m(\u001b[0m\u001b[0mdict_conversion\u001b[0m\u001b[1;33m(\u001b[0m\u001b[0msample_model\u001b[0m\u001b[1;33m)\u001b[0m\u001b[1;33m)\u001b[0m\u001b[1;33m\u001b[0m\u001b[1;33m\u001b[0m\u001b[0m\n\u001b[0m\u001b[0;32m      7\u001b[0m     \u001b[1;32mreturn\u001b[0m \u001b[0mps\u001b[0m\u001b[1;33m\u001b[0m\u001b[1;33m\u001b[0m\u001b[0m\n",
      "\u001b[1;32m<ipython-input-3-fe4763becf5b>\u001b[0m in \u001b[0;36mdict_conversion\u001b[1;34m(model_dict)\u001b[0m\n\u001b[0;32m      7\u001b[0m \u001b[1;33m\u001b[0m\u001b[0m\n\u001b[0;32m      8\u001b[0m     \u001b[1;31m# Fill in the Inputs\u001b[0m\u001b[1;33m\u001b[0m\u001b[1;33m\u001b[0m\u001b[1;33m\u001b[0m\u001b[0m\n\u001b[1;32m----> 9\u001b[1;33m     \u001b[1;32mfor\u001b[0m \u001b[0mi\u001b[0m\u001b[1;33m,\u001b[0m \u001b[0minp\u001b[0m \u001b[1;32min\u001b[0m \u001b[0menumerate\u001b[0m\u001b[1;33m(\u001b[0m\u001b[0mmodel_dict\u001b[0m\u001b[1;33m[\u001b[0m\u001b[1;34m\"inputs\"\u001b[0m\u001b[1;33m]\u001b[0m\u001b[1;33m)\u001b[0m\u001b[1;33m:\u001b[0m\u001b[1;33m\u001b[0m\u001b[1;33m\u001b[0m\u001b[0m\n\u001b[0m\u001b[0;32m     10\u001b[0m         \u001b[0mnew_dict\u001b[0m\u001b[1;33m[\u001b[0m\u001b[1;34m\"inputs\"\u001b[0m\u001b[1;33m]\u001b[0m\u001b[1;33m.\u001b[0m\u001b[0mappend\u001b[0m\u001b[1;33m(\u001b[0m\u001b[1;33m{\u001b[0m\u001b[1;34m'title'\u001b[0m\u001b[1;33m:\u001b[0m \u001b[0minp\u001b[0m\u001b[1;33m[\u001b[0m\u001b[1;34m\"name\"\u001b[0m\u001b[1;33m]\u001b[0m\u001b[1;33m,\u001b[0m \u001b[1;34m'key'\u001b[0m\u001b[1;33m:\u001b[0m \u001b[1;34m\"temp_in\"\u001b[0m \u001b[1;33m+\u001b[0m \u001b[0mstr\u001b[0m\u001b[1;33m(\u001b[0m\u001b[0mi\u001b[0m\u001b[1;33m)\u001b[0m\u001b[1;33m,\u001b[0m \u001b[1;34m'socket_type'\u001b[0m\u001b[1;33m:\u001b[0m \u001b[0minp\u001b[0m\u001b[1;33m[\u001b[0m\u001b[1;34m\"default_file\"\u001b[0m\u001b[1;33m]\u001b[0m\u001b[1;33m[\u001b[0m\u001b[1;34m\"filetype\"\u001b[0m\u001b[1;33m]\u001b[0m\u001b[1;33m}\u001b[0m\u001b[1;33m)\u001b[0m\u001b[1;33m\u001b[0m\u001b[1;33m\u001b[0m\u001b[0m\n\u001b[0;32m     11\u001b[0m \u001b[1;33m\u001b[0m\u001b[0m\n",
      "\u001b[1;31mKeyError\u001b[0m: 'inputs'"
     ]
    }
   ],
   "source": [
    "load_model()"
   ]
  },
  {
   "cell_type": "code",
   "execution_count": null,
   "id": "e3e5e8a0-60d7-4013-95af-932d59547727",
   "metadata": {},
   "outputs": [],
   "source": []
  }
 ],
 "metadata": {
  "kernelspec": {
   "display_name": "yggJLNE",
   "language": "python",
   "name": "yggjlne"
  },
  "language_info": {
   "codemirror_mode": {
    "name": "ipython",
    "version": 3
   },
   "file_extension": ".py",
   "mimetype": "text/x-python",
   "name": "python",
   "nbconvert_exporter": "python",
   "pygments_lexer": "ipython3",
   "version": "3.8.12"
  }
 },
 "nbformat": 4,
 "nbformat_minor": 5
}
