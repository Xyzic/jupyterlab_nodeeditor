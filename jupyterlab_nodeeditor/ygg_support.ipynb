{
 "cells": [
  {
   "cell_type": "code",
   "execution_count": 1,
   "id": "6ec1ab00-11f9-4bf9-83fc-33782afc3165",
   "metadata": {},
   "outputs": [],
   "source": [
    "from yggdrasil.examples import yamls as ex_yamls\n",
    "import yaml\n",
    "import jupyterlab_nodeeditor as jlne\n",
    "import pytest"
   ]
  },
  {
   "cell_type": "code",
   "execution_count": 58,
   "id": "aac6287f-5455-40d2-bcb1-e5a59f8baf54",
   "metadata": {},
   "outputs": [],
   "source": [
    "# Improved version of making a JLNE-compliant dictionary from a Yggdrasil Model YAML\n",
    "# Still semi-hard coded for the Photosynthesis model -- WIP on lessening the hardcode, but there is a Ygg pattern that follows\n",
    "# TO-DO : Make more robust, Test on custom models 1-3\n",
    "def dict_conversion(model_file):\n",
    "    # Using flags here in case I need them later, will remove if I don't\n",
    "    is_dict, is_list = False, False\n",
    "    \n",
    "    # If the type of the safe load is a dictionary, we know it is a single model\n",
    "    # If it is a list, then we have multiple models\n",
    "    # If it's neither, return the type so I can work on it\n",
    "    if type(model_file) is dict:\n",
    "        is_dict = True\n",
    "    elif type(model_file) is list:\n",
    "        is_list = True\n",
    "    else:\n",
    "        return (\"Unaccounted model type: \", type(model_file))\n",
    "    \n",
    "    # Let's do everything all at once, can split it up if needed\n",
    "    # Check if it's a single model (dictionary) or multiple (list)\n",
    "    if is_dict:\n",
    "        # Setup initial dictionary to be filled\n",
    "        new_dict, new_dict[\"inputs\"], new_dict[\"outputs\"],  = {}, [], []\n",
    "        new_dict[\"title\"] = model_file[\"name\"]\n",
    "        \n",
    "        # Fill in the Inputs\n",
    "        if \"input\" in model_file.keys():\n",
    "            for i, inp in enumerate(model_file[\"input\"]):\n",
    "                print(i, inp)\n",
    "                new_dict[\"inputs\"].append({'title': inp[\"name\"], 'key': \"temp_in\" + str(i), 'socket_type': inp[\"default_file\"][\"filetype\"]})\n",
    "        elif \"inputs\" in model_file.keys():\n",
    "            for i, inp in enumerate(model_file[\"inputs\"]):\n",
    "                new_dict[\"inputs\"].append({'title': inp[\"name\"], 'key': \"temp_in\" + str(i), 'socket_type': inp[\"default_file\"][\"filetype\"]})\n",
    "        \n",
    "        # Fill in the Outputs, same as inputs with name changes\n",
    "        if \"output\" in model_file.keys():\n",
    "            for o, out in enumerate(model_file[\"output\"]):\n",
    "                new_dict[\"outputs\"].append({'title': out[\"name\"], 'key': \"temp_out\" + str(o), 'socket_type': out[\"default_file\"][\"filetype\"]})\n",
    "        elif \"outputs\" in model_file.keys():\n",
    "            for o, out in enumerate(model_file[\"outputs\"]):\n",
    "                new_dict[\"outputs\"].append({'title': out[\"name\"], 'key': \"temp_out\" + str(o), 'socket_type': out[\"default_file\"][\"filetype\"]})\n",
    "        \n",
    "        # We return a list here so that way loading the models is uniform for both multi-model and single-model files\n",
    "        return [new_dict]\n",
    "    \n",
    "\n",
    "    # We can pretty much do the dictionary loop multiple times per model then return the list\n",
    "    elif is_list:\n",
    "        model_list = []\n",
    "        for model in model_file:\n",
    "            # Setup initial dictionary to be filled\n",
    "            new_dict, new_dict[\"inputs\"], new_dict[\"outputs\"],  = {}, [], []\n",
    "            new_dict[\"title\"] = model[\"name\"]\n",
    "        \n",
    "            # Fill in the Inputs\n",
    "            if \"input\" in model.keys():\n",
    "                for i, inp in enumerate(model[\"input\"]):\n",
    "                    new_dict[\"inputs\"].append({'title': inp[\"name\"], 'key': \"temp_in\" + str(i), 'socket_type': inp[\"default_file\"][\"filetype\"]})\n",
    "            elif \"inputs\" in model.keys():\n",
    "                for i, inp in enumerate(model[\"inputs\"]):\n",
    "                    print(i, inp)\n",
    "                    new_dict[\"inputs\"].append({'title': inp[\"name\"], 'key': \"temp_in\" + str(i), 'socket_type': inp[\"default_file\"][\"filetype\"]})\n",
    "        \n",
    "            # Fill in the Outputs, same as inputs with name changes\n",
    "            if \"output\" in model.keys():\n",
    "                for o, out in enumerate(model[\"output\"]):\n",
    "                    new_dict[\"outputs\"].append({'title': out[\"name\"], 'key': \"temp_out\" + str(o), 'socket_type': out[\"default_file\"][\"filetype\"]})\n",
    "            elif \"outputs\" in model.keys():\n",
    "                for o, out in enumerate(model[\"outputs\"]):\n",
    "                    new_dict[\"outputs\"].append({'title': out[\"name\"], 'key': \"temp_out\" + str(o), 'socket_type': out[\"default_file\"][\"filetype\"]})\n",
    "                    \n",
    "            model_list.append(new_dict)\n",
    "        \n",
    "        # Return the full converted list of models\n",
    "        return model_list"
   ]
  },
  {
   "cell_type": "code",
   "execution_count": 59,
   "id": "b67f13f0-c4bc-4fbd-9185-8f646b4fc2a7",
   "metadata": {},
   "outputs": [
    {
     "name": "stdin",
     "output_type": "stream",
     "text": [
      "Please enter filepath for model or leave blank for an example:  sample_models/sample_2.yml\n"
     ]
    },
    {
     "name": "stdout",
     "output_type": "stream",
     "text": [
      "0 {'name': 'input', 'default_file': {'name': './Input/input.txt', 'filetype': 'table'}}\n",
      "[{'inputs': [{'title': 'input', 'key': 'temp_in0', 'socket_type': 'table'}], 'outputs': [{'title': 'output', 'key': 'temp_out0', 'socket_type': 'table'}], 'title': 'Sample2'}]\n"
     ]
    },
    {
     "data": {
      "application/vnd.jupyter.widget-view+json": {
       "model_id": "2e22ef637d8d4e5aa41e405b23e949da",
       "version_major": 2,
       "version_minor": 0
      },
      "text/plain": [
       "HBox(children=(NodeEditorModel(selected_node=None), Tab()))"
      ]
     },
     "metadata": {},
     "output_type": "display_data"
    }
   ],
   "source": [
    "load_model()"
   ]
  },
  {
   "cell_type": "code",
   "execution_count": 61,
   "id": "17c69491-a0d6-4677-a3d9-7ea4ad95ef0b",
   "metadata": {},
   "outputs": [
    {
     "name": "stdout",
     "output_type": "stream",
     "text": [
      "<class 'list'>\n",
      "[{'name': 'modelA', 'language': 'python', 'args': './src/modelA.py', 'inputs': 'inputA', 'outputs': 'outputA'}, {'name': 'modelB', 'language': 'python', 'args': './src/modelB.py', 'inputs': 'inputB', 'outputs': 'outputB'}, {'name': 'modelC', 'language': 'python', 'args': './src/modelC.py', 'inputs': 'inputC', 'outputs': 'outputC'}]\n",
      "{'name': 'modelA', 'language': 'python', 'args': './src/modelA.py', 'inputs': 'inputA', 'outputs': 'outputA'}\n"
     ]
    }
   ],
   "source": [
    "with open(\"sample_models/sample_1.yml\", \"r\") as sample:\n",
    "    sample_model = yaml.safe_load(sample)[\"models\"]\n",
    "    print(type(sample_model))\n",
    "    print(sample_model)\n",
    "    print(sample_model[0])"
   ]
  },
  {
   "cell_type": "code",
   "execution_count": 38,
   "id": "2a3e5246-dc6d-4012-ad31-b57d5eb77340",
   "metadata": {},
   "outputs": [],
   "source": [
    "# Testing Functions\n",
    "\n",
    "# The first test is just to visually ensure that the model appears in the node editor instance\n",
    "# This is NOT an explicit function\n",
    "# Look for Inputs, Outputs, and a proper title\n",
    "\n",
    "# Test 2 : Verify Editor instance w output\n",
    "# This is done with JLNE's built in class methods of calling a unique editor instance with the models\n",
    "def test_instance(test_editor):\n",
    "    expected_editor = jlne.NodeEditor()\n",
    "    assert test_editor == expected_editor\n",
    "\n",
    "# Test 3 : Blank"
   ]
  },
  {
   "cell_type": "code",
   "execution_count": 60,
   "id": "92c23e1d-bf76-43e0-b1d1-7fbe53f2d83e",
   "metadata": {},
   "outputs": [],
   "source": [
    "# By default, load the photosynthesis model\n",
    "# ps - Node Editor instance that it is added to, default blank\n",
    "def load_model(ps = None):\n",
    "    # TODO: Here is where it can be \"model\" or \"models\"\n",
    "    # E.g. filepath: sample_models/sample_2.yml\n",
    "    filepath = input(\"Please enter filepath for model or leave blank for an example: \")\n",
    "    fsample = None\n",
    "    if filepath:\n",
    "        with open(filepath, \"r\") as sample:\n",
    "            sample_model = yaml.safe_load(sample)\n",
    "            if \"model\" in sample_model.keys():\n",
    "                fsample = sample_model[\"model\"]\n",
    "            elif \"models\" in sample_model.keys():\n",
    "                fsample = sample_model[\"models\"]\n",
    "    else:\n",
    "        with open(ex_yamls['fakeplant']['python'], \"r\") as sample:\n",
    "            fsample = yaml.safe_load(sample)[\"model\"]\n",
    "        \n",
    "    ne_instance = ps or jlne.NodeEditor()\n",
    "    model_list = dict_conversion(fsample)\n",
    "    \n",
    "    # Print for debugging\n",
    "    print(model_list)\n",
    "    \n",
    "    for model in model_list:\n",
    "        ne_instance.add_component(model)\n",
    "    \n",
    "    return ne_instance"
   ]
  },
  {
   "cell_type": "code",
   "execution_count": null,
   "id": "e3e5e8a0-60d7-4013-95af-932d59547727",
   "metadata": {},
   "outputs": [],
   "source": []
  }
 ],
 "metadata": {
  "kernelspec": {
   "display_name": "yggJLNE",
   "language": "python",
   "name": "yggjlne"
  },
  "language_info": {
   "codemirror_mode": {
    "name": "ipython",
    "version": 3
   },
   "file_extension": ".py",
   "mimetype": "text/x-python",
   "name": "python",
   "nbconvert_exporter": "python",
   "pygments_lexer": "ipython3",
   "version": "3.8.12"
  }
 },
 "nbformat": 4,
 "nbformat_minor": 5
}
