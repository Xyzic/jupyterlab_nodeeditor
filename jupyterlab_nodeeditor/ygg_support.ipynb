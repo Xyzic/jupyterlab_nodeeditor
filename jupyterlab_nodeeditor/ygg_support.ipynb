{
 "cells": [
  {
   "cell_type": "code",
   "execution_count": 1,
   "id": "6ec1ab00-11f9-4bf9-83fc-33782afc3165",
   "metadata": {},
   "outputs": [],
   "source": [
    "from yggdrasil.examples import yamls as ex_yamls\n",
    "import yaml\n",
    "import jupyterlab_nodeeditor as jlne\n",
    "import pytest"
   ]
  },
  {
   "cell_type": "code",
   "execution_count": 3,
   "id": "aac6287f-5455-40d2-bcb1-e5a59f8baf54",
   "metadata": {},
   "outputs": [],
   "source": [
    "# Improved version of making a JLNE-compliant dictionary from a Yggdrasil Model YAML\n",
    "# Still semi-hard coded for the Photosynthesis model\n",
    "# TO-DO : Make more robust, Test on custom models 1-3\n",
    "def dict_conversion(model_dict):\n",
    "    # Setup initial dictionary to be filled\n",
    "    new_dict, new_dict[\"inputs\"], new_dict[\"outputs\"], new_dict[\"title\"] = {}, [], [], model_dict[\"name\"]\n",
    "    \n",
    "    # Fill in the Inputs\n",
    "    for i, inp in enumerate(model_dict[\"inputs\"]):\n",
    "        new_dict[\"inputs\"].append({'title': inp[\"name\"], 'key': \"temp_in\" + str(i), 'socket_type': inp[\"default_file\"][\"filetype\"]})\n",
    "        \n",
    "    # Fill in the Outputs, same as inputs with name changes\n",
    "    for o, out in enumerate(model_dict[\"outputs\"]):\n",
    "        new_dict[\"outputs\"].append({'title': out[\"name\"], 'key': \"temp_out\" + str(o), 'socket_type': out[\"default_file\"][\"filetype\"]})\n",
    "           \n",
    "    return new_dict"
   ]
  },
  {
   "cell_type": "code",
   "execution_count": 4,
   "id": "ce3806a4-2db1-486a-a7f3-0bc487f079ee",
   "metadata": {},
   "outputs": [],
   "source": [
    "# By default, load the photosynthesis model\n",
    "# ps - Node Editor instance that it is added to, default blank\n",
    "def load_example(ps = None):\n",
    "    with open(ex_yamls['fakeplant']['python'], \"r\") as test_model:\n",
    "        photosynthesis_model = yaml.safe_load(test_model)['model']\n",
    "        \n",
    "    ps = ps or jlne.NodeEditor()\n",
    "    \n",
    "    # Add in the converted dictionary of the photosynthesis model\n",
    "    ps.add_component(dict_conversion(photosynthesis_model))\n",
    "    return ps"
   ]
  },
  {
   "cell_type": "code",
   "execution_count": 5,
   "id": "2a3e5246-dc6d-4012-ad31-b57d5eb77340",
   "metadata": {},
   "outputs": [],
   "source": [
    "# Testing Functions\n",
    "\n",
    "# The first test is just to visually ensure that the model appears in the node editor instance\n",
    "# This is NOT an explicit function\n",
    "# Look for Inputs, Outputs, and a proper title\n",
    "\n",
    "# Test 2 : Verify Editor instance w output\n",
    "# This is done with JLNE's built in class methods of calling a unique editor instance with the models\n",
    "def test_instance(test_editor):\n",
    "    expected_editor = jlne.NodeEditor()\n",
    "    assert test_editor == expected_editor\n",
    "\n",
    "# Test 3 : Blank\n",
    "\n",
    "\n"
   ]
  },
  {
   "cell_type": "code",
   "execution_count": 11,
   "id": "92c23e1d-bf76-43e0-b1d1-7fbe53f2d83e",
   "metadata": {},
   "outputs": [],
   "source": [
    "def load_model(ps = None):\n",
    "    with open(\"sample_models/sample_1.yml\", \"r\") as sample:\n",
    "        sample_model = yaml.safe_load(sample)[\"models\"]\n",
    "    ps = ps or jlne.NodeEditor()\n",
    "    ps.add_component(dict_conversion(sample_model))\n",
    "    return ps"
   ]
  },
  {
   "cell_type": "code",
   "execution_count": 12,
   "id": "b67f13f0-c4bc-4fbd-9185-8f646b4fc2a7",
   "metadata": {},
   "outputs": [
    {
     "ename": "TypeError",
     "evalue": "list indices must be integers or slices, not str",
     "output_type": "error",
     "traceback": [
      "\u001b[1;31m---------------------------------------------------------------------------\u001b[0m",
      "\u001b[1;31mTypeError\u001b[0m                                 Traceback (most recent call last)",
      "\u001b[1;32m<ipython-input-12-744a9b9f8d13>\u001b[0m in \u001b[0;36m<module>\u001b[1;34m\u001b[0m\n\u001b[1;32m----> 1\u001b[1;33m \u001b[0mload_model\u001b[0m\u001b[1;33m(\u001b[0m\u001b[1;33m)\u001b[0m\u001b[1;33m\u001b[0m\u001b[1;33m\u001b[0m\u001b[0m\n\u001b[0m",
      "\u001b[1;32m<ipython-input-11-7c0a6ea2a493>\u001b[0m in \u001b[0;36mload_model\u001b[1;34m(ps)\u001b[0m\n\u001b[0;32m      3\u001b[0m         \u001b[0msample_model\u001b[0m \u001b[1;33m=\u001b[0m \u001b[0myaml\u001b[0m\u001b[1;33m.\u001b[0m\u001b[0msafe_load\u001b[0m\u001b[1;33m(\u001b[0m\u001b[0msample\u001b[0m\u001b[1;33m)\u001b[0m\u001b[1;33m[\u001b[0m\u001b[1;34m\"models\"\u001b[0m\u001b[1;33m]\u001b[0m\u001b[1;33m\u001b[0m\u001b[1;33m\u001b[0m\u001b[0m\n\u001b[0;32m      4\u001b[0m     \u001b[0mps\u001b[0m \u001b[1;33m=\u001b[0m \u001b[0mps\u001b[0m \u001b[1;32mor\u001b[0m \u001b[0mjlne\u001b[0m\u001b[1;33m.\u001b[0m\u001b[0mNodeEditor\u001b[0m\u001b[1;33m(\u001b[0m\u001b[1;33m)\u001b[0m\u001b[1;33m\u001b[0m\u001b[1;33m\u001b[0m\u001b[0m\n\u001b[1;32m----> 5\u001b[1;33m     \u001b[0mps\u001b[0m\u001b[1;33m.\u001b[0m\u001b[0madd_component\u001b[0m\u001b[1;33m(\u001b[0m\u001b[0mdict_conversion\u001b[0m\u001b[1;33m(\u001b[0m\u001b[0msample_model\u001b[0m\u001b[1;33m)\u001b[0m\u001b[1;33m)\u001b[0m\u001b[1;33m\u001b[0m\u001b[1;33m\u001b[0m\u001b[0m\n\u001b[0m\u001b[0;32m      6\u001b[0m     \u001b[1;32mreturn\u001b[0m \u001b[0mps\u001b[0m\u001b[1;33m\u001b[0m\u001b[1;33m\u001b[0m\u001b[0m\n",
      "\u001b[1;32m<ipython-input-3-fe4763becf5b>\u001b[0m in \u001b[0;36mdict_conversion\u001b[1;34m(model_dict)\u001b[0m\n\u001b[0;32m      4\u001b[0m \u001b[1;32mdef\u001b[0m \u001b[0mdict_conversion\u001b[0m\u001b[1;33m(\u001b[0m\u001b[0mmodel_dict\u001b[0m\u001b[1;33m)\u001b[0m\u001b[1;33m:\u001b[0m\u001b[1;33m\u001b[0m\u001b[1;33m\u001b[0m\u001b[0m\n\u001b[0;32m      5\u001b[0m     \u001b[1;31m# Setup initial dictionary to be filled\u001b[0m\u001b[1;33m\u001b[0m\u001b[1;33m\u001b[0m\u001b[1;33m\u001b[0m\u001b[0m\n\u001b[1;32m----> 6\u001b[1;33m     \u001b[0mnew_dict\u001b[0m\u001b[1;33m,\u001b[0m \u001b[0mnew_dict\u001b[0m\u001b[1;33m[\u001b[0m\u001b[1;34m\"inputs\"\u001b[0m\u001b[1;33m]\u001b[0m\u001b[1;33m,\u001b[0m \u001b[0mnew_dict\u001b[0m\u001b[1;33m[\u001b[0m\u001b[1;34m\"outputs\"\u001b[0m\u001b[1;33m]\u001b[0m\u001b[1;33m,\u001b[0m \u001b[0mnew_dict\u001b[0m\u001b[1;33m[\u001b[0m\u001b[1;34m\"title\"\u001b[0m\u001b[1;33m]\u001b[0m \u001b[1;33m=\u001b[0m \u001b[1;33m{\u001b[0m\u001b[1;33m}\u001b[0m\u001b[1;33m,\u001b[0m \u001b[1;33m[\u001b[0m\u001b[1;33m]\u001b[0m\u001b[1;33m,\u001b[0m \u001b[1;33m[\u001b[0m\u001b[1;33m]\u001b[0m\u001b[1;33m,\u001b[0m \u001b[0mmodel_dict\u001b[0m\u001b[1;33m[\u001b[0m\u001b[1;34m\"name\"\u001b[0m\u001b[1;33m]\u001b[0m\u001b[1;33m\u001b[0m\u001b[1;33m\u001b[0m\u001b[0m\n\u001b[0m\u001b[0;32m      7\u001b[0m \u001b[1;33m\u001b[0m\u001b[0m\n\u001b[0;32m      8\u001b[0m     \u001b[1;31m# Fill in the Inputs\u001b[0m\u001b[1;33m\u001b[0m\u001b[1;33m\u001b[0m\u001b[1;33m\u001b[0m\u001b[0m\n",
      "\u001b[1;31mTypeError\u001b[0m: list indices must be integers or slices, not str"
     ]
    }
   ],
   "source": [
    "load_model()"
   ]
  },
  {
   "cell_type": "code",
   "execution_count": null,
   "id": "1d955c56-78fd-4872-a867-b2f4abc7085d",
   "metadata": {},
   "outputs": [],
   "source": []
  }
 ],
 "metadata": {
  "kernelspec": {
   "display_name": "yggJLNE",
   "language": "python",
   "name": "yggjlne"
  },
  "language_info": {
   "codemirror_mode": {
    "name": "ipython",
    "version": 3
   },
   "file_extension": ".py",
   "mimetype": "text/x-python",
   "name": "python",
   "nbconvert_exporter": "python",
   "pygments_lexer": "ipython3",
   "version": "3.8.12"
  }
 },
 "nbformat": 4,
 "nbformat_minor": 5
}
