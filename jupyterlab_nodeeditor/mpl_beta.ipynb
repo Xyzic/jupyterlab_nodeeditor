{
 "cells": [
  {
   "cell_type": "markdown",
   "id": "0f4c7d83-4f5e-48f7-abe7-57997f6dc4a6",
   "metadata": {},
   "source": [
    "### TO-DO\n",
    "1. Add in matplotlib to side panel -- COMPLETE\n",
    "2. Make fake graph with random sliders and boxes and whatever to change the graph -- WIP\n",
    "3. Integrate it into the main editor instance\n",
    "4. Connect internal model values with the sliders and graph and make it \"real\""
   ]
  },
  {
   "cell_type": "code",
   "execution_count": 1,
   "id": "938e9808-8acd-4598-a3bd-9bea0bb39d48",
   "metadata": {},
   "outputs": [],
   "source": [
    "%matplotlib inline\n",
    "import jupyterlab_nodeeditor as jlne\n",
    "from yggdrasil import yamlfile\n",
    "import matplotlib.pyplot as plt\n",
    "import ipywidgets as widgets\n",
    "import numpy as np\n",
    "import bqplot as bq"
   ]
  },
  {
   "cell_type": "code",
   "execution_count": 2,
   "id": "7ea24a11-1036-4cba-80ca-75c3a95fa572",
   "metadata": {},
   "outputs": [],
   "source": [
    "filename = \"X:\\College\\Grad School\\Research\\gc-Xyzic\\jupyterlab_nodeeditor\\examples\\model_example.yml\"\n",
    "model_set = yamlfile.parse_yaml(filename, model_only=True)\n",
    "model_sets = jlne.parse_yggdrasil_yaml(filename)\n",
    "\n",
    "schema = yamlfile.get_schema()\n",
    "socket_types = tuple(schema.form_schema['definitions']['schema']['definitions']['simpleTypes']['enum'])\n",
    "\n",
    "ne = jlne.NodeEditor(socket_types = socket_types)"
   ]
  },
  {
   "cell_type": "code",
   "execution_count": 3,
   "id": "40d884e5-fa54-4e22-bce8-f70a1b0ebd9a",
   "metadata": {},
   "outputs": [],
   "source": [
    "ne.socket_types = ('Temperature', 'Rainfall', 'Delta Time', 'Results')\n",
    "ne.add_component(\n",
    "    {\"inputs\": [\n",
    "                {'title': 'Temperature Morning', 'key': 'temp1', 'socket_type': 'Temperature'},\n",
    "                {'title': 'Temperature Afternoon', 'key': 'temp2', 'socket_type': 'Temperature'},\n",
    "                {'title': 'Temperature Evening', 'key': 'temp3', 'socket_type': 'Temperature'}\n",
    "                ],\n",
    "     \"outputs\": [\n",
    "                {'title': 'Results', 'key': 'results', 'socket_type': 'Temperature'}\n",
    "                ],\n",
    "     \"title\": \"Temperature Averaging\"\n",
    "})"
   ]
  },
  {
   "cell_type": "code",
   "execution_count": 4,
   "id": "a5ded9d5-a566-4432-b21b-14f48c02bad9",
   "metadata": {},
   "outputs": [
    {
     "data": {
      "application/vnd.jupyter.widget-view+json": {
       "model_id": "9e16df4c93864a8eb2bb2aab80169491",
       "version_major": 2,
       "version_minor": 0
      },
      "text/plain": [
       "HBox(children=(NodeEditorModel(selected_node=None), Tab()))"
      ]
     },
     "metadata": {},
     "output_type": "display_data"
    }
   ],
   "source": [
    "ne"
   ]
  },
  {
   "cell_type": "code",
   "execution_count": 6,
   "id": "c791e26a-d7e9-4f48-ad06-b03c3dec2c94",
   "metadata": {},
   "outputs": [],
   "source": [
    "# Children[0] is an ipywidget label\n",
    "# \"Inputs\" is a VBox as is \"Outputs\"\n",
    "ne.node_editor.nodes[0].display_element.children[0].value = \"Test Name Node 1\""
   ]
  },
  {
   "cell_type": "code",
   "execution_count": 7,
   "id": "d5509eba-b7b5-4982-8f61-9491828063c5",
   "metadata": {},
   "outputs": [],
   "source": [
    "m = widgets.FloatSlider(value = 0.0, min = -2.0, max = 2.0, step = 0.1)\n",
    "b = widgets.FloatSlider(value = 5.0, min = 0.0, max = 10.0, step = 0.1)\n",
    "ne.node_editor.nodes[0].display_element.children += (m,)\n",
    "ne.node_editor.nodes[0].display_element.children += (b,)"
   ]
  },
  {
   "cell_type": "code",
   "execution_count": 8,
   "id": "57c6bc7d-43ed-4d60-b604-008e9eaa4ab2",
   "metadata": {},
   "outputs": [],
   "source": [
    "# Work on the plot here\n",
    "# Open initial sample plot png\n",
    "with open(\"test.png\", \"rb\") as f:\n",
    "    image = f.read()\n",
    "    plotimg = widgets.Image(value = image, format = \"png\")"
   ]
  },
  {
   "cell_type": "code",
   "execution_count": 9,
   "id": "48d0abad-bda4-4877-9544-c8e056dd6a9b",
   "metadata": {},
   "outputs": [],
   "source": [
    "ne.node_editor.nodes[0].display_element.children += (plotimg,)"
   ]
  },
  {
   "cell_type": "code",
   "execution_count": 10,
   "id": "642c6c9e-4d27-46d9-8f95-bd11223963a9",
   "metadata": {},
   "outputs": [],
   "source": [
    "# # Test it out\n",
    "# with open(\"slope.png\", \"rb\") as test:\n",
    "#     new_plot = test.read()\n",
    "#     plotimg.value = new_plot"
   ]
  },
  {
   "cell_type": "code",
   "execution_count": 11,
   "id": "912dda8e-4588-4a25-b80d-499c09ecac03",
   "metadata": {},
   "outputs": [],
   "source": [
    "def update_plot(node_editor_instance = ne, slope_slider = m, intercept_slider = b):\n",
    "    fig, ax = plt.subplots()\n",
    "    ax.set(xlabel='x', ylabel='y', title = \"Simple Test Graph\")\n",
    "    ax.grid()\n",
    "    x = np.linspace(-10, 10, num=1000)\n",
    "    ax.plot(x, slope_slider.value * x + intercept_slider.value)\n",
    "    ax.set_ylim(0, 10)\n",
    "    fig.savefig(\"slope.png\")\n",
    "    \n",
    "    with open(\"slope.png\", \"rb\") as f:\n",
    "        new_plot = f.read()\n",
    "        plotimg.value = new_plot"
   ]
  },
  {
   "cell_type": "code",
   "execution_count": 13,
   "id": "418e980f-f3e0-4ac4-9757-93620157dcd6",
   "metadata": {},
   "outputs": [
    {
     "data": {
      "image/png": "[encoded data removed]",
      "text/plain": [
       "<Figure size 432x288 with 1 Axes>"
      ]
     },
     "metadata": {
      "needs_background": "light"
     },
     "output_type": "display_data"
    }
   ],
   "source": [
    "update_plot()"
   ]
  },
  {
   "cell_type": "code",
   "execution_count": null,
   "id": "5a88d23d-9a67-48d7-8be3-235601049edd",
   "metadata": {},
   "outputs": [],
   "source": []
  }
 ],
 "metadata": {
  "kernelspec": {
   "display_name": "yggJLNE",
   "language": "python",
   "name": "yggjlne"
  },
  "language_info": {
   "codemirror_mode": {
    "name": "ipython",
    "version": 3
   },
   "file_extension": ".py",
   "mimetype": "text/x-python",
   "name": "python",
   "nbconvert_exporter": "python",
   "pygments_lexer": "ipython3",
   "version": "3.8.12"
  }
 },
 "nbformat": 4,
 "nbformat_minor": 5
}
