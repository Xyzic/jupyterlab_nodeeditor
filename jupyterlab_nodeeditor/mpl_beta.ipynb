{
 "cells": [
  {
   "cell_type": "markdown",
   "id": "0f4c7d83-4f5e-48f7-abe7-57997f6dc4a6",
   "metadata": {},
   "source": [
    "### TO-DO\n",
    "1. Add in matplotlib to side panel\n",
    "2. Make fake graph with random sliders and boxes and whatever to change the graph\n",
    "3. Integrate it into the main editor instance\n",
    "4. Connect internal model values with the sliders and graph and make it \"real\""
   ]
  },
  {
   "cell_type": "code",
   "execution_count": 1,
   "id": "938e9808-8acd-4598-a3bd-9bea0bb39d48",
   "metadata": {},
   "outputs": [],
   "source": [
    "%matplotlib widget\n",
    "import jupyterlab_nodeeditor as jlne\n",
    "from yggdrasil import yamlfile\n",
    "import matplotlib.pyplot as plt\n",
    "import ipywidgets as widgets\n",
    "import numpy as np"
   ]
  },
  {
   "cell_type": "code",
   "execution_count": 2,
   "id": "7ea24a11-1036-4cba-80ca-75c3a95fa572",
   "metadata": {},
   "outputs": [],
   "source": [
    "filename = \"X:\\College\\Grad School\\Research\\gc-Xyzic\\jupyterlab_nodeeditor\\examples\\model_example.yml\"\n",
    "model_set = yamlfile.parse_yaml(filename, model_only=True)\n",
    "model_sets = jlne.parse_yggdrasil_yaml(filename)\n",
    "\n",
    "schema = yamlfile.get_schema()\n",
    "socket_types = tuple(schema.form_schema['definitions']['schema']['definitions']['simpleTypes']['enum'])\n",
    "\n",
    "ne = jlne.NodeEditor(socket_types = socket_types)"
   ]
  },
  {
   "cell_type": "code",
   "execution_count": 3,
   "id": "40d884e5-fa54-4e22-bce8-f70a1b0ebd9a",
   "metadata": {},
   "outputs": [],
   "source": [
    "ne.socket_types = ('Temperature', 'Rainfall', 'Delta Time', 'Results')\n",
    "ne.add_component(\n",
    "    {\"inputs\": [\n",
    "                {'title': 'Temperature Morning', 'key': 'temp1', 'socket_type': 'Temperature'},\n",
    "                {'title': 'Temperature Afternoon', 'key': 'temp2', 'socket_type': 'Temperature'},\n",
    "                {'title': 'Temperature Evening', 'key': 'temp3', 'socket_type': 'Temperature'}\n",
    "                ],\n",
    "     \"outputs\": [\n",
    "                {'title': 'Results', 'key': 'results', 'socket_type': 'Temperature'}\n",
    "                ],\n",
    "     \"title\": \"Temperature Averaging\"\n",
    "})"
   ]
  },
  {
   "cell_type": "code",
   "execution_count": 4,
   "id": "a5ded9d5-a566-4432-b21b-14f48c02bad9",
   "metadata": {},
   "outputs": [
    {
     "data": {
      "application/vnd.jupyter.widget-view+json": {
       "model_id": "5d8e8df7c52048aeb59df4efb341f702",
       "version_major": 2,
       "version_minor": 0
      },
      "text/plain": [
       "HBox(children=(NodeEditorModel(selected_node=None), Tab()))"
      ]
     },
     "metadata": {},
     "output_type": "display_data"
    }
   ],
   "source": [
    "ne"
   ]
  },
  {
   "cell_type": "code",
   "execution_count": 6,
   "id": "c791e26a-d7e9-4f48-ad06-b03c3dec2c94",
   "metadata": {},
   "outputs": [],
   "source": [
    "# Children[0] is an ipywidget label\n",
    "# \"Inputs\" is a VBox as is \"Outputs\"\n",
    "ne.node_editor.nodes[0].display_element.children[0].value = \"Test Name Node 1\""
   ]
  },
  {
   "cell_type": "code",
   "execution_count": 8,
   "id": "fb080bec-6770-4f12-b546-be113299dea8",
   "metadata": {},
   "outputs": [
    {
     "data": {
      "application/vnd.jupyter.widget-view+json": {
       "model_id": "6b8249b9995b4de0b54a1e797844beb4",
       "version_major": 2,
       "version_minor": 0
      },
      "text/plain": [
       "IntSlider(value=10)"
      ]
     },
     "metadata": {},
     "output_type": "display_data"
    }
   ],
   "source": [
    "slider = widgets.IntSlider()\n",
    "ne.node_editor.nodes[0].display_element.children += (slider,)\n",
    "slider.value = 10\n",
    "slider"
   ]
  },
  {
   "cell_type": "code",
   "execution_count": 9,
   "id": "e542c30f-7b91-45f0-9652-52f9ec16f77f",
   "metadata": {},
   "outputs": [],
   "source": [
    "# Work on the plot here\n"
   ]
  },
  {
   "cell_type": "code",
   "execution_count": null,
   "id": "31efa951-2ecc-46db-86ad-39518231c57c",
   "metadata": {},
   "outputs": [],
   "source": []
  }
 ],
 "metadata": {
  "kernelspec": {
   "display_name": "yggJLNE",
   "language": "python",
   "name": "yggjlne"
  },
  "language_info": {
   "codemirror_mode": {
    "name": "ipython",
    "version": 3
   },
   "file_extension": ".py",
   "mimetype": "text/x-python",
   "name": "python",
   "nbconvert_exporter": "python",
   "pygments_lexer": "ipython3",
   "version": "3.8.12"
  }
 },
 "nbformat": 4,
 "nbformat_minor": 5
}
