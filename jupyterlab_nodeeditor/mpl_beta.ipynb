{
 "cells": [
  {
   "cell_type": "markdown",
   "id": "0f4c7d83-4f5e-48f7-abe7-57997f6dc4a6",
   "metadata": {},
   "source": [
    "### TO-DO\n",
    "1. Add in matplotlib to side panel\n",
    "2. Make fake graph with random sliders and boxes and whatever to change the graph\n",
    "3. Integrate it into the main editor instance\n",
    "4. Connect internal model values with the sliders and graph and make it \"real\""
   ]
  },
  {
   "cell_type": "code",
   "execution_count": 1,
   "id": "938e9808-8acd-4598-a3bd-9bea0bb39d48",
   "metadata": {},
   "outputs": [],
   "source": [
    "%matplotlib inline\n",
    "import jupyterlab_nodeeditor as jlne\n",
    "from yggdrasil import yamlfile\n",
    "import matplotlib.pyplot as plt\n",
    "import ipywidgets as widgets\n",
    "import numpy as np\n",
    "import bqplot as bq"
   ]
  },
  {
   "cell_type": "code",
   "execution_count": 2,
   "id": "7ea24a11-1036-4cba-80ca-75c3a95fa572",
   "metadata": {},
   "outputs": [],
   "source": [
    "filename = \"X:\\College\\Grad School\\Research\\gc-Xyzic\\jupyterlab_nodeeditor\\examples\\model_example.yml\"\n",
    "model_set = yamlfile.parse_yaml(filename, model_only=True)\n",
    "model_sets = jlne.parse_yggdrasil_yaml(filename)\n",
    "\n",
    "schema = yamlfile.get_schema()\n",
    "socket_types = tuple(schema.form_schema['definitions']['schema']['definitions']['simpleTypes']['enum'])\n",
    "\n",
    "ne = jlne.NodeEditor(socket_types = socket_types)"
   ]
  },
  {
   "cell_type": "code",
   "execution_count": 3,
   "id": "40d884e5-fa54-4e22-bce8-f70a1b0ebd9a",
   "metadata": {},
   "outputs": [],
   "source": [
    "ne.socket_types = ('Temperature', 'Rainfall', 'Delta Time', 'Results')\n",
    "ne.add_component(\n",
    "    {\"inputs\": [\n",
    "                {'title': 'Temperature Morning', 'key': 'temp1', 'socket_type': 'Temperature'},\n",
    "                {'title': 'Temperature Afternoon', 'key': 'temp2', 'socket_type': 'Temperature'},\n",
    "                {'title': 'Temperature Evening', 'key': 'temp3', 'socket_type': 'Temperature'}\n",
    "                ],\n",
    "     \"outputs\": [\n",
    "                {'title': 'Results', 'key': 'results', 'socket_type': 'Temperature'}\n",
    "                ],\n",
    "     \"title\": \"Temperature Averaging\"\n",
    "})"
   ]
  },
  {
   "cell_type": "code",
   "execution_count": 4,
   "id": "a5ded9d5-a566-4432-b21b-14f48c02bad9",
   "metadata": {},
   "outputs": [
    {
     "data": {
      "application/vnd.jupyter.widget-view+json": {
       "model_id": "349ca66c10b54e08a3aa6bab0ca5ceab",
       "version_major": 2,
       "version_minor": 0
      },
      "text/plain": [
       "HBox(children=(NodeEditorModel(selected_node=None), Tab()))"
      ]
     },
     "metadata": {},
     "output_type": "display_data"
    }
   ],
   "source": [
    "ne"
   ]
  },
  {
   "cell_type": "code",
   "execution_count": 6,
   "id": "c791e26a-d7e9-4f48-ad06-b03c3dec2c94",
   "metadata": {},
   "outputs": [],
   "source": [
    "# Children[0] is an ipywidget label\n",
    "# \"Inputs\" is a VBox as is \"Outputs\"\n",
    "ne.node_editor.nodes[0].display_element.children[0].value = \"Test Name Node 1\""
   ]
  },
  {
   "cell_type": "code",
   "execution_count": 7,
   "id": "fb080bec-6770-4f12-b546-be113299dea8",
   "metadata": {},
   "outputs": [],
   "source": [
    "# Sample on how to add in widgets to the sidebar\n",
    "# slider = widgets.IntSlider()\n",
    "# ne.node_editor.nodes[0].display_element.children += (slider,)\n",
    "# slider.value = 10\n",
    "# slider"
   ]
  },
  {
   "cell_type": "code",
   "execution_count": 22,
   "id": "e542c30f-7b91-45f0-9652-52f9ec16f77f",
   "metadata": {},
   "outputs": [],
   "source": [
    "# Work on the plot here\n",
    "# Open initial sample plot png\n",
    "with open(\"test.png\", \"rb\") as f:\n",
    "    image = f.read()\n",
    "plotimg = widgets.Image(value = image, format = \"png\")\n",
    "\n",
    "# Use this for changing the plot\n",
    "def update_plot(new_image = plotimg):\n",
    "    plotimg.value = new_image\n",
    "    \n",
    "# Test it out\n",
    "with open(\"test.png\", \"rb\") as test:\n",
    "    new_plot = test.read()\n",
    "    update_plot(new_plot)"
   ]
  },
  {
   "cell_type": "code",
   "execution_count": 23,
   "id": "48d0abad-bda4-4877-9544-c8e056dd6a9b",
   "metadata": {},
   "outputs": [],
   "source": [
    "ne.node_editor.nodes[0].display_element.children += (plotimg,)"
   ]
  },
  {
   "cell_type": "code",
   "execution_count": 21,
   "id": "912dda8e-4588-4a25-b80d-499c09ecac03",
   "metadata": {},
   "outputs": [
    {
     "data": {
      "image/png": "[encoded data removed]",
      "text/plain": [
       "<Figure size 432x288 with 1 Axes>"
      ]
     },
     "metadata": {
      "needs_background": "light"
     },
     "output_type": "display_data"
    }
   ],
   "source": [
    "t = np.arange(0.0, 2.0, 0.01)\n",
    "s = 1 + np.sin(2 * np.pi * t)\n",
    "\n",
    "fig, ax = plt.subplots()\n",
    "ax.plot(t, s)\n",
    "\n",
    "ax.set(xlabel='time (s)', ylabel='voltage (mV)', title = \"Simple Test Graph\")\n",
    "ax.grid()\n",
    "\n",
    "fig.savefig(\"test.png\")"
   ]
  },
  {
   "cell_type": "code",
   "execution_count": null,
   "id": "343e7cb0-b59f-42da-9366-b1f4600bf272",
   "metadata": {},
   "outputs": [],
   "source": []
  }
 ],
 "metadata": {
  "kernelspec": {
   "display_name": "yggJLNE",
   "language": "python",
   "name": "yggjlne"
  },
  "language_info": {
   "codemirror_mode": {
    "name": "ipython",
    "version": 3
   },
   "file_extension": ".py",
   "mimetype": "text/x-python",
   "name": "python",
   "nbconvert_exporter": "python",
   "pygments_lexer": "ipython3",
   "version": "3.8.12"
  }
 },
 "nbformat": 4,
 "nbformat_minor": 5
}
