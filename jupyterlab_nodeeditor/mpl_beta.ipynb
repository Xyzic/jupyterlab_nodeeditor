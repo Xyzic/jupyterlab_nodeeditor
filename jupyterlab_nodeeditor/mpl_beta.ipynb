{
 "cells": [
  {
   "cell_type": "markdown",
   "id": "0f4c7d83-4f5e-48f7-abe7-57997f6dc4a6",
   "metadata": {},
   "source": [
    "### TO-DO\n",
    "1. Add in matplotlib to side panel\n",
    "2. Make fake graph with random sliders and boxes and whatever to change the graph\n",
    "3. Integrate it into the main editor instance\n",
    "4. Connect internal model values with the sliders and graph and make it \"real\""
   ]
  },
  {
   "cell_type": "code",
   "execution_count": 1,
   "id": "938e9808-8acd-4598-a3bd-9bea0bb39d48",
   "metadata": {},
   "outputs": [],
   "source": [
    "%matplotlib inline\n",
    "import jupyterlab_nodeeditor as jlne\n",
    "from yggdrasil import yamlfile\n",
    "import matplotlib.pyplot as plt\n",
    "import ipywidgets as widgets\n",
    "import numpy as np\n",
    "import bqplot as bq"
   ]
  },
  {
   "cell_type": "code",
   "execution_count": 2,
   "id": "7ea24a11-1036-4cba-80ca-75c3a95fa572",
   "metadata": {},
   "outputs": [],
   "source": [
    "filename = \"X:\\College\\Grad School\\Research\\gc-Xyzic\\jupyterlab_nodeeditor\\examples\\model_example.yml\"\n",
    "model_set = yamlfile.parse_yaml(filename, model_only=True)\n",
    "model_sets = jlne.parse_yggdrasil_yaml(filename)\n",
    "\n",
    "schema = yamlfile.get_schema()\n",
    "socket_types = tuple(schema.form_schema['definitions']['schema']['definitions']['simpleTypes']['enum'])\n",
    "\n",
    "ne = jlne.NodeEditor(socket_types = socket_types)"
   ]
  },
  {
   "cell_type": "code",
   "execution_count": 3,
   "id": "40d884e5-fa54-4e22-bce8-f70a1b0ebd9a",
   "metadata": {},
   "outputs": [],
   "source": [
    "ne.socket_types = ('Temperature', 'Rainfall', 'Delta Time', 'Results')\n",
    "ne.add_component(\n",
    "    {\"inputs\": [\n",
    "                {'title': 'Temperature Morning', 'key': 'temp1', 'socket_type': 'Temperature'},\n",
    "                {'title': 'Temperature Afternoon', 'key': 'temp2', 'socket_type': 'Temperature'},\n",
    "                {'title': 'Temperature Evening', 'key': 'temp3', 'socket_type': 'Temperature'}\n",
    "                ],\n",
    "     \"outputs\": [\n",
    "                {'title': 'Results', 'key': 'results', 'socket_type': 'Temperature'}\n",
    "                ],\n",
    "     \"title\": \"Temperature Averaging\"\n",
    "})"
   ]
  },
  {
   "cell_type": "code",
   "execution_count": 4,
   "id": "a5ded9d5-a566-4432-b21b-14f48c02bad9",
   "metadata": {},
   "outputs": [
    {
     "data": {
      "application/vnd.jupyter.widget-view+json": {
       "model_id": "ced467baa047414eba126f1376f13c6f",
       "version_major": 2,
       "version_minor": 0
      },
      "text/plain": [
       "HBox(children=(NodeEditorModel(selected_node=None), Tab()))"
      ]
     },
     "metadata": {},
     "output_type": "display_data"
    }
   ],
   "source": [
    "ne"
   ]
  },
  {
   "cell_type": "code",
   "execution_count": 6,
   "id": "c791e26a-d7e9-4f48-ad06-b03c3dec2c94",
   "metadata": {},
   "outputs": [],
   "source": [
    "# Children[0] is an ipywidget label\n",
    "# \"Inputs\" is a VBox as is \"Outputs\"\n",
    "ne.node_editor.nodes[0].display_element.children[0].value = \"Test Name Node 1\""
   ]
  },
  {
   "cell_type": "code",
   "execution_count": 7,
   "id": "fb080bec-6770-4f12-b546-be113299dea8",
   "metadata": {},
   "outputs": [],
   "source": [
    "# Sample on how to add in widgets to the sidebar\n",
    "# slider = widgets.IntSlider()\n",
    "# ne.node_editor.nodes[0].display_element.children += (slider,)\n",
    "# slider.value = 10\n",
    "# slider"
   ]
  },
  {
   "cell_type": "code",
   "execution_count": 17,
   "id": "e542c30f-7b91-45f0-9652-52f9ec16f77f",
   "metadata": {},
   "outputs": [
    {
     "ename": "TraitError",
     "evalue": "The 'value' trait of an Image instance expected a bytes object, not the BufferedReader <_io.BufferedReader name='rainbow.png'>.",
     "output_type": "error",
     "traceback": [
      "\u001b[1;31m---------------------------------------------------------------------------\u001b[0m",
      "\u001b[1;31mTraitError\u001b[0m                                Traceback (most recent call last)",
      "\u001b[1;32m<ipython-input-17-a013cf092700>\u001b[0m in \u001b[0;36m<module>\u001b[1;34m\u001b[0m\n\u001b[0;32m     11\u001b[0m \u001b[1;31m# Test it out\u001b[0m\u001b[1;33m\u001b[0m\u001b[1;33m\u001b[0m\u001b[1;33m\u001b[0m\u001b[0m\n\u001b[0;32m     12\u001b[0m \u001b[1;32mwith\u001b[0m \u001b[0mopen\u001b[0m\u001b[1;33m(\u001b[0m\u001b[1;34m\"rainbow.png\"\u001b[0m\u001b[1;33m,\u001b[0m \u001b[1;34m\"rb\"\u001b[0m\u001b[1;33m)\u001b[0m \u001b[1;32mas\u001b[0m \u001b[0mtest\u001b[0m\u001b[1;33m:\u001b[0m\u001b[1;33m\u001b[0m\u001b[1;33m\u001b[0m\u001b[0m\n\u001b[1;32m---> 13\u001b[1;33m     \u001b[0mupdate_plot\u001b[0m\u001b[1;33m(\u001b[0m\u001b[0mtest\u001b[0m\u001b[1;33m)\u001b[0m\u001b[1;33m\u001b[0m\u001b[1;33m\u001b[0m\u001b[0m\n\u001b[0m",
      "\u001b[1;32m<ipython-input-17-a013cf092700>\u001b[0m in \u001b[0;36mupdate_plot\u001b[1;34m(new_plot)\u001b[0m\n\u001b[0;32m      7\u001b[0m \u001b[1;31m# Use this for changing the image\u001b[0m\u001b[1;33m\u001b[0m\u001b[1;33m\u001b[0m\u001b[1;33m\u001b[0m\u001b[0m\n\u001b[0;32m      8\u001b[0m \u001b[1;32mdef\u001b[0m \u001b[0mupdate_plot\u001b[0m\u001b[1;33m(\u001b[0m\u001b[0mnew_plot\u001b[0m\u001b[1;33m)\u001b[0m\u001b[1;33m:\u001b[0m\u001b[1;33m\u001b[0m\u001b[1;33m\u001b[0m\u001b[0m\n\u001b[1;32m----> 9\u001b[1;33m     \u001b[0mplotimg\u001b[0m\u001b[1;33m.\u001b[0m\u001b[0mvalue\u001b[0m \u001b[1;33m=\u001b[0m \u001b[0mnew_plot\u001b[0m\u001b[1;33m\u001b[0m\u001b[1;33m\u001b[0m\u001b[0m\n\u001b[0m\u001b[0;32m     10\u001b[0m \u001b[1;33m\u001b[0m\u001b[0m\n\u001b[0;32m     11\u001b[0m \u001b[1;31m# Test it out\u001b[0m\u001b[1;33m\u001b[0m\u001b[1;33m\u001b[0m\u001b[1;33m\u001b[0m\u001b[0m\n",
      "\u001b[1;32m~\\AppData\\Roaming\\Python\\Python38\\site-packages\\traitlets\\traitlets.py\u001b[0m in \u001b[0;36m__set__\u001b[1;34m(self, obj, value)\u001b[0m\n\u001b[0;32m    602\u001b[0m             \u001b[1;32mraise\u001b[0m \u001b[0mTraitError\u001b[0m\u001b[1;33m(\u001b[0m\u001b[1;34m'The \"%s\" trait is read-only.'\u001b[0m \u001b[1;33m%\u001b[0m \u001b[0mself\u001b[0m\u001b[1;33m.\u001b[0m\u001b[0mname\u001b[0m\u001b[1;33m)\u001b[0m\u001b[1;33m\u001b[0m\u001b[1;33m\u001b[0m\u001b[0m\n\u001b[0;32m    603\u001b[0m         \u001b[1;32melse\u001b[0m\u001b[1;33m:\u001b[0m\u001b[1;33m\u001b[0m\u001b[1;33m\u001b[0m\u001b[0m\n\u001b[1;32m--> 604\u001b[1;33m             \u001b[0mself\u001b[0m\u001b[1;33m.\u001b[0m\u001b[0mset\u001b[0m\u001b[1;33m(\u001b[0m\u001b[0mobj\u001b[0m\u001b[1;33m,\u001b[0m \u001b[0mvalue\u001b[0m\u001b[1;33m)\u001b[0m\u001b[1;33m\u001b[0m\u001b[1;33m\u001b[0m\u001b[0m\n\u001b[0m\u001b[0;32m    605\u001b[0m \u001b[1;33m\u001b[0m\u001b[0m\n\u001b[0;32m    606\u001b[0m     \u001b[1;32mdef\u001b[0m \u001b[0m_validate\u001b[0m\u001b[1;33m(\u001b[0m\u001b[0mself\u001b[0m\u001b[1;33m,\u001b[0m \u001b[0mobj\u001b[0m\u001b[1;33m,\u001b[0m \u001b[0mvalue\u001b[0m\u001b[1;33m)\u001b[0m\u001b[1;33m:\u001b[0m\u001b[1;33m\u001b[0m\u001b[1;33m\u001b[0m\u001b[0m\n",
      "\u001b[1;32m~\\AppData\\Roaming\\Python\\Python38\\site-packages\\traitlets\\traitlets.py\u001b[0m in \u001b[0;36mset\u001b[1;34m(self, obj, value)\u001b[0m\n\u001b[0;32m    576\u001b[0m \u001b[1;33m\u001b[0m\u001b[0m\n\u001b[0;32m    577\u001b[0m     \u001b[1;32mdef\u001b[0m \u001b[0mset\u001b[0m\u001b[1;33m(\u001b[0m\u001b[0mself\u001b[0m\u001b[1;33m,\u001b[0m \u001b[0mobj\u001b[0m\u001b[1;33m,\u001b[0m \u001b[0mvalue\u001b[0m\u001b[1;33m)\u001b[0m\u001b[1;33m:\u001b[0m\u001b[1;33m\u001b[0m\u001b[1;33m\u001b[0m\u001b[0m\n\u001b[1;32m--> 578\u001b[1;33m         \u001b[0mnew_value\u001b[0m \u001b[1;33m=\u001b[0m \u001b[0mself\u001b[0m\u001b[1;33m.\u001b[0m\u001b[0m_validate\u001b[0m\u001b[1;33m(\u001b[0m\u001b[0mobj\u001b[0m\u001b[1;33m,\u001b[0m \u001b[0mvalue\u001b[0m\u001b[1;33m)\u001b[0m\u001b[1;33m\u001b[0m\u001b[1;33m\u001b[0m\u001b[0m\n\u001b[0m\u001b[0;32m    579\u001b[0m         \u001b[1;32mtry\u001b[0m\u001b[1;33m:\u001b[0m\u001b[1;33m\u001b[0m\u001b[1;33m\u001b[0m\u001b[0m\n\u001b[0;32m    580\u001b[0m             \u001b[0mold_value\u001b[0m \u001b[1;33m=\u001b[0m \u001b[0mobj\u001b[0m\u001b[1;33m.\u001b[0m\u001b[0m_trait_values\u001b[0m\u001b[1;33m[\u001b[0m\u001b[0mself\u001b[0m\u001b[1;33m.\u001b[0m\u001b[0mname\u001b[0m\u001b[1;33m]\u001b[0m\u001b[1;33m\u001b[0m\u001b[1;33m\u001b[0m\u001b[0m\n",
      "\u001b[1;32m~\\AppData\\Roaming\\Python\\Python38\\site-packages\\traitlets\\traitlets.py\u001b[0m in \u001b[0;36m_validate\u001b[1;34m(self, obj, value)\u001b[0m\n\u001b[0;32m    608\u001b[0m             \u001b[1;32mreturn\u001b[0m \u001b[0mvalue\u001b[0m\u001b[1;33m\u001b[0m\u001b[1;33m\u001b[0m\u001b[0m\n\u001b[0;32m    609\u001b[0m         \u001b[1;32mif\u001b[0m \u001b[0mhasattr\u001b[0m\u001b[1;33m(\u001b[0m\u001b[0mself\u001b[0m\u001b[1;33m,\u001b[0m \u001b[1;34m'validate'\u001b[0m\u001b[1;33m)\u001b[0m\u001b[1;33m:\u001b[0m\u001b[1;33m\u001b[0m\u001b[1;33m\u001b[0m\u001b[0m\n\u001b[1;32m--> 610\u001b[1;33m             \u001b[0mvalue\u001b[0m \u001b[1;33m=\u001b[0m \u001b[0mself\u001b[0m\u001b[1;33m.\u001b[0m\u001b[0mvalidate\u001b[0m\u001b[1;33m(\u001b[0m\u001b[0mobj\u001b[0m\u001b[1;33m,\u001b[0m \u001b[0mvalue\u001b[0m\u001b[1;33m)\u001b[0m\u001b[1;33m\u001b[0m\u001b[1;33m\u001b[0m\u001b[0m\n\u001b[0m\u001b[0;32m    611\u001b[0m         \u001b[1;32mif\u001b[0m \u001b[0mobj\u001b[0m\u001b[1;33m.\u001b[0m\u001b[0m_cross_validation_lock\u001b[0m \u001b[1;32mis\u001b[0m \u001b[1;32mFalse\u001b[0m\u001b[1;33m:\u001b[0m\u001b[1;33m\u001b[0m\u001b[1;33m\u001b[0m\u001b[0m\n\u001b[0;32m    612\u001b[0m             \u001b[0mvalue\u001b[0m \u001b[1;33m=\u001b[0m \u001b[0mself\u001b[0m\u001b[1;33m.\u001b[0m\u001b[0m_cross_validate\u001b[0m\u001b[1;33m(\u001b[0m\u001b[0mobj\u001b[0m\u001b[1;33m,\u001b[0m \u001b[0mvalue\u001b[0m\u001b[1;33m)\u001b[0m\u001b[1;33m\u001b[0m\u001b[1;33m\u001b[0m\u001b[0m\n",
      "\u001b[1;32m~\\AppData\\Roaming\\Python\\Python38\\site-packages\\traitlets\\traitlets.py\u001b[0m in \u001b[0;36mvalidate\u001b[1;34m(self, obj, value)\u001b[0m\n\u001b[0;32m   2138\u001b[0m         \u001b[1;32mif\u001b[0m \u001b[0misinstance\u001b[0m\u001b[1;33m(\u001b[0m\u001b[0mvalue\u001b[0m\u001b[1;33m,\u001b[0m \u001b[0mbytes\u001b[0m\u001b[1;33m)\u001b[0m\u001b[1;33m:\u001b[0m\u001b[1;33m\u001b[0m\u001b[1;33m\u001b[0m\u001b[0m\n\u001b[0;32m   2139\u001b[0m             \u001b[1;32mreturn\u001b[0m \u001b[0mvalue\u001b[0m\u001b[1;33m\u001b[0m\u001b[1;33m\u001b[0m\u001b[0m\n\u001b[1;32m-> 2140\u001b[1;33m         \u001b[0mself\u001b[0m\u001b[1;33m.\u001b[0m\u001b[0merror\u001b[0m\u001b[1;33m(\u001b[0m\u001b[0mobj\u001b[0m\u001b[1;33m,\u001b[0m \u001b[0mvalue\u001b[0m\u001b[1;33m)\u001b[0m\u001b[1;33m\u001b[0m\u001b[1;33m\u001b[0m\u001b[0m\n\u001b[0m\u001b[0;32m   2141\u001b[0m \u001b[1;33m\u001b[0m\u001b[0m\n\u001b[0;32m   2142\u001b[0m     \u001b[1;32mdef\u001b[0m \u001b[0mfrom_string\u001b[0m\u001b[1;33m(\u001b[0m\u001b[0mself\u001b[0m\u001b[1;33m,\u001b[0m \u001b[0ms\u001b[0m\u001b[1;33m)\u001b[0m\u001b[1;33m:\u001b[0m\u001b[1;33m\u001b[0m\u001b[1;33m\u001b[0m\u001b[0m\n",
      "\u001b[1;32m~\\AppData\\Roaming\\Python\\Python38\\site-packages\\traitlets\\traitlets.py\u001b[0m in \u001b[0;36merror\u001b[1;34m(self, obj, value, error, info)\u001b[0m\n\u001b[0;32m    688\u001b[0m                     e = \"The '%s' trait expected %s, not %s.\" % (\n\u001b[0;32m    689\u001b[0m                         self.name, self.info(), describe(\"the\", value))\n\u001b[1;32m--> 690\u001b[1;33m                 \u001b[1;32mraise\u001b[0m \u001b[0mTraitError\u001b[0m\u001b[1;33m(\u001b[0m\u001b[0me\u001b[0m\u001b[1;33m)\u001b[0m\u001b[1;33m\u001b[0m\u001b[1;33m\u001b[0m\u001b[0m\n\u001b[0m\u001b[0;32m    691\u001b[0m \u001b[1;33m\u001b[0m\u001b[0m\n\u001b[0;32m    692\u001b[0m     \u001b[1;32mdef\u001b[0m \u001b[0mget_metadata\u001b[0m\u001b[1;33m(\u001b[0m\u001b[0mself\u001b[0m\u001b[1;33m,\u001b[0m \u001b[0mkey\u001b[0m\u001b[1;33m,\u001b[0m \u001b[0mdefault\u001b[0m\u001b[1;33m=\u001b[0m\u001b[1;32mNone\u001b[0m\u001b[1;33m)\u001b[0m\u001b[1;33m:\u001b[0m\u001b[1;33m\u001b[0m\u001b[1;33m\u001b[0m\u001b[0m\n",
      "\u001b[1;31mTraitError\u001b[0m: The 'value' trait of an Image instance expected a bytes object, not the BufferedReader <_io.BufferedReader name='rainbow.png'>."
     ]
    }
   ],
   "source": [
    "# Work on the plot here\n",
    "# Open initial sample plot png\n",
    "with open(\"flake.png\", \"rb\") as f:\n",
    "    image = f.read()\n",
    "plotimg = widgets.Image(value = image, format = \"png\")\n",
    "\n",
    "# Use this for changing the image\n",
    "def update_plot(new_plot):\n",
    "    plotimg.value = new_plot\n",
    "    \n",
    "# Test it out\n",
    "with open(\"rainbow.png\", \"rb\") as test:\n",
    "    new_plot = test.read()\n",
    "    update_plot(new_plot)"
   ]
  },
  {
   "cell_type": "code",
   "execution_count": 11,
   "id": "48d0abad-bda4-4877-9544-c8e056dd6a9b",
   "metadata": {},
   "outputs": [],
   "source": [
    "ne.node_editor.nodes[0].display_element.children += (plotimg,)"
   ]
  },
  {
   "cell_type": "code",
   "execution_count": null,
   "id": "912dda8e-4588-4a25-b80d-499c09ecac03",
   "metadata": {},
   "outputs": [],
   "source": []
  }
 ],
 "metadata": {
  "kernelspec": {
   "display_name": "yggJLNE",
   "language": "python",
   "name": "yggjlne"
  },
  "language_info": {
   "codemirror_mode": {
    "name": "ipython",
    "version": 3
   },
   "file_extension": ".py",
   "mimetype": "text/x-python",
   "name": "python",
   "nbconvert_exporter": "python",
   "pygments_lexer": "ipython3",
   "version": "3.8.12"
  }
 },
 "nbformat": 4,
 "nbformat_minor": 5
}
